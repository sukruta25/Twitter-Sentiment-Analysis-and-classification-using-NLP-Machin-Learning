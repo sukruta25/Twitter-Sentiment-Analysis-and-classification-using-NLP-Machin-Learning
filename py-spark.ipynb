{
 "cells": [
  {
   "cell_type": "code",
   "execution_count": null,
   "metadata": {
    "application/vnd.databricks.v1+cell": {
     "cellMetadata": {
      "byteLimit": 2048000,
      "rowLimit": 10000
     },
     "inputWidgets": {},
     "nuid": "a54d1eab-4b88-4238-8274-854635aca382",
     "showTitle": false,
     "title": ""
    }
   },
   "outputs": [],
   "source": [
    "from pyspark.sql import SparkSession\n",
    "\n",
    "# Initialize Spark session with increased memory and network buffer size\n",
    "spark = SparkSession.builder \\\n",
    "    .appName(\"FinalProject\") \\\n",
    "    .master(\"local[*]\") \\\n",
    "    .config(\"spark.driver.memory\", \"4g\") \\\n",
    "    .config(\"spark.executor.memory\", \"4g\") \\\n",
    "    .config(\"spark.driver.host\", \"127.0.0.1\") \\\n",
    "    .config(\"spark.driver.bindAddress\", \"127.0.0.1\") \\\n",
    "    .config(\"spark.network.timeout\", \"600s\") \\\n",
    "    .config(\"spark.executor.heartbeatInterval\", \"100s\") \\\n",
    "    .config(\"spark.shuffle.file.buffer\", \"1m\") \\\n",
    "    .config(\"spark.reducer.maxSizeInFlight\", \"96m\") \\\n",
    "    .getOrCreate()"
   ]
  },
  {
   "cell_type": "code",
   "execution_count": null,
   "metadata": {
    "application/vnd.databricks.v1+cell": {
     "cellMetadata": {
      "byteLimit": 2048000,
      "rowLimit": 10000
     },
     "inputWidgets": {},
     "nuid": "f10c2d85-1891-4479-945e-038540667daf",
     "showTitle": false,
     "title": ""
    }
   },
   "outputs": [
    {
     "name": "stdout",
     "output_type": "stream",
     "text": [
      "<SparkContext master=local[*, 4] appName=Databricks Shell>\n"
     ]
    }
   ],
   "source": [
    "print(spark.sparkContext)"
   ]
  },
  {
   "cell_type": "code",
   "execution_count": null,
   "metadata": {
    "application/vnd.databricks.v1+cell": {
     "cellMetadata": {
      "byteLimit": 2048000,
      "rowLimit": 10000
     },
     "inputWidgets": {},
     "nuid": "ea3d8253-f35d-421f-b5d1-0fe58bd558c1",
     "showTitle": false,
     "title": ""
    }
   },
   "outputs": [
    {
     "data": {
      "text/html": [
       "\n",
       "            <div>\n",
       "                <p><b>SparkSession - hive</b></p>\n",
       "                \n",
       "        <div>\n",
       "            <p><b>SparkContext</b></p>\n",
       "\n",
       "            <p><a href=\"/?o=3248598347993290#setting/sparkui/0810-153736-2ioyvkdq/driver-4058677391866611153\">Spark UI</a></p>\n",
       "\n",
       "            <dl>\n",
       "              <dt>Version</dt>\n",
       "                <dd><code>v3.5.0</code></dd>\n",
       "              <dt>Master</dt>\n",
       "                <dd><code>local[*, 4]</code></dd>\n",
       "              <dt>AppName</dt>\n",
       "                <dd><code>Databricks Shell</code></dd>\n",
       "            </dl>\n",
       "        </div>\n",
       "        \n",
       "            </div>\n",
       "        "
      ],
      "text/plain": [
       "<pyspark.sql.session.SparkSession at 0x7f284cc74950>"
      ]
     },
     "execution_count": 3,
     "metadata": {},
     "output_type": "execute_result"
    }
   ],
   "source": [
    "spark"
   ]
  },
  {
   "cell_type": "code",
   "execution_count": null,
   "metadata": {
    "application/vnd.databricks.v1+cell": {
     "cellMetadata": {
      "byteLimit": 2048000,
      "rowLimit": 10000
     },
     "inputWidgets": {},
     "nuid": "643877f1-9f2b-4529-9674-fa9e9587c462",
     "showTitle": false,
     "title": ""
    }
   },
   "outputs": [],
   "source": [
    "# Set the storage account access key\n",
    "spark.conf.set(\"spark.hadoop.fs.azure.account.key._username_.blob.core.windows.net\", \"_key_\")"
   ]
  },
  {
   "cell_type": "code",
   "execution_count": null,
   "metadata": {
    "application/vnd.databricks.v1+cell": {
     "cellMetadata": {
      "byteLimit": 2048000,
      "rowLimit": 10000
     },
     "inputWidgets": {},
     "nuid": "81dc22dd-a549-4eff-a035-81eccbd39ef1",
     "showTitle": false,
     "title": ""
    }
   },
   "outputs": [],
   "source": [
    "# Load data from the CSV file\n",
    "df = spark.read.csv(\"wasbs://_username_and_containername.blob.core.windows.net/final_dataset_twitter.csv\", header=True, inferSchema=True)"
   ]
  },
  {
   "cell_type": "markdown",
   "metadata": {},
   "source": []
  },
  {
   "cell_type": "code",
   "execution_count": null,
   "metadata": {
    "application/vnd.databricks.v1+cell": {
     "cellMetadata": {
      "byteLimit": 2048000,
      "rowLimit": 10000
     },
     "inputWidgets": {},
     "nuid": "458f4ea5-becd-4fb3-b763-1c552e3ebaba",
     "showTitle": false,
     "title": ""
    }
   },
   "outputs": [
    {
     "name": "stdout",
     "output_type": "stream",
     "text": [
      "+---+------+--------------------+\n",
      "|_c0|target|                text|\n",
      "+---+------+--------------------+\n",
      "|  0|     0|@switchfoot http:...|\n",
      "|  1|     0|is upset that he ...|\n",
      "|  2|     0|@Kenichan I dived...|\n",
      "|  3|     0|my whole body fee...|\n",
      "|  4|     0|@nationwideclass ...|\n",
      "|  5|     0|@Kwesidei not the...|\n",
      "|  6|     0|         Need a hug |\n",
      "|  7|     0|@LOLTrish hey  lo...|\n",
      "|  8|     0|@Tatiana_K nope t...|\n",
      "|  9|     0|@twittera que me ...|\n",
      "| 10|     0|spring break in p...|\n",
      "| 11|     0|I just re-pierced...|\n",
      "| 12|     0|@caregiving I cou...|\n",
      "| 13|     0|@octolinz16 It it...|\n",
      "| 14|     0|@smarrison i woul...|\n",
      "| 15|     0|@iamjazzyfizzle I...|\n",
      "| 16|     0|Hollis' death sce...|\n",
      "| 17|     0|about to file taxes |\n",
      "| 18|     0|@LettyA ahh ive a...|\n",
      "| 19|     0|@FakerPattyPattz ...|\n",
      "+---+------+--------------------+\n",
      "only showing top 20 rows\n",
      "\n"
     ]
    }
   ],
   "source": [
    "df.show()"
   ]
  },
  {
   "cell_type": "code",
   "execution_count": null,
   "metadata": {
    "application/vnd.databricks.v1+cell": {
     "cellMetadata": {
      "byteLimit": 2048000,
      "rowLimit": 10000
     },
     "inputWidgets": {},
     "nuid": "ffbf5c7c-8c45-4292-a2b0-8507f5315102",
     "showTitle": false,
     "title": ""
    }
   },
   "outputs": [],
   "source": [
    "df = df.drop(\"_c0\")"
   ]
  },
  {
   "cell_type": "code",
   "execution_count": null,
   "metadata": {
    "application/vnd.databricks.v1+cell": {
     "cellMetadata": {
      "byteLimit": 2048000,
      "rowLimit": 10000
     },
     "inputWidgets": {},
     "nuid": "7d658820-f059-4e43-a57e-f4c8f81c8285",
     "showTitle": false,
     "title": ""
    }
   },
   "outputs": [
    {
     "name": "stdout",
     "output_type": "stream",
     "text": [
      "root\n",
      " |-- target: integer (nullable = true)\n",
      " |-- text: string (nullable = true)\n",
      "\n"
     ]
    }
   ],
   "source": [
    "df.printSchema()"
   ]
  },
  {
   "cell_type": "code",
   "execution_count": null,
   "metadata": {
    "application/vnd.databricks.v1+cell": {
     "cellMetadata": {
      "byteLimit": 2048000,
      "rowLimit": 10000
     },
     "inputWidgets": {},
     "nuid": "45f06086-8369-49e4-9ebc-2a768a1312f0",
     "showTitle": false,
     "title": ""
    }
   },
   "outputs": [
    {
     "name": "stdout",
     "output_type": "stream",
     "text": [
      "+------+--------------------+\n",
      "|target|                text|\n",
      "+------+--------------------+\n",
      "|     0|@switchfoot http:...|\n",
      "|     0|is upset that he ...|\n",
      "|     0|@Kenichan I dived...|\n",
      "|     0|my whole body fee...|\n",
      "|     0|@nationwideclass ...|\n",
      "|     0|@Kwesidei not the...|\n",
      "|     0|         Need a hug |\n",
      "|     0|@LOLTrish hey  lo...|\n",
      "|     0|@Tatiana_K nope t...|\n",
      "|     0|@twittera que me ...|\n",
      "|     0|spring break in p...|\n",
      "|     0|I just re-pierced...|\n",
      "|     0|@caregiving I cou...|\n",
      "|     0|@octolinz16 It it...|\n",
      "|     0|@smarrison i woul...|\n",
      "|     0|@iamjazzyfizzle I...|\n",
      "|     0|Hollis' death sce...|\n",
      "|     0|about to file taxes |\n",
      "|     0|@LettyA ahh ive a...|\n",
      "|     0|@FakerPattyPattz ...|\n",
      "+------+--------------------+\n",
      "only showing top 20 rows\n",
      "\n"
     ]
    }
   ],
   "source": [
    "df.show()"
   ]
  },
  {
   "cell_type": "code",
   "execution_count": null,
   "metadata": {
    "application/vnd.databricks.v1+cell": {
     "cellMetadata": {
      "byteLimit": 2048000,
      "rowLimit": 10000
     },
     "inputWidgets": {},
     "nuid": "9bb5190f-a2e7-4122-b923-c962dacb87e7",
     "showTitle": false,
     "title": ""
    }
   },
   "outputs": [
    {
     "name": "stdout",
     "output_type": "stream",
     "text": [
      "+-------------------------------------------------------------------------------------------------------+-----+\n",
      "|text                                                                                                   |count|\n",
      "+-------------------------------------------------------------------------------------------------------+-----+\n",
      "|isPlayer Has Died! Sorry                                                                               |210  |\n",
      "|good morning                                                                                           |118  |\n",
      "|headache                                                                                               |115  |\n",
      "|Good morning                                                                                           |112  |\n",
      "|Headache                                                                                               |106  |\n",
      "| cant afford to see Angels and Demons, so i watched it for free: http://tr.im/lvBu                     |86   |\n",
      "|Not to worry, noone got that one. Next question starts in 1 minute, get your thinking caps on          |86   |\n",
      "|Goodnight                                                                                              |85   |\n",
      "|my tummy hurts                                                                                         |81   |\n",
      "|Jogging, isnt REALLY that cool, especially if you've got a fever                                       |80   |\n",
      "|at work                                                                                                |77   |\n",
      "|I am so so so so so bored of studying                                                                  |76   |\n",
      "|goodnight                                                                                              |70   |\n",
      "|At work                                                                                                |67   |\n",
      "|My tummy hurts                                                                                         |67   |\n",
      "|Need to send emails to 100,000  contacts? Check out EmailUnlimited on http://www.4officeautomation.com |67   |\n",
      "|Good Morning                                                                                           |64   |\n",
      "|my head hurts                                                                                          |54   |\n",
      "|homework                                                                                               |53   |\n",
      "|Off to work                                                                                            |52   |\n",
      "+-------------------------------------------------------------------------------------------------------+-----+\n",
      "only showing top 20 rows\n",
      "\n"
     ]
    }
   ],
   "source": [
    "from pyspark.sql.functions import col, count\n",
    "\n",
    "# Group by the \"text\" column, count occurrences, and filter duplicates\n",
    "duplicate_cleaned_rows = df.groupBy(\"text\") \\\n",
    "                           .agg(count(\"*\").alias(\"count\")) \\\n",
    "                           .filter(col(\"count\") > 1) \\\n",
    "                           .orderBy(col(\"count\").desc())\n",
    "\n",
    "# Show the duplicate rows ordered by count\n",
    "duplicate_cleaned_rows.show(truncate=False)"
   ]
  },
  {
   "cell_type": "code",
   "execution_count": null,
   "metadata": {
    "application/vnd.databricks.v1+cell": {
     "cellMetadata": {
      "byteLimit": 2048000,
      "rowLimit": 10000
     },
     "inputWidgets": {},
     "nuid": "78bb920d-8352-4938-92b7-de2c74cd72f3",
     "showTitle": false,
     "title": ""
    }
   },
   "outputs": [
    {
     "data": {
      "text/plain": [
       "0"
      ]
     },
     "execution_count": 11,
     "metadata": {},
     "output_type": "execute_result"
    }
   ],
   "source": [
    "# Drop duplicate rows based on the \"text\" column\n",
    "distinct_df = df.dropDuplicates([\"text\"])\n",
    "\n",
    "# Step 2: Check for remaining duplicates\n",
    "remaining_duplicates = distinct_df.groupBy(\"text\") \\\n",
    "                                       .agg(count(\"*\").alias(\"count\")) \\\n",
    "                                       .filter(col(\"count\") > 1)\n",
    "\n",
    "# Check the count of remaining duplicates\n",
    "remaining_duplicates.count()"
   ]
  },
  {
   "cell_type": "code",
   "execution_count": null,
   "metadata": {
    "application/vnd.databricks.v1+cell": {
     "cellMetadata": {
      "byteLimit": 2048000,
      "rowLimit": 10000
     },
     "inputWidgets": {},
     "nuid": "18f83304-d9eb-420e-b4ea-8bb704ec9583",
     "showTitle": false,
     "title": ""
    }
   },
   "outputs": [],
   "source": [
    "# Split the new DataFrame into training and testing sets\n",
    "train_df, test_df = distinct_df.randomSplit([0.75, 0.25], seed=1234)"
   ]
  },
  {
   "cell_type": "code",
   "execution_count": null,
   "metadata": {
    "application/vnd.databricks.v1+cell": {
     "cellMetadata": {
      "byteLimit": 2048000,
      "rowLimit": 10000
     },
     "inputWidgets": {},
     "nuid": "afe17f3c-b73d-48a0-897a-ac5cc6ae300b",
     "showTitle": false,
     "title": ""
    }
   },
   "outputs": [
    {
     "name": "stdout",
     "output_type": "stream",
     "text": [
      "Total rows in training DataFrame: 1186100\n",
      "Total rows in testing DataFrame: 395366\n"
     ]
    }
   ],
   "source": [
    "# Show the counts to ensure the split worked correctly\n",
    "print(f\"Total rows in training DataFrame: {train_df.count()}\")\n",
    "print(f\"Total rows in testing DataFrame: {test_df.count()}\")"
   ]
  },
  {
   "cell_type": "markdown",
   "metadata": {
    "application/vnd.databricks.v1+cell": {
     "cellMetadata": {},
     "inputWidgets": {},
     "nuid": "57e771b0-ec19-45bc-aa90-5c5fd9e547a5",
     "showTitle": false,
     "title": ""
    }
   },
   "source": [
    "# text cleaning on training"
   ]
  },
  {
   "cell_type": "code",
   "execution_count": null,
   "metadata": {
    "application/vnd.databricks.v1+cell": {
     "cellMetadata": {
      "byteLimit": 2048000,
      "rowLimit": 10000
     },
     "inputWidgets": {},
     "nuid": "e21c367e-01b5-4aea-a7c2-8898d5a1ad15",
     "showTitle": false,
     "title": ""
    }
   },
   "outputs": [],
   "source": [
    "from pyspark.ml.feature import RegexTokenizer, StopWordsRemover, CountVectorizer\n",
    "from pyspark.sql.functions import col, udf, lower, regexp_replace\n",
    "from pyspark.sql.types import StringType"
   ]
  },
  {
   "cell_type": "code",
   "execution_count": null,
   "metadata": {
    "application/vnd.databricks.v1+cell": {
     "cellMetadata": {
      "byteLimit": 2048000,
      "rowLimit": 10000
     },
     "inputWidgets": {},
     "nuid": "e56670ae-3c3c-425e-9a0d-ac90da0292c9",
     "showTitle": false,
     "title": ""
    }
   },
   "outputs": [],
   "source": [
    "def clean_text(df, column_name):\n",
    "    df = df.withColumn(column_name, regexp_replace(col(column_name), r\"http\\S+\", \"\"))  # Remove URLs\n",
    "    df = df.withColumn(column_name, regexp_replace(col(column_name), r\"@\\w+\", \"\"))     # Remove mentions\n",
    "    df = df.withColumn(column_name, regexp_replace(col(column_name), r\"[^a-zA-Z\\s]\", \"\"))  # Remove non-alphabetic characters\n",
    "    df = df.withColumn(column_name, lower(col(column_name)))  # Convert to lowercase\n",
    "    return df"
   ]
  },
  {
   "cell_type": "code",
   "execution_count": null,
   "metadata": {
    "application/vnd.databricks.v1+cell": {
     "cellMetadata": {
      "byteLimit": 2048000,
      "rowLimit": 10000
     },
     "inputWidgets": {},
     "nuid": "eb746b45-635e-47a5-9efe-d9b39434b653",
     "showTitle": false,
     "title": ""
    }
   },
   "outputs": [],
   "source": [
    "train_cleaned_df = clean_text(train_df, \"text\")"
   ]
  },
  {
   "cell_type": "code",
   "execution_count": null,
   "metadata": {
    "application/vnd.databricks.v1+cell": {
     "cellMetadata": {
      "byteLimit": 2048000,
      "rowLimit": 10000
     },
     "inputWidgets": {},
     "nuid": "6ec670db-7f0b-40d1-ab8b-efea62cf7b08",
     "showTitle": false,
     "title": ""
    }
   },
   "outputs": [
    {
     "name": "stdout",
     "output_type": "stream",
     "text": [
      "+------+--------------------+\n",
      "|target|                text|\n",
      "+------+--------------------+\n",
      "|     0|      i must thin...|\n",
      "|     0|     ill get on i...|\n",
      "|     0|    lt this is th...|\n",
      "|     0|    i miss my sum...|\n",
      "|     0|   awwwwwh  i wan...|\n",
      "|     0|   boston globe c...|\n",
      "|     0|   from gongwer o...|\n",
      "|     0|   im sick of bed...|\n",
      "|     0|   im thinking of...|\n",
      "|     0|   j you are righ...|\n",
      "|     0|   cant be bother...|\n",
      "|     0|    i dont even know|\n",
      "|     0|   i still feel l...|\n",
      "|     0|   i want an octo...|\n",
      "|     0|   i wish i could...|\n",
      "|     0|   kinda but not ...|\n",
      "|     0|      no shopping   |\n",
      "|     0|    not at all happy|\n",
      "|     0|   sigh   ok wher...|\n",
      "|     0|  whats wrong wit it|\n",
      "+------+--------------------+\n",
      "only showing top 20 rows\n",
      "\n"
     ]
    }
   ],
   "source": [
    "train_cleaned_df.show()"
   ]
  },
  {
   "cell_type": "code",
   "execution_count": null,
   "metadata": {
    "application/vnd.databricks.v1+cell": {
     "cellMetadata": {
      "byteLimit": 2048000,
      "rowLimit": 10000
     },
     "inputWidgets": {},
     "nuid": "2dccf0ce-b57e-4000-bf20-4ca99a7fb48f",
     "showTitle": false,
     "title": ""
    }
   },
   "outputs": [
    {
     "name": "stdout",
     "output_type": "stream",
     "text": [
      "+------------------------------------------------------------------------------------------------------+-----+\n",
      "|text                                                                                                  |count|\n",
      "+------------------------------------------------------------------------------------------------------+-----+\n",
      "|                                                                                                      |1788 |\n",
      "| thanks                                                                                               |1286 |\n",
      "| thank you                                                                                            |799  |\n",
      "| get  followers a day using wwwtweeteraddercom once you add everyone you are on the train or pay vip  |601  |\n",
      "| get  followers a day using wwwtweeterfollowcom once you add everyone you are on the train or pay vip |489  |\n",
      "| i am lost please help me find a good home                                                            |405  |\n",
      "| me too                                                                                               |356  |\n",
      "| i know                                                                                               |284  |\n",
      "| good morning                                                                                         |280  |\n",
      "| youre welcome                                                                                        |262  |\n",
      "|                                                                                                      |247  |\n",
      "| happy birthday                                                                                       |178  |\n",
      "| good luck                                                                                            |160  |\n",
      "| whats wrong                                                                                          |158  |\n",
      "| i miss you                                                                                           |147  |\n",
      "|                                                                                                      |144  |\n",
      "| hey                                                                                                  |140  |\n",
      "| that sucks                                                                                           |124  |\n",
      "| yeah                                                                                                 |122  |\n",
      "| yes                                                                                                  |121  |\n",
      "+------------------------------------------------------------------------------------------------------+-----+\n",
      "only showing top 20 rows\n",
      "\n"
     ]
    }
   ],
   "source": [
    "from pyspark.sql.functions import col, count\n",
    "\n",
    "# Group by the \"cleaned_words\" column, count occurrences, and filter duplicates\n",
    "duplicate_cleaned_rows = train_cleaned_df.groupBy(\"text\") \\\n",
    "                                         .agg(count(\"*\").alias(\"count\")) \\\n",
    "                                         .filter(col(\"count\") > 1) \\\n",
    "                                         .orderBy(col(\"count\").desc())\n",
    "\n",
    "# Show the duplicate rows ordered by count\n",
    "duplicate_cleaned_rows.show(truncate=False)"
   ]
  },
  {
   "cell_type": "code",
   "execution_count": null,
   "metadata": {
    "application/vnd.databricks.v1+cell": {
     "cellMetadata": {
      "byteLimit": 2048000,
      "rowLimit": 10000
     },
     "inputWidgets": {},
     "nuid": "fea78617-b98e-4951-a067-fc59e82a467e",
     "showTitle": false,
     "title": ""
    }
   },
   "outputs": [
    {
     "data": {
      "text/plain": [
       "0"
      ]
     },
     "execution_count": 19,
     "metadata": {},
     "output_type": "execute_result"
    }
   ],
   "source": [
    "# Drop duplicate rows based on the \"text\" column\n",
    "train_cleaned_df = train_cleaned_df.dropDuplicates([\"text\"])\n",
    "\n",
    "# Step 2: Check for remaining duplicates\n",
    "remaining_duplicates = train_cleaned_df.groupBy(\"text\") \\\n",
    "                                       .agg(count(\"*\").alias(\"count\")) \\\n",
    "                                       .filter(col(\"count\") > 1)\n",
    "\n",
    "# Check the count of remaining duplicates\n",
    "remaining_duplicates.count()"
   ]
  },
  {
   "cell_type": "markdown",
   "metadata": {
    "application/vnd.databricks.v1+cell": {
     "cellMetadata": {},
     "inputWidgets": {},
     "nuid": "53d664ff-7b12-431c-8ee8-a70269c66f8c",
     "showTitle": false,
     "title": ""
    }
   },
   "source": [
    "# text cleaning on testing data"
   ]
  },
  {
   "cell_type": "code",
   "execution_count": null,
   "metadata": {
    "application/vnd.databricks.v1+cell": {
     "cellMetadata": {
      "byteLimit": 2048000,
      "rowLimit": 10000
     },
     "inputWidgets": {},
     "nuid": "08880413-8304-486d-810a-a6bb7559fae6",
     "showTitle": false,
     "title": ""
    }
   },
   "outputs": [],
   "source": [
    "test_cleaned_df = clean_text(test_df, \"text\")"
   ]
  },
  {
   "cell_type": "code",
   "execution_count": null,
   "metadata": {
    "application/vnd.databricks.v1+cell": {
     "cellMetadata": {
      "byteLimit": 2048000,
      "rowLimit": 10000
     },
     "inputWidgets": {},
     "nuid": "496f1c8f-5ee3-4b8e-9ef4-a62d7908a61a",
     "showTitle": false,
     "title": ""
    }
   },
   "outputs": [
    {
     "name": "stdout",
     "output_type": "stream",
     "text": [
      "+------+--------------------+\n",
      "|target|                text|\n",
      "+------+--------------------+\n",
      "|     0|     lt but musta...|\n",
      "|     0|    not feeling i...|\n",
      "|     0|         enough said|\n",
      "|     0|  another expensi...|\n",
      "|     0|  anyone in dfw w...|\n",
      "|     0|  cats in the cra...|\n",
      "|     0|  exercise  build...|\n",
      "|     0|  hoegaarden chee...|\n",
      "|     0|  i am so sad i l...|\n",
      "|     0|  i dont want my ...|\n",
      "|     0|  i think manuel ...|\n",
      "|     0|  to all the moth...|\n",
      "|     0|  why arent there...|\n",
      "|     0|    but i understand|\n",
      "|     0|  forgot my lunch...|\n",
      "|     0|  friends are lea...|\n",
      "|     0|  i hate being at...|\n",
      "|     0|  missing my jenn...|\n",
      "|     0|  no movie times ...|\n",
      "|     0|  side tracked  g...|\n",
      "+------+--------------------+\n",
      "only showing top 20 rows\n",
      "\n"
     ]
    }
   ],
   "source": [
    "test_cleaned_df.show()"
   ]
  },
  {
   "cell_type": "code",
   "execution_count": null,
   "metadata": {
    "application/vnd.databricks.v1+cell": {
     "cellMetadata": {
      "byteLimit": 2048000,
      "rowLimit": 10000
     },
     "inputWidgets": {},
     "nuid": "b9c89f07-b314-4529-94d8-a3e1fedd8b1a",
     "showTitle": false,
     "title": ""
    }
   },
   "outputs": [
    {
     "name": "stdout",
     "output_type": "stream",
     "text": [
      "+------------------------------------------------------------------------------------------------------+-----+\n",
      "|text                                                                                                  |count|\n",
      "+------------------------------------------------------------------------------------------------------+-----+\n",
      "|                                                                                                      |564  |\n",
      "| thanks                                                                                               |416  |\n",
      "| thank you                                                                                            |285  |\n",
      "| get  followers a day using wwwtweeteraddercom once you add everyone you are on the train or pay vip  |195  |\n",
      "| get  followers a day using wwwtweeterfollowcom once you add everyone you are on the train or pay vip |162  |\n",
      "| i am lost please help me find a good home                                                            |144  |\n",
      "| me too                                                                                               |128  |\n",
      "|                                                                                                      |100  |\n",
      "| good morning                                                                                         |98   |\n",
      "| i know                                                                                               |87   |\n",
      "| youre welcome                                                                                        |66   |\n",
      "| good luck                                                                                            |64   |\n",
      "| i miss you                                                                                           |56   |\n",
      "| hey                                                                                                  |56   |\n",
      "| happy birthday                                                                                       |55   |\n",
      "| that sucks                                                                                           |50   |\n",
      "| yes                                                                                                  |45   |\n",
      "| your welcome                                                                                         |44   |\n",
      "| why                                                                                                  |42   |\n",
      "|                                                                                                      |42   |\n",
      "+------------------------------------------------------------------------------------------------------+-----+\n",
      "only showing top 20 rows\n",
      "\n"
     ]
    }
   ],
   "source": [
    "from pyspark.sql.functions import col, count\n",
    "\n",
    "# Group by the \"text\" column, count occurrences, and filter duplicates\n",
    "duplicate_cleaned_rows = test_cleaned_df.groupBy(\"text\") \\\n",
    "                           .agg(count(\"*\").alias(\"count\")) \\\n",
    "                           .filter(col(\"count\") > 1) \\\n",
    "                           .orderBy(col(\"count\").desc())\n",
    "\n",
    "# Show the duplicate rows ordered by count\n",
    "duplicate_cleaned_rows.show(truncate=False)"
   ]
  },
  {
   "cell_type": "code",
   "execution_count": null,
   "metadata": {
    "application/vnd.databricks.v1+cell": {
     "cellMetadata": {
      "byteLimit": 2048000,
      "rowLimit": 10000
     },
     "inputWidgets": {},
     "nuid": "34f5ea08-b94c-4a41-8322-58e198637711",
     "showTitle": false,
     "title": ""
    }
   },
   "outputs": [
    {
     "data": {
      "text/plain": [
       "0"
      ]
     },
     "execution_count": 23,
     "metadata": {},
     "output_type": "execute_result"
    }
   ],
   "source": [
    "# Drop duplicate rows based on the \"text\" column\n",
    "test_cleaned_df = test_cleaned_df.dropDuplicates([\"text\"])\n",
    "\n",
    "# Step 2: Check for remaining duplicates\n",
    "remaining_duplicates = test_cleaned_df.groupBy(\"text\") \\\n",
    "                                       .agg(count(\"*\").alias(\"count\")) \\\n",
    "                                       .filter(col(\"count\") > 1)\n",
    "\n",
    "# Check the count of remaining duplicates\n",
    "remaining_duplicates.count()"
   ]
  },
  {
   "cell_type": "markdown",
   "metadata": {
    "application/vnd.databricks.v1+cell": {
     "cellMetadata": {},
     "inputWidgets": {},
     "nuid": "d404bb43-e45a-40da-b312-9df6e179aea4",
     "showTitle": false,
     "title": ""
    }
   },
   "source": [
    "# Tokenization on train data"
   ]
  },
  {
   "cell_type": "code",
   "execution_count": null,
   "metadata": {
    "application/vnd.databricks.v1+cell": {
     "cellMetadata": {
      "byteLimit": 2048000,
      "rowLimit": 10000
     },
     "inputWidgets": {},
     "nuid": "9b403220-bef4-4ef4-9294-a6b9a42cb170",
     "showTitle": false,
     "title": ""
    }
   },
   "outputs": [],
   "source": [
    "from pyspark.ml.feature import Tokenizer"
   ]
  },
  {
   "cell_type": "code",
   "execution_count": null,
   "metadata": {
    "application/vnd.databricks.v1+cell": {
     "cellMetadata": {
      "byteLimit": 2048000,
      "rowLimit": 10000
     },
     "inputWidgets": {},
     "nuid": "1c0826a6-d3c6-454d-a332-7496297b7514",
     "showTitle": false,
     "title": ""
    }
   },
   "outputs": [],
   "source": [
    "from pyspark.sql.functions import col, expr\n",
    "\n",
    "# Initialize the Tokenizer\n",
    "tokenizer = Tokenizer(inputCol=\"text\", outputCol=\"words\")\n",
    "\n",
    "# Transform the DataFrame using the Tokenizer\n",
    "train_tokenized_df = tokenizer.transform(train_cleaned_df)\n",
    "\n",
    "# Remove empty tokens\n",
    "train_tokenized_df = train_tokenized_df.withColumn(\"words\", expr(\"filter(words, x -> x != '')\"))"
   ]
  },
  {
   "cell_type": "code",
   "execution_count": null,
   "metadata": {
    "application/vnd.databricks.v1+cell": {
     "cellMetadata": {
      "byteLimit": 2048000,
      "rowLimit": 10000
     },
     "inputWidgets": {},
     "nuid": "eebc88b9-774e-41e1-9501-3eb19febe8d0",
     "showTitle": false,
     "title": ""
    }
   },
   "outputs": [
    {
     "name": "stdout",
     "output_type": "stream",
     "text": [
      "Tokenized DataFrame:\n",
      "+------+------------------------------------------------------------------------------------------------------------------------------------------+-------------------------------------------------------------------------------------------------------------------------------------------------------------------+\n",
      "|target|text                                                                                                                                      |words                                                                                                                                                              |\n",
      "+------+------------------------------------------------------------------------------------------------------------------------------------------+-------------------------------------------------------------------------------------------------------------------------------------------------------------------+\n",
      "|0     | i hate summerschool  have fun at work even though youre getting off at   doooit ill visitt you my fobby friend                           |[i, hate, summerschool, have, fun, at, work, even, though, youre, getting, off, at, doooit, ill, visitt, you, my, fobby, friend]                                   |\n",
      "|0     | i quite like baseball and bball oh and the odd gridiron match that a tiny tiny part of the worlds population calls football              |[i, quite, like, baseball, and, bball, oh, and, the, odd, gridiron, match, that, a, tiny, tiny, part, of, the, worlds, population, calls, football]                |\n",
      "|0     | i want to go now                                                                                                                         |[i, want, to, go, now]                                                                                                                                             |\n",
      "|0     | im such a baby                                                                                                                           |[im, such, a, baby]                                                                                                                                                |\n",
      "|0     | really upset                                                                                                                             |[really, upset]                                                                                                                                                    |\n",
      "|0     | see yas later mommy p                                                                                                                    |[see, yas, later, mommy, p]                                                                                                                                        |\n",
      "|0     | the episode of scrubus where lavern dies always makes me cry                                                                             |[the, episode, of, scrubus, where, lavern, dies, always, makes, me, cry]                                                                                           |\n",
      "|0     |lt loves coming up with fun gimmicks and reading ten quottwiitzquot in a row from                                                         |[lt, loves, coming, up, with, fun, gimmicks, and, reading, ten, quottwiitzquot, in, a, row, from]                                                                  |\n",
      "|0     |quotim standing here but you dont see me id give it all for that to changequot wow maybe i am invisible                                   |[quotim, standing, here, but, you, dont, see, me, id, give, it, all, for, that, to, changequot, wow, maybe, i, am, invisible]                                      |\n",
      "|0     |quotif you text it ill delete it lets be clearquot                                                                                        |[quotif, you, text, it, ill, delete, it, lets, be, clearquot]                                                                                                      |\n",
      "|0     |quotthe world is changed because you are made of ivory and gold the curves of your lips rewrite historyquot lt and yeah am still sneezing |[quotthe, world, is, changed, because, you, are, made, of, ivory, and, gold, the, curves, of, your, lips, rewrite, historyquot, lt, and, yeah, am, still, sneezing]|\n",
      "|0     |glances at year planner  absolutely no time off in july  wonder how many days holiday i have left                                         |[glances, at, year, planner, absolutely, no, time, off, in, july, wonder, how, many, days, holiday, i, have, left]                                                 |\n",
      "|0     | make that later today                                                                                                                    |[make, that, later, today]                                                                                                                                         |\n",
      "|0     |didnt buy it for me  haha maybe next time how are you all doing this twitterific weekend anything exciting happened                       |[didnt, buy, it, for, me, haha, maybe, next, time, how, are, you, all, doing, this, twitterific, weekend, anything, exciting, happened]                            |\n",
      "|0     |misses him  cant wait until tomorrow                                                                                                      |[misses, him, cant, wait, until, tomorrow]                                                                                                                         |\n",
      "|0     |day forecast says chance of thunderstorms every single day                                                                                |[day, forecast, says, chance, of, thunderstorms, every, single, day]                                                                                               |\n",
      "|0     | am  shower time  i fear i will never get to go to bed before  am                                                                         |[am, shower, time, i, fear, i, will, never, get, to, go, to, bed, before, am]                                                                                      |\n",
      "|0     | mins on ubuntu looks nice no wirelss  looking into how to solve this                                                                     |[mins, on, ubuntu, looks, nice, no, wirelss, looking, into, how, to, solve, this]                                                                                  |\n",
      "|0     |am still up flying to la ltr amhayyy sleep deprived again                                                                                 |[am, still, up, flying, to, la, ltr, amhayyy, sleep, deprived, again]                                                                                              |\n",
      "|0     | i am really disappointed that not one of my work colleagues got me a card to acknowledge the birth of my baby girl  weeks ago            |[i, am, really, disappointed, that, not, one, of, my, work, colleagues, got, me, a, card, to, acknowledge, the, birth, of, my, baby, girl, weeks, ago]             |\n",
      "+------+------------------------------------------------------------------------------------------------------------------------------------------+-------------------------------------------------------------------------------------------------------------------------------------------------------------------+\n",
      "only showing top 20 rows\n",
      "\n"
     ]
    }
   ],
   "source": [
    "print(\"Tokenized DataFrame:\")\n",
    "train_tokenized_df.select(\"target\", \"text\", \"words\").show(truncate=False)"
   ]
  },
  {
   "cell_type": "code",
   "execution_count": null,
   "metadata": {
    "application/vnd.databricks.v1+cell": {
     "cellMetadata": {
      "byteLimit": 2048000,
      "rowLimit": 10000
     },
     "inputWidgets": {},
     "nuid": "a7bd53f3-1c5a-49aa-b8b1-0f75b445b364",
     "showTitle": false,
     "title": ""
    }
   },
   "outputs": [
    {
     "name": "stdout",
     "output_type": "stream",
     "text": [
      "+----------------------------------+-----+\n",
      "|words                             |count|\n",
      "+----------------------------------+-----+\n",
      "|[]                                |30   |\n",
      "|[thank, you]                      |29   |\n",
      "|[thanks]                          |26   |\n",
      "|[followfriday]                    |24   |\n",
      "|[good, morning]                   |17   |\n",
      "|[i, miss, you]                    |15   |\n",
      "|[thanks, for, the, followfriday]  |15   |\n",
      "|[happy, birthday]                 |14   |\n",
      "|[i, love, you]                    |13   |\n",
      "|[where, are, you]                 |12   |\n",
      "|[thanks, for, the, follow]        |12   |\n",
      "|[follow, friday]                  |12   |\n",
      "|[thanks, for, the, ff]            |11   |\n",
      "|[me, too]                         |11   |\n",
      "|[your, welcome]                   |11   |\n",
      "|[follow]                          |11   |\n",
      "|[follow, me]                      |11   |\n",
      "|[thanks, for, the, follow, friday]|10   |\n",
      "|[happy, mothers, day]             |10   |\n",
      "|[whats, up]                       |10   |\n",
      "+----------------------------------+-----+\n",
      "only showing top 20 rows\n",
      "\n"
     ]
    }
   ],
   "source": [
    "from pyspark.sql.functions import col, count\n",
    "\n",
    "# Group by the \"cleaned_words\" column, count occurrences, and filter duplicates\n",
    "duplicate_cleaned_rows = train_tokenized_df.groupBy(\"words\") \\\n",
    "                                         .agg(count(\"*\").alias(\"count\")) \\\n",
    "                                         .filter(col(\"count\") > 1) \\\n",
    "                                         .orderBy(col(\"count\").desc())\n",
    "\n",
    "# Show the duplicate rows ordered by count\n",
    "duplicate_cleaned_rows.show(truncate=False)"
   ]
  },
  {
   "cell_type": "code",
   "execution_count": null,
   "metadata": {
    "application/vnd.databricks.v1+cell": {
     "cellMetadata": {
      "byteLimit": 2048000,
      "rowLimit": 10000
     },
     "inputWidgets": {},
     "nuid": "0828196f-1810-44cb-8209-6dd78c391a27",
     "showTitle": false,
     "title": ""
    }
   },
   "outputs": [
    {
     "data": {
      "text/plain": [
       "0"
      ]
     },
     "execution_count": 28,
     "metadata": {},
     "output_type": "execute_result"
    }
   ],
   "source": [
    "# Drop duplicate rows based on the \"text\" column\n",
    "train_tokenized_df = train_tokenized_df.dropDuplicates([\"words\"])\n",
    "\n",
    "# Step 2: Check for remaining duplicates\n",
    "remaining_duplicates = train_tokenized_df.groupBy(\"words\") \\\n",
    "                                       .agg(count(\"*\").alias(\"count\")) \\\n",
    "                                       .filter(col(\"count\") > 1)\n",
    "\n",
    "# Check the count of remaining duplicates\n",
    "remaining_duplicates.count()"
   ]
  },
  {
   "cell_type": "markdown",
   "metadata": {
    "application/vnd.databricks.v1+cell": {
     "cellMetadata": {},
     "inputWidgets": {},
     "nuid": "4e551a61-76bf-44b0-82b3-92d573cff78d",
     "showTitle": false,
     "title": ""
    }
   },
   "source": [
    "# Tokenization on test data"
   ]
  },
  {
   "cell_type": "code",
   "execution_count": null,
   "metadata": {
    "application/vnd.databricks.v1+cell": {
     "cellMetadata": {
      "byteLimit": 2048000,
      "rowLimit": 10000
     },
     "inputWidgets": {},
     "nuid": "4092da80-6357-411d-add4-1b887fc6dbfb",
     "showTitle": false,
     "title": ""
    }
   },
   "outputs": [],
   "source": [
    "from pyspark.sql.functions import col, expr\n",
    "\n",
    "# Initialize the Tokenizer\n",
    "tokenizer = Tokenizer(inputCol=\"text\", outputCol=\"words\")\n",
    "\n",
    "# Transform the DataFrame using the Tokenizer\n",
    "test_tokenized_df = tokenizer.transform(test_cleaned_df)\n",
    "\n",
    "# Remove empty tokens\n",
    "test_tokenized_df = test_tokenized_df.withColumn(\"words\", expr(\"filter(words, x -> x != '')\"))"
   ]
  },
  {
   "cell_type": "code",
   "execution_count": null,
   "metadata": {
    "application/vnd.databricks.v1+cell": {
     "cellMetadata": {
      "byteLimit": 2048000,
      "rowLimit": 10000
     },
     "inputWidgets": {},
     "nuid": "4ab0f8f5-8b0c-410c-a842-533235f52f3d",
     "showTitle": false,
     "title": ""
    }
   },
   "outputs": [
    {
     "name": "stdout",
     "output_type": "stream",
     "text": [
      "Tokenized DataFrame:\n",
      "+------+------------------------------------------------------------------------------------------------------------------------------+------------------------------------------------------------------------------------------------------------------------------------------------------+\n",
      "|target|text                                                                                                                          |words                                                                                                                                                 |\n",
      "+------+------------------------------------------------------------------------------------------------------------------------------+------------------------------------------------------------------------------------------------------------------------------------------------------+\n",
      "|0     | nightmares about blowing up in a van with my family i hate dreams                                                            |[nightmares, about, blowing, up, in, a, van, with, my, family, i, hate, dreams]                                                                       |\n",
      "|0     |inaperfectworld things would just go the right way for him for the record i wouldnt treat him like this ever guys cry too     |[inaperfectworld, things, would, just, go, the, right, way, for, him, for, the, record, i, wouldnt, treat, him, like, this, ever, guys, cry, too]     |\n",
      "|0     |noone probably cares about it but it was my favourite show on tv  wont be the same without him i think hes really funny       |[noone, probably, cares, about, it, but, it, was, my, favourite, show, on, tv, wont, be, the, same, without, him, i, think, hes, really, funny]       |\n",
      "|0     | had a waking nightmare  not good                                                                                             |[had, a, waking, nightmare, not, good]                                                                                                                |\n",
      "|0     |am im fuckin tired up for more than  hours straight no naps  gnite for now vegas                                              |[am, im, fuckin, tired, up, for, more, than, hours, straight, no, naps, gnite, for, now, vegas]                                                       |\n",
      "|0     | lol im good  well go when i see you                                                                                          |[lol, im, good, well, go, when, i, see, you]                                                                                                          |\n",
      "|0     | yeah i suspect theyll be going back to the states sooner than later                                                          |[yeah, i, suspect, theyll, be, going, back, to, the, states, sooner, than, later]                                                                     |\n",
      "|0     |  send him my best wishes i hope he gets well soon                                                                            |[send, him, my, best, wishes, i, hope, he, gets, well, soon]                                                                                          |\n",
      "|0     | no  i torment you                                                                                                            |[no, i, torment, you]                                                                                                                                 |\n",
      "|0     | send my love to that side of town ugh i miss it                                                                              |[send, my, love, to, that, side, of, town, ugh, i, miss, it]                                                                                          |\n",
      "|0     | i hate to break it to you buddy but i checked out your twitter feed and youre spamming people                                |[i, hate, to, break, it, to, you, buddy, but, i, checked, out, your, twitter, feed, and, youre, spamming, people]                                     |\n",
      "|0     | oh no i hope your phone doesnt die                                                                                           |[oh, no, i, hope, your, phone, doesnt, die]                                                                                                           |\n",
      "|0     | remember ill be half way around the world    trust me id totally go if i could                                               |[remember, ill, be, half, way, around, the, world, trust, me, id, totally, go, if, i, could]                                                          |\n",
      "|0     | we had bomb ass waffles and played some slots  lost one hundred after four days     sn                                       |[we, had, bomb, ass, waffles, and, played, some, slots, lost, one, hundred, after, four, days, sn]                                                    |\n",
      "|0     | ahh dont mention octodrives i missed the nyc one by like  secs                                                               |[ahh, dont, mention, octodrives, i, missed, the, nyc, one, by, like, secs]                                                                            |\n",
      "|0     | hahahah i barely remember calling you the other night im sad we wont have a class together in the fall i think thats a first |[hahahah, i, barely, remember, calling, you, the, other, night, im, sad, we, wont, have, a, class, together, in, the, fall, i, think, thats, a, first]|\n",
      "|0     | i know it was supposed to be a week  im so upset about it                                                                    |[i, know, it, was, supposed, to, be, a, week, im, so, upset, about, it]                                                                               |\n",
      "|0     | biiiiitch forgot to call me  whatchu wearin ma i have no clooooothes                                                         |[biiiiitch, forgot, to, call, me, whatchu, wearin, ma, i, have, no, clooooothes]                                                                      |\n",
      "|0     | ill buzz you hopefully tomorrow need it by monday                                                                            |[ill, buzz, you, hopefully, tomorrow, need, it, by, monday]                                                                                           |\n",
      "|0     | give it up i like all of the songs though that was the cd i had but must have sold                                           |[give, it, up, i, like, all, of, the, songs, though, that, was, the, cd, i, had, but, must, have, sold]                                               |\n",
      "+------+------------------------------------------------------------------------------------------------------------------------------+------------------------------------------------------------------------------------------------------------------------------------------------------+\n",
      "only showing top 20 rows\n",
      "\n"
     ]
    }
   ],
   "source": [
    "print(\"Tokenized DataFrame:\")\n",
    "test_tokenized_df.select(\"target\", \"text\", \"words\").show(truncate=False)"
   ]
  },
  {
   "cell_type": "code",
   "execution_count": null,
   "metadata": {
    "application/vnd.databricks.v1+cell": {
     "cellMetadata": {
      "byteLimit": 2048000,
      "rowLimit": 10000
     },
     "inputWidgets": {},
     "nuid": "10a3ebd4-b726-4d91-b5d0-4a2c21666f88",
     "showTitle": false,
     "title": ""
    }
   },
   "outputs": [
    {
     "name": "stdout",
     "output_type": "stream",
     "text": [
      "+---------------------+-----+\n",
      "|words                |count|\n",
      "+---------------------+-----+\n",
      "|[]                   |23   |\n",
      "|[thank, you]         |14   |\n",
      "|[thanks]             |13   |\n",
      "|[followfriday]       |11   |\n",
      "|[follow, me]         |9    |\n",
      "|[good, morning]      |9    |\n",
      "|[happy, birthday]    |9    |\n",
      "|[yeah]               |9    |\n",
      "|[welcome]            |9    |\n",
      "|[goodnight]          |8    |\n",
      "|[good, luck]         |8    |\n",
      "|[that, sucks]        |8    |\n",
      "|[awesome]            |7    |\n",
      "|[i, agree]           |7    |\n",
      "|[me, too]            |7    |\n",
      "|[i, love, you]       |7    |\n",
      "|[why]                |7    |\n",
      "|[whats, up]          |7    |\n",
      "|[yes]                |6    |\n",
      "|[happy, mothers, day]|6    |\n",
      "+---------------------+-----+\n",
      "only showing top 20 rows\n",
      "\n"
     ]
    }
   ],
   "source": [
    "from pyspark.sql.functions import col, count\n",
    "\n",
    "# Group by the \"cleaned_words\" column, count occurrences, and filter duplicates\n",
    "duplicate_cleaned_rows = test_tokenized_df.groupBy(\"words\") \\\n",
    "                                         .agg(count(\"*\").alias(\"count\")) \\\n",
    "                                         .filter(col(\"count\") > 1) \\\n",
    "                                         .orderBy(col(\"count\").desc())\n",
    "\n",
    "# Show the duplicate rows ordered by count\n",
    "duplicate_cleaned_rows.show(truncate=False)"
   ]
  },
  {
   "cell_type": "code",
   "execution_count": null,
   "metadata": {
    "application/vnd.databricks.v1+cell": {
     "cellMetadata": {
      "byteLimit": 2048000,
      "rowLimit": 10000
     },
     "inputWidgets": {},
     "nuid": "e1899d8c-d602-4d7b-be9d-a5363f5f5df1",
     "showTitle": false,
     "title": ""
    }
   },
   "outputs": [
    {
     "data": {
      "text/plain": [
       "0"
      ]
     },
     "execution_count": 32,
     "metadata": {},
     "output_type": "execute_result"
    }
   ],
   "source": [
    "# Drop duplicate rows based on the \"text\" column\n",
    "test_tokenized_df = test_tokenized_df.dropDuplicates([\"words\"])\n",
    "\n",
    "# Step 2: Check for remaining duplicates\n",
    "remaining_duplicates = test_tokenized_df.groupBy(\"words\") \\\n",
    "                                       .agg(count(\"*\").alias(\"count\")) \\\n",
    "                                       .filter(col(\"count\") > 1)\n",
    "\n",
    "# Check the count of remaining duplicates\n",
    "remaining_duplicates.count()"
   ]
  },
  {
   "cell_type": "markdown",
   "metadata": {
    "application/vnd.databricks.v1+cell": {
     "cellMetadata": {},
     "inputWidgets": {},
     "nuid": "1004c7e5-9496-4dfa-8800-ad12d32c4676",
     "showTitle": false,
     "title": ""
    }
   },
   "source": [
    "# Stop word Remover for Train data"
   ]
  },
  {
   "cell_type": "code",
   "execution_count": null,
   "metadata": {
    "application/vnd.databricks.v1+cell": {
     "cellMetadata": {
      "byteLimit": 2048000,
      "rowLimit": 10000
     },
     "inputWidgets": {},
     "nuid": "c4f7661c-60b3-441e-a28c-cc84a8b4eeae",
     "showTitle": false,
     "title": ""
    }
   },
   "outputs": [],
   "source": [
    "from pyspark.ml.feature import StopWordsRemover"
   ]
  },
  {
   "cell_type": "code",
   "execution_count": null,
   "metadata": {
    "application/vnd.databricks.v1+cell": {
     "cellMetadata": {
      "byteLimit": 2048000,
      "rowLimit": 10000
     },
     "inputWidgets": {},
     "nuid": "d5ba75c9-c073-4914-b1cb-166ee9e282a4",
     "showTitle": false,
     "title": ""
    }
   },
   "outputs": [
    {
     "data": {
      "text/plain": [
       "['i',\n",
       " 'me',\n",
       " 'my',\n",
       " 'myself',\n",
       " 'we',\n",
       " 'our',\n",
       " 'ours',\n",
       " 'ourselves',\n",
       " 'you',\n",
       " 'your',\n",
       " 'yours',\n",
       " 'yourself',\n",
       " 'yourselves',\n",
       " 'he',\n",
       " 'him',\n",
       " 'his',\n",
       " 'himself',\n",
       " 'she',\n",
       " 'her',\n",
       " 'hers',\n",
       " 'herself',\n",
       " 'it',\n",
       " 'its',\n",
       " 'itself',\n",
       " 'they',\n",
       " 'them',\n",
       " 'their',\n",
       " 'theirs',\n",
       " 'themselves',\n",
       " 'what',\n",
       " 'which',\n",
       " 'who',\n",
       " 'whom',\n",
       " 'this',\n",
       " 'that',\n",
       " 'these',\n",
       " 'those',\n",
       " 'am',\n",
       " 'is',\n",
       " 'are',\n",
       " 'was',\n",
       " 'were',\n",
       " 'be',\n",
       " 'been',\n",
       " 'being',\n",
       " 'have',\n",
       " 'has',\n",
       " 'had',\n",
       " 'having',\n",
       " 'do',\n",
       " 'does',\n",
       " 'did',\n",
       " 'doing',\n",
       " 'a',\n",
       " 'an',\n",
       " 'the',\n",
       " 'and',\n",
       " 'but',\n",
       " 'if',\n",
       " 'or',\n",
       " 'because',\n",
       " 'as',\n",
       " 'until',\n",
       " 'while',\n",
       " 'of',\n",
       " 'at',\n",
       " 'by',\n",
       " 'for',\n",
       " 'with',\n",
       " 'about',\n",
       " 'against',\n",
       " 'between',\n",
       " 'into',\n",
       " 'through',\n",
       " 'during',\n",
       " 'before',\n",
       " 'after',\n",
       " 'above',\n",
       " 'below',\n",
       " 'to',\n",
       " 'from',\n",
       " 'up',\n",
       " 'down',\n",
       " 'in',\n",
       " 'out',\n",
       " 'on',\n",
       " 'off',\n",
       " 'over',\n",
       " 'under',\n",
       " 'again',\n",
       " 'further',\n",
       " 'then',\n",
       " 'once',\n",
       " 'here',\n",
       " 'there',\n",
       " 'when',\n",
       " 'where',\n",
       " 'why',\n",
       " 'how',\n",
       " 'all',\n",
       " 'any',\n",
       " 'both',\n",
       " 'each',\n",
       " 'few',\n",
       " 'more',\n",
       " 'most',\n",
       " 'other',\n",
       " 'some',\n",
       " 'such',\n",
       " 'no',\n",
       " 'nor',\n",
       " 'not',\n",
       " 'only',\n",
       " 'own',\n",
       " 'same',\n",
       " 'so',\n",
       " 'than',\n",
       " 'too',\n",
       " 'very',\n",
       " 's',\n",
       " 't',\n",
       " 'can',\n",
       " 'will',\n",
       " 'just',\n",
       " 'don',\n",
       " 'should',\n",
       " 'now',\n",
       " \"i'll\",\n",
       " \"you'll\",\n",
       " \"he'll\",\n",
       " \"she'll\",\n",
       " \"we'll\",\n",
       " \"they'll\",\n",
       " \"i'd\",\n",
       " \"you'd\",\n",
       " \"he'd\",\n",
       " \"she'd\",\n",
       " \"we'd\",\n",
       " \"they'd\",\n",
       " \"i'm\",\n",
       " \"you're\",\n",
       " \"he's\",\n",
       " \"she's\",\n",
       " \"it's\",\n",
       " \"we're\",\n",
       " \"they're\",\n",
       " \"i've\",\n",
       " \"we've\",\n",
       " \"you've\",\n",
       " \"they've\",\n",
       " \"isn't\",\n",
       " \"aren't\",\n",
       " \"wasn't\",\n",
       " \"weren't\",\n",
       " \"haven't\",\n",
       " \"hasn't\",\n",
       " \"hadn't\",\n",
       " \"don't\",\n",
       " \"doesn't\",\n",
       " \"didn't\",\n",
       " \"won't\",\n",
       " \"wouldn't\",\n",
       " \"shan't\",\n",
       " \"shouldn't\",\n",
       " \"mustn't\",\n",
       " \"can't\",\n",
       " \"couldn't\",\n",
       " 'cannot',\n",
       " 'could',\n",
       " \"here's\",\n",
       " \"how's\",\n",
       " \"let's\",\n",
       " 'ought',\n",
       " \"that's\",\n",
       " \"there's\",\n",
       " \"what's\",\n",
       " \"when's\",\n",
       " \"where's\",\n",
       " \"who's\",\n",
       " \"why's\",\n",
       " 'would']"
      ]
     },
     "execution_count": 34,
     "metadata": {},
     "output_type": "execute_result"
    }
   ],
   "source": [
    "# Example of retrieving the default stop words\n",
    "remover = StopWordsRemover()\n",
    "default_stop_words = remover.getStopWords()\n",
    "default_stop_words"
   ]
  },
  {
   "cell_type": "code",
   "execution_count": null,
   "metadata": {
    "application/vnd.databricks.v1+cell": {
     "cellMetadata": {
      "byteLimit": 2048000,
      "rowLimit": 10000
     },
     "inputWidgets": {},
     "nuid": "4f41ee33-cd61-45f2-8b19-6bf2b7852786",
     "showTitle": false,
     "title": ""
    }
   },
   "outputs": [],
   "source": [
    "# Customize the stop words list by ensuring critical words are preserved\n",
    "important_words_to_preserve = [\n",
    "    \"not\", \"no\", \"never\", \"n't\", \"very\", \"cannot\", \"can't\", \"don't\", \"didn't\", \"doesn't\", \n",
    "    \"isn't\", \"wasn't\", \"aren't\", \"weren't\", \"won't\", \"wouldn't\", \"shouldn't\", \"couldn't\", \n",
    "    \"hasn't\", \"haven't\", \"hadn't\"]\n"
   ]
  },
  {
   "cell_type": "code",
   "execution_count": null,
   "metadata": {
    "application/vnd.databricks.v1+cell": {
     "cellMetadata": {
      "byteLimit": 2048000,
      "rowLimit": 10000
     },
     "inputWidgets": {},
     "nuid": "581dc716-79ca-4cf3-8e08-084d07c4774c",
     "showTitle": false,
     "title": ""
    }
   },
   "outputs": [],
   "source": [
    "# Add additional Twitter-specific words to remove\n",
    "additional_stop_words = [\n",
    "    \"rt\", \"amp\", \"u\", \"us\", \"im\", \"you're\", \"i'm\", \"it's\", \"i\", \"me\", \"my\", \"we\", \n",
    "    \"our\", \"ours\", \"you\", \"your\", \"yours\", \"he\", \"him\", \"his\", \"she\", \"her\", \"hers\", \n",
    "    \"it\", \"its\", \"they\", \"them\", \"their\", \"theirs\"\n",
    "]"
   ]
  },
  {
   "cell_type": "code",
   "execution_count": null,
   "metadata": {
    "application/vnd.databricks.v1+cell": {
     "cellMetadata": {
      "byteLimit": 2048000,
      "rowLimit": 10000
     },
     "inputWidgets": {},
     "nuid": "e20e3c40-385c-4f56-b2a6-07459d22b739",
     "showTitle": false,
     "title": ""
    }
   },
   "outputs": [],
   "source": [
    "# Create a custom stop words list, excluding important words\n",
    "custom_stop_words = [word for word in default_stop_words if word not in important_words_to_preserve]"
   ]
  },
  {
   "cell_type": "code",
   "execution_count": null,
   "metadata": {
    "application/vnd.databricks.v1+cell": {
     "cellMetadata": {
      "byteLimit": 2048000,
      "rowLimit": 10000
     },
     "inputWidgets": {},
     "nuid": "81181b5c-f4e9-4fcc-95bf-b7440cb6b0c7",
     "showTitle": false,
     "title": ""
    }
   },
   "outputs": [],
   "source": [
    "# Add additional Twitter-specific words to remove\n",
    "additional_stop_words = [\n",
    "    \"rt\", \"amp\", \"u\", \"us\", \"im\", \"you're\", \"i'm\", \"it's\", \"i\", \"me\", \"my\", \"we\", \n",
    "    \"our\", \"ours\", \"you\", \"your\", \"yours\", \"he\", \"him\", \"his\", \"she\", \"her\", \"hers\", \n",
    "    \"it\", \"its\", \"they\", \"them\", \"their\", \"theirs\"\n",
    "]"
   ]
  },
  {
   "cell_type": "code",
   "execution_count": null,
   "metadata": {
    "application/vnd.databricks.v1+cell": {
     "cellMetadata": {
      "byteLimit": 2048000,
      "rowLimit": 10000
     },
     "inputWidgets": {},
     "nuid": "a25d87a8-a1f1-466f-aa4e-174ac95ac875",
     "showTitle": false,
     "title": ""
    }
   },
   "outputs": [],
   "source": [
    "# Combine lists\n",
    "custom_stop_words.extend(additional_stop_words)\n"
   ]
  },
  {
   "cell_type": "code",
   "execution_count": null,
   "metadata": {
    "application/vnd.databricks.v1+cell": {
     "cellMetadata": {
      "byteLimit": 2048000,
      "rowLimit": 10000
     },
     "inputWidgets": {},
     "nuid": "64f271b8-f35c-421f-906f-37dadd8ffc35",
     "showTitle": false,
     "title": ""
    }
   },
   "outputs": [
    {
     "data": {
      "text/plain": [
       "StopWordsRemover_7e0156a5d148"
      ]
     },
     "execution_count": 40,
     "metadata": {},
     "output_type": "execute_result"
    }
   ],
   "source": [
    "# Set the custom stop words list to the remover\n",
    "remover.setStopWords(custom_stop_words)"
   ]
  },
  {
   "cell_type": "code",
   "execution_count": null,
   "metadata": {
    "application/vnd.databricks.v1+cell": {
     "cellMetadata": {
      "byteLimit": 2048000,
      "rowLimit": 10000
     },
     "inputWidgets": {},
     "nuid": "b1b80593-92f3-4aa7-8861-203e35da3cf9",
     "showTitle": false,
     "title": ""
    }
   },
   "outputs": [
    {
     "name": "stdout",
     "output_type": "stream",
     "text": [
      "Customized Stop Words: ['i', 'me', 'my', 'myself', 'we', 'our', 'ours', 'ourselves', 'you', 'your', 'yours', 'yourself', 'yourselves', 'he', 'him', 'his', 'himself', 'she', 'her', 'hers', 'herself', 'it', 'its', 'itself', 'they', 'them', 'their', 'theirs', 'themselves', 'what', 'which', 'who', 'whom', 'this', 'that', 'these', 'those', 'am', 'is', 'are', 'was', 'were', 'be', 'been', 'being', 'have', 'has', 'had', 'having', 'do', 'does', 'did', 'doing', 'a', 'an', 'the', 'and', 'but', 'if', 'or', 'because', 'as', 'until', 'while', 'of', 'at', 'by', 'for', 'with', 'about', 'against', 'between', 'into', 'through', 'during', 'before', 'after', 'above', 'below', 'to', 'from', 'up', 'down', 'in', 'out', 'on', 'off', 'over', 'under', 'again', 'further', 'then', 'once', 'here', 'there', 'when', 'where', 'why', 'how', 'all', 'any', 'both', 'each', 'few', 'more', 'most', 'other', 'some', 'such', 'nor', 'only', 'own', 'same', 'so', 'than', 'too', 's', 't', 'can', 'will', 'just', 'don', 'should', 'now', \"i'll\", \"you'll\", \"he'll\", \"she'll\", \"we'll\", \"they'll\", \"i'd\", \"you'd\", \"he'd\", \"she'd\", \"we'd\", \"they'd\", \"i'm\", \"you're\", \"he's\", \"she's\", \"it's\", \"we're\", \"they're\", \"i've\", \"we've\", \"you've\", \"they've\", \"shan't\", \"mustn't\", 'could', \"here's\", \"how's\", \"let's\", 'ought', \"that's\", \"there's\", \"what's\", \"when's\", \"where's\", \"who's\", \"why's\", 'would', 'rt', 'amp', 'u', 'us', 'im', \"you're\", \"i'm\", \"it's\", 'i', 'me', 'my', 'we', 'our', 'ours', 'you', 'your', 'yours', 'he', 'him', 'his', 'she', 'her', 'hers', 'it', 'its', 'they', 'them', 'their', 'theirs']\n"
     ]
    }
   ],
   "source": [
    "print(\"Customized Stop Words:\", custom_stop_words)"
   ]
  },
  {
   "cell_type": "code",
   "execution_count": null,
   "metadata": {
    "application/vnd.databricks.v1+cell": {
     "cellMetadata": {
      "byteLimit": 2048000,
      "rowLimit": 10000
     },
     "inputWidgets": {},
     "nuid": "520443ac-1437-4afa-8fd1-1b72917ebff1",
     "showTitle": false,
     "title": ""
    }
   },
   "outputs": [
    {
     "data": {
      "text/plain": [
       "StopWordsRemover_dcaef9fce320"
      ]
     },
     "execution_count": 42,
     "metadata": {},
     "output_type": "execute_result"
    }
   ],
   "source": [
    "# Initialize StopWordsRemover with custom stop words\n",
    "remover = StopWordsRemover(inputCol=\"words\", outputCol=\"filtered_words\")\n",
    "remover.setStopWords(custom_stop_words)  # Set the custom stop words list"
   ]
  },
  {
   "cell_type": "code",
   "execution_count": null,
   "metadata": {
    "application/vnd.databricks.v1+cell": {
     "cellMetadata": {
      "byteLimit": 2048000,
      "rowLimit": 10000
     },
     "inputWidgets": {},
     "nuid": "23f35a88-8171-40f4-b9cd-f23e742df692",
     "showTitle": false,
     "title": ""
    }
   },
   "outputs": [],
   "source": [
    "# Apply StopWordsRemover to the tokenized DataFrame\n",
    "train_filtered_df = remover.transform(train_tokenized_df)"
   ]
  },
  {
   "cell_type": "code",
   "execution_count": null,
   "metadata": {
    "application/vnd.databricks.v1+cell": {
     "cellMetadata": {
      "byteLimit": 2048000,
      "rowLimit": 10000
     },
     "inputWidgets": {},
     "nuid": "545fe52d-f512-4479-816d-1e3cfe5c7a7a",
     "showTitle": false,
     "title": ""
    }
   },
   "outputs": [
    {
     "name": "stdout",
     "output_type": "stream",
     "text": [
      "+------+------------------------------------------------------------------------------------------------------+-------------------------------------------------------------------------------------------------------------------------+-----------------------------------------------------------------------------------+\n",
      "|target|text                                                                                                  |words                                                                                                                    |filtered_words                                                                     |\n",
      "+------+------------------------------------------------------------------------------------------------------+-------------------------------------------------------------------------------------------------------------------------+-----------------------------------------------------------------------------------+\n",
      "|0     |                                                                                                      |[]                                                                                                                       |[]                                                                                 |\n",
      "|4     | a a lair chiiaaaaaaaaaaaaaaaaaaaaaant comme film                                                     |[a, a, lair, chiiaaaaaaaaaaaaaaaaaaaaaant, comme, film]                                                                  |[lair, chiiaaaaaaaaaaaaaaaaaaaaaant, comme, film]                                  |\n",
      "|4     | a a nh i tr sau n em                                                                                 |[a, a, nh, i, tr, sau, n, em]                                                                                            |[nh, tr, sau, n, em]                                                               |\n",
      "|0     |a always work when we get warm days                                                                   |[a, always, work, when, we, get, warm, days]                                                                             |[always, work, get, warm, days]                                                    |\n",
      "|4     |a  am singing sesh with spotify is my favourite kind of singing sesh of all the kinds                 |[a, am, singing, sesh, with, spotify, is, my, favourite, kind, of, singing, sesh, of, all, the, kinds]                   |[singing, sesh, spotify, favourite, kind, singing, sesh, kinds]                    |\n",
      "|4     |a  and  yr old both girls both surprises hence the starting over thing                                |[a, and, yr, old, both, girls, both, surprises, hence, the, starting, over, thing]                                       |[yr, old, girls, surprises, hence, starting, thing]                                |\n",
      "|4     | a b c easy as                                                                                        |[a, b, c, easy, as]                                                                                                      |[b, c, easy]                                                                       |\n",
      "|0     | a baby fell flat on his face and started bawling because of me  forgot that he is wobbley            |[a, baby, fell, flat, on, his, face, and, started, bawling, because, of, me, forgot, that, he, is, wobbley]              |[baby, fell, flat, face, started, bawling, forgot, wobbley]                        |\n",
      "|4     | a baby quilt sounds fun too                                                                          |[a, baby, quilt, sounds, fun, too]                                                                                       |[baby, quilt, sounds, fun]                                                         |\n",
      "|4     |a bacon roll and a tea and the hackday is your friend  openhacklondon                                 |[a, bacon, roll, and, a, tea, and, the, hackday, is, your, friend, openhacklondon]                                       |[bacon, roll, tea, hackday, friend, openhacklondon]                                |\n",
      "|0     |a bad day for button  only th                                                                         |[a, bad, day, for, button, only, th]                                                                                     |[bad, day, button, th]                                                             |\n",
      "|0     |a bad day for me  quotuse me consume me deliver me from the stupid things i always doquot  manic drive|[a, bad, day, for, me, quotuse, me, consume, me, deliver, me, from, the, stupid, things, i, always, doquot, manic, drive]|[bad, day, quotuse, consume, deliver, stupid, things, always, doquot, manic, drive]|\n",
      "|0     |a bad day for this mac                                                                                |[a, bad, day, for, this, mac]                                                                                            |[bad, day, mac]                                                                    |\n",
      "|0     |a bad night for us                                                                                    |[a, bad, night, for, us]                                                                                                 |[bad, night]                                                                       |\n",
      "|4     |   a bad representation but a great day                                                               |[a, bad, representation, but, a, great, day]                                                                             |[bad, representation, great, day]                                                  |\n",
      "|4     | a balance i like your way of thinking thank you                                                      |[a, balance, i, like, your, way, of, thinking, thank, you]                                                               |[balance, like, way, thinking, thank]                                              |\n",
      "|4     |a balloon just flew by the window                                                                     |[a, balloon, just, flew, by, the, window]                                                                                |[balloon, flew, window]                                                            |\n",
      "|0     | a banana hey i hate bananas                                                                          |[a, banana, hey, i, hate, bananas]                                                                                       |[banana, hey, hate, bananas]                                                       |\n",
      "|4     |a bank doesnt get hungry i dont think it eats all our money                                           |[a, bank, doesnt, get, hungry, i, dont, think, it, eats, all, our, money]                                                |[bank, doesnt, get, hungry, dont, think, eats, money]                              |\n",
      "|4     |a bath then some sleep tomorow is mothersday  jiipie yo jippie yea                                    |[a, bath, then, some, sleep, tomorow, is, mothersday, jiipie, yo, jippie, yea]                                           |[bath, sleep, tomorow, mothersday, jiipie, yo, jippie, yea]                        |\n",
      "+------+------------------------------------------------------------------------------------------------------+-------------------------------------------------------------------------------------------------------------------------+-----------------------------------------------------------------------------------+\n",
      "only showing top 20 rows\n",
      "\n"
     ]
    }
   ],
   "source": [
    "# Show the DataFrame after removing stop words\n",
    "train_filtered_df.select(\"target\", \"text\", \"words\", \"filtered_words\").show(truncate=False)"
   ]
  },
  {
   "cell_type": "code",
   "execution_count": null,
   "metadata": {
    "application/vnd.databricks.v1+cell": {
     "cellMetadata": {
      "byteLimit": 2048000,
      "rowLimit": 10000
     },
     "inputWidgets": {},
     "nuid": "6e0a5575-acfc-4684-8083-b6e4040e1a38",
     "showTitle": false,
     "title": ""
    }
   },
   "outputs": [
    {
     "name": "stdout",
     "output_type": "stream",
     "text": [
      "+--------------+-----+\n",
      "|filtered_words|count|\n",
      "+--------------+-----+\n",
      "|[]            |969  |\n",
      "|[love]        |135  |\n",
      "|[work]        |125  |\n",
      "|[miss]        |106  |\n",
      "|[wish]        |104  |\n",
      "|[not]         |95   |\n",
      "|[yes]         |93   |\n",
      "|[sad]         |85   |\n",
      "|[thanks]      |84   |\n",
      "|[good]        |81   |\n",
      "|[know]        |80   |\n",
      "|[like]        |64   |\n",
      "|[sure]        |64   |\n",
      "|[lol]         |64   |\n",
      "|[go]          |63   |\n",
      "|[yeah]        |61   |\n",
      "|[want]        |57   |\n",
      "|[think]       |56   |\n",
      "|[thank]       |55   |\n",
      "|[dont, know]  |54   |\n",
      "+--------------+-----+\n",
      "only showing top 20 rows\n",
      "\n"
     ]
    }
   ],
   "source": [
    "from pyspark.sql.functions import col, count\n",
    "\n",
    "# Group by the \"cleaned_words\" column, count occurrences, and filter duplicates\n",
    "duplicate_cleaned_rows = train_filtered_df.groupBy(\"filtered_words\") \\\n",
    "                                         .agg(count(\"*\").alias(\"count\")) \\\n",
    "                                         .filter(col(\"count\") > 1) \\\n",
    "                                         .orderBy(col(\"count\").desc())\n",
    "\n",
    "# Show the duplicate rows ordered by count\n",
    "duplicate_cleaned_rows.show(truncate=False)"
   ]
  },
  {
   "cell_type": "code",
   "execution_count": null,
   "metadata": {
    "application/vnd.databricks.v1+cell": {
     "cellMetadata": {
      "byteLimit": 2048000,
      "rowLimit": 10000
     },
     "inputWidgets": {},
     "nuid": "a7fa359b-6143-40db-8266-48a1f7ffa146",
     "showTitle": false,
     "title": ""
    }
   },
   "outputs": [
    {
     "data": {
      "text/plain": [
       "0"
      ]
     },
     "execution_count": 46,
     "metadata": {},
     "output_type": "execute_result"
    }
   ],
   "source": [
    "# Drop duplicate rows based on the \"text\" column\n",
    "train_filtered_df = train_filtered_df.dropDuplicates([\"filtered_words\"])\n",
    "\n",
    "# Step 2: Check for remaining duplicates\n",
    "remaining_duplicates = train_filtered_df.groupBy(\"filtered_words\") \\\n",
    "                                       .agg(count(\"*\").alias(\"count\")) \\\n",
    "                                       .filter(col(\"count\") > 1)\n",
    "\n",
    "# Check the count of remaining duplicates\n",
    "remaining_duplicates.count()"
   ]
  },
  {
   "cell_type": "markdown",
   "metadata": {
    "application/vnd.databricks.v1+cell": {
     "cellMetadata": {},
     "inputWidgets": {},
     "nuid": "0e26278a-98a4-46a5-b599-326730332461",
     "showTitle": false,
     "title": ""
    }
   },
   "source": [
    "# StopWords Remover on Test Data"
   ]
  },
  {
   "cell_type": "code",
   "execution_count": null,
   "metadata": {
    "application/vnd.databricks.v1+cell": {
     "cellMetadata": {
      "byteLimit": 2048000,
      "rowLimit": 10000
     },
     "inputWidgets": {},
     "nuid": "cc676902-6b13-402c-9d83-2045c1802380",
     "showTitle": false,
     "title": ""
    }
   },
   "outputs": [
    {
     "data": {
      "text/plain": [
       "StopWordsRemover_bdc782ee07e5"
      ]
     },
     "execution_count": 47,
     "metadata": {},
     "output_type": "execute_result"
    }
   ],
   "source": [
    "# Initialize StopWordsRemover with custom stop words\n",
    "remover = StopWordsRemover(inputCol=\"words\", outputCol=\"filtered_words\")\n",
    "remover.setStopWords(custom_stop_words)  # Set the custom stop words list"
   ]
  },
  {
   "cell_type": "code",
   "execution_count": null,
   "metadata": {
    "application/vnd.databricks.v1+cell": {
     "cellMetadata": {
      "byteLimit": 2048000,
      "rowLimit": 10000
     },
     "inputWidgets": {},
     "nuid": "117a9d2e-2f55-45ea-8ece-1df99c0ecfcd",
     "showTitle": false,
     "title": ""
    }
   },
   "outputs": [],
   "source": [
    "# Apply StopWordsRemover to the tokenized DataFrame\n",
    "test_filtered_df = remover.transform(test_tokenized_df)"
   ]
  },
  {
   "cell_type": "code",
   "execution_count": null,
   "metadata": {
    "application/vnd.databricks.v1+cell": {
     "cellMetadata": {
      "byteLimit": 2048000,
      "rowLimit": 10000
     },
     "inputWidgets": {},
     "nuid": "55a78d17-481e-4b5c-91db-24a838aa7b75",
     "showTitle": false,
     "title": ""
    }
   },
   "outputs": [
    {
     "name": "stdout",
     "output_type": "stream",
     "text": [
      "+------+----------------------------------------------------------------------------------------------------------------------+-------------------------------------------------------------------------------------------------------------------------------------------------+---------------------------------------------------------------------------------------------------------------------+\n",
      "|target|text                                                                                                                  |words                                                                                                                                            |filtered_words                                                                                                       |\n",
      "+------+----------------------------------------------------------------------------------------------------------------------+-------------------------------------------------------------------------------------------------------------------------------------------------+---------------------------------------------------------------------------------------------------------------------+\n",
      "|4     |                                                                                                                      |[]                                                                                                                                               |[]                                                                                                                   |\n",
      "|0     |  a airfranceflight                                                                                                   |[a, airfranceflight]                                                                                                                             |[airfranceflight]                                                                                                    |\n",
      "|0     |a and w my tum tum hurts ugh                                                                                          |[a, and, w, my, tum, tum, hurts, ugh]                                                                                                            |[w, tum, tum, hurts, ugh]                                                                                            |\n",
      "|0     |   a bad one                                                                                                          |[a, bad, one]                                                                                                                                    |[bad, one]                                                                                                           |\n",
      "|0     |a bad thing has happened i am out of english language books to read and i am not in the mood to pick up one in german |[a, bad, thing, has, happened, i, am, out, of, english, language, books, to, read, and, i, am, not, in, the, mood, to, pick, up, one, in, german]|[bad, thing, happened, english, language, books, read, not, mood, pick, one, german]                                 |\n",
      "|4     | a bar of dark chocolate frozen lemon margarita neil gaimans stardust damien rices voice and nina simones songs       |[a, bar, of, dark, chocolate, frozen, lemon, margarita, neil, gaimans, stardust, damien, rices, voice, and, nina, simones, songs]                |[bar, dark, chocolate, frozen, lemon, margarita, neil, gaimans, stardust, damien, rices, voice, nina, simones, songs]|\n",
      "|4     | a bat                                                                                                                |[a, bat]                                                                                                                                         |[bat]                                                                                                                |\n",
      "|4     | a bath and after a nap                                                                                               |[a, bath, and, after, a, nap]                                                                                                                    |[bath, nap]                                                                                                          |\n",
      "|0     | a beautiful book on whitehead was gifted to mewhich began with that quoteamp the problemcant recall the name         |[a, beautiful, book, on, whitehead, was, gifted, to, mewhich, began, with, that, quoteamp, the, problemcant, recall, the, name]                  |[beautiful, book, whitehead, gifted, mewhich, began, quoteamp, problemcant, recall, name]                            |\n",
      "|4     |a beautiful saturday morning and im awake before noon to enjoy it                                                     |[a, beautiful, saturday, morning, and, im, awake, before, noon, to, enjoy, it]                                                                   |[beautiful, saturday, morning, awake, noon, enjoy]                                                                   |\n",
      "|4     |  a beautiful sunset while i was at work one evening                                                                  |[a, beautiful, sunset, while, i, was, at, work, one, evening]                                                                                    |[beautiful, sunset, work, one, evening]                                                                              |\n",
      "|4     |a bee is on my window but its tryin to find its way out so i was kind enuff to open the windows wider                 |[a, bee, is, on, my, window, but, its, tryin, to, find, its, way, out, so, i, was, kind, enuff, to, open, the, windows, wider]                   |[bee, window, tryin, find, way, kind, enuff, open, windows, wider]                                                   |\n",
      "|4     | a beer garden is what it sounds like a garden wherein you can drink beer eat hearty food play card games etc         |[a, beer, garden, is, what, it, sounds, like, a, garden, wherein, you, can, drink, beer, eat, hearty, food, play, card, games, etc]              |[beer, garden, sounds, like, garden, wherein, drink, beer, eat, hearty, food, play, card, games, etc]                |\n",
      "|4     | a beer hamper it works                                                                                               |[a, beer, hamper, it, works]                                                                                                                     |[beer, hamper, works]                                                                                                |\n",
      "|4     | a belated thank you for the followfriday  i havent tweeted twittered for a couple of days happy sunday               |[a, belated, thank, you, for, the, followfriday, i, havent, tweeted, twittered, for, a, couple, of, days, happy, sunday]                         |[belated, thank, followfriday, havent, tweeted, twittered, couple, days, happy, sunday]                              |\n",
      "|4     |a benefit  being up  early havin breakfast w my baby                                                                  |[a, benefit, being, up, early, havin, breakfast, w, my, baby]                                                                                    |[benefit, early, havin, breakfast, w, baby]                                                                          |\n",
      "|4     |a big birthday shout out to my son noah  years old today time really does fly savor it off to disneyland              |[a, big, birthday, shout, out, to, my, son, noah, years, old, today, time, really, does, fly, savor, it, off, to, disneyland]                    |[big, birthday, shout, son, noah, years, old, today, time, really, fly, savor, disneyland]                           |\n",
      "|4     | a big hello to patti from this side of atlantic how i understand your feeling would love to stroll on a village too  |[a, big, hello, to, patti, from, this, side, of, atlantic, how, i, understand, your, feeling, would, love, to, stroll, on, a, village, too]      |[big, hello, patti, side, atlantic, understand, feeling, love, stroll, village]                                      |\n",
      "|4     | a big meow to u                                                                                                      |[a, big, meow, to, u]                                                                                                                            |[big, meow]                                                                                                          |\n",
      "|4     |a big thank you to  for encouraging this pain in the ass character                                                    |[a, big, thank, you, to, for, encouraging, this, pain, in, the, ass, character]                                                                  |[big, thank, encouraging, pain, ass, character]                                                                      |\n",
      "+------+----------------------------------------------------------------------------------------------------------------------+-------------------------------------------------------------------------------------------------------------------------------------------------+---------------------------------------------------------------------------------------------------------------------+\n",
      "only showing top 20 rows\n",
      "\n"
     ]
    }
   ],
   "source": [
    "# Show the DataFrame after removing stop words\n",
    "test_filtered_df.select(\"target\", \"text\", \"words\", \"filtered_words\").show(truncate=False)"
   ]
  },
  {
   "cell_type": "code",
   "execution_count": null,
   "metadata": {
    "application/vnd.databricks.v1+cell": {
     "cellMetadata": {
      "byteLimit": 2048000,
      "rowLimit": 10000
     },
     "inputWidgets": {},
     "nuid": "a0211155-8234-4768-9e8a-72fc7bb93e42",
     "showTitle": false,
     "title": ""
    }
   },
   "outputs": [
    {
     "name": "stdout",
     "output_type": "stream",
     "text": [
      "+--------------------------------------------------------------------------------------------------+\n",
      "|filtered_words                                                                                    |\n",
      "+--------------------------------------------------------------------------------------------------+\n",
      "|[think, manuel, basil, plant, days, live]                                                         |\n",
      "|[forgot, lunch, home]                                                                             |\n",
      "|[exercise, build, muscle, mass, thing, speeds, metabolism]                                        |\n",
      "|[cats, cradle, came, random, itunes]                                                              |\n",
      "|[understand]                                                                                      |\n",
      "|[try, enjoy, ur, family, need, anythinganything, love, sisbe, brave, know, r, strong, ur, prayers]|\n",
      "|[not, feeling, today, make, matters, worst, super, nasty, rainy, outside, yuck]                   |\n",
      "|[hate, work, long, weekend, want, bf, kitties]                                                    |\n",
      "|[side, tracked, gotta, get, focus, right]                                                         |\n",
      "|[arent, trains, going, manchester, sunday, cant, go, concert]                                     |\n",
      "|[lt, mustache, man, not, desperate]                                                               |\n",
      "|[anyone, dfw, wanna, hang]                                                                        |\n",
      "|[friends, leaving, cause, stupid, love]                                                           |\n",
      "|[hoegaarden, cheezits, episode, dexter, locked, rest, evening]                                    |\n",
      "|[another, expensive, weekend, trip, vet]                                                          |\n",
      "|[mothers, whose, day, may, not, happy, god, loves, tlc, waterfalls]                               |\n",
      "|[missing, jenni, morning, hope, ur, enjoying, vacation, far]                                      |\n",
      "|[sad, lost, followers, boohoo, oh, well, keep, pressing, great, day]                              |\n",
      "|[no, movie, times, sunday, rats, plan, tomorrow, guess, means, work, two, presentations]          |\n",
      "|[dont, want, sister, leave, whole, summer]                                                        |\n",
      "+--------------------------------------------------------------------------------------------------+\n",
      "only showing top 20 rows\n",
      "\n"
     ]
    }
   ],
   "source": [
    "test_filtered_df.select( \"filtered_words\").show(truncate=False)"
   ]
  },
  {
   "cell_type": "code",
   "execution_count": null,
   "metadata": {
    "application/vnd.databricks.v1+cell": {
     "cellMetadata": {
      "byteLimit": 2048000,
      "rowLimit": 10000
     },
     "inputWidgets": {},
     "nuid": "1af75b35-74e3-4d8a-95fe-e42ef33e5863",
     "showTitle": false,
     "title": ""
    }
   },
   "outputs": [
    {
     "name": "stdout",
     "output_type": "stream",
     "text": [
      "+---------------+-----+\n",
      "|filtered_words |count|\n",
      "+---------------+-----+\n",
      "|[]             |437  |\n",
      "|[love]         |61   |\n",
      "|[wish]         |56   |\n",
      "|[miss]         |55   |\n",
      "|[work]         |51   |\n",
      "|[not]          |48   |\n",
      "|[good]         |42   |\n",
      "|[thanks]       |41   |\n",
      "|[yes]          |37   |\n",
      "|[know]         |37   |\n",
      "|[sad]          |35   |\n",
      "|[yeah]         |28   |\n",
      "|[fun]          |28   |\n",
      "|[lol]          |27   |\n",
      "|[cold]         |25   |\n",
      "|[good, morning]|24   |\n",
      "|[hate]         |24   |\n",
      "|[missed]       |24   |\n",
      "|[sure]         |23   |\n",
      "|[awesome]      |23   |\n",
      "+---------------+-----+\n",
      "only showing top 20 rows\n",
      "\n"
     ]
    }
   ],
   "source": [
    "from pyspark.sql.functions import col, count\n",
    "\n",
    "# Group by the \"cleaned_words\" column, count occurrences, and filter duplicates\n",
    "duplicate_cleaned_rows = test_filtered_df.groupBy(\"filtered_words\") \\\n",
    "                                         .agg(count(\"*\").alias(\"count\")) \\\n",
    "                                         .filter(col(\"count\") > 1) \\\n",
    "                                         .orderBy(col(\"count\").desc())\n",
    "\n",
    "# Show the duplicate rows ordered by count\n",
    "duplicate_cleaned_rows.show(truncate=False)"
   ]
  },
  {
   "cell_type": "code",
   "execution_count": null,
   "metadata": {
    "application/vnd.databricks.v1+cell": {
     "cellMetadata": {
      "byteLimit": 2048000,
      "rowLimit": 10000
     },
     "inputWidgets": {},
     "nuid": "964050b7-4704-475d-a2fe-63796823602d",
     "showTitle": false,
     "title": ""
    }
   },
   "outputs": [
    {
     "data": {
      "text/plain": [
       "0"
      ]
     },
     "execution_count": 52,
     "metadata": {},
     "output_type": "execute_result"
    }
   ],
   "source": [
    "# Drop duplicate rows based on the \"text\" column\n",
    "test_filtered_df = test_filtered_df.dropDuplicates([\"filtered_words\"])\n",
    "\n",
    "# Step 2: Check for remaining duplicates\n",
    "remaining_duplicates = test_filtered_df.groupBy(\"filtered_words\") \\\n",
    "                                       .agg(count(\"*\").alias(\"count\")) \\\n",
    "                                       .filter(col(\"count\") > 1)\n",
    "\n",
    "# Check the count of remaining duplicates\n",
    "remaining_duplicates.count()"
   ]
  },
  {
   "cell_type": "markdown",
   "metadata": {
    "application/vnd.databricks.v1+cell": {
     "cellMetadata": {},
     "inputWidgets": {},
     "nuid": "87d796d7-c2c3-437d-8776-ed4f9883b3ef",
     "showTitle": false,
     "title": ""
    }
   },
   "source": [
    "# Stemmer and lemmatizer on Train data"
   ]
  },
  {
   "cell_type": "code",
   "execution_count": null,
   "metadata": {
    "application/vnd.databricks.v1+cell": {
     "cellMetadata": {
      "byteLimit": 2048000,
      "rowLimit": 10000
     },
     "inputWidgets": {},
     "nuid": "e32b423f-5ec6-4b56-9e0b-c2660199ef74",
     "showTitle": false,
     "title": ""
    }
   },
   "outputs": [],
   "source": [
    "import nltk\n",
    "from nltk.stem import PorterStemmer, WordNetLemmatizer\n",
    "from nltk.corpus import wordnet\n",
    "from pyspark.sql.functions import udf\n",
    "from pyspark.sql.types import ArrayType, StringType"
   ]
  },
  {
   "cell_type": "code",
   "execution_count": null,
   "metadata": {
    "application/vnd.databricks.v1+cell": {
     "cellMetadata": {
      "byteLimit": 2048000,
      "rowLimit": 10000
     },
     "inputWidgets": {},
     "nuid": "cbd733ad-54d4-4c13-85e3-4e2f5dd02fbe",
     "showTitle": false,
     "title": ""
    }
   },
   "outputs": [
    {
     "name": "stderr",
     "output_type": "stream",
     "text": [
      "[nltk_data] Downloading package punkt to /root/nltk_data...\n",
      "[nltk_data]   Unzipping tokenizers/punkt.zip.\n",
      "[nltk_data] Downloading package wordnet to /root/nltk_data...\n",
      "[nltk_data] Downloading package omw-1.4 to /root/nltk_data...\n"
     ]
    },
    {
     "data": {
      "text/plain": [
       "True"
      ]
     },
     "execution_count": 54,
     "metadata": {},
     "output_type": "execute_result"
    }
   ],
   "source": [
    "# Download NLTK resources\n",
    "nltk.download('punkt')\n",
    "nltk.download('wordnet')\n",
    "nltk.download('omw-1.4')"
   ]
  },
  {
   "cell_type": "code",
   "execution_count": null,
   "metadata": {
    "application/vnd.databricks.v1+cell": {
     "cellMetadata": {
      "byteLimit": 2048000,
      "rowLimit": 10000
     },
     "inputWidgets": {},
     "nuid": "b4f6e792-66b0-4ae4-a40b-9085c6a34718",
     "showTitle": false,
     "title": ""
    }
   },
   "outputs": [],
   "source": [
    "# Initialize stemmer and lemmatizer\n",
    "stemmer = PorterStemmer()\n",
    "lemmatizer = WordNetLemmatizer()"
   ]
  },
  {
   "cell_type": "code",
   "execution_count": null,
   "metadata": {
    "application/vnd.databricks.v1+cell": {
     "cellMetadata": {
      "byteLimit": 2048000,
      "rowLimit": 10000
     },
     "inputWidgets": {},
     "nuid": "e50490f1-68a4-4521-95f5-7235382d66df",
     "showTitle": false,
     "title": ""
    }
   },
   "outputs": [],
   "source": [
    "# Define stemming function\n",
    "def stem_words(words):\n",
    "    return [stemmer.stem(word) for word in words]\n",
    "\n",
    "# Define lemmatization function\n",
    "def lemmatize_words(words):\n",
    "    return [lemmatizer.lemmatize(word) for word in words]"
   ]
  },
  {
   "cell_type": "code",
   "execution_count": null,
   "metadata": {
    "application/vnd.databricks.v1+cell": {
     "cellMetadata": {
      "byteLimit": 2048000,
      "rowLimit": 10000
     },
     "inputWidgets": {},
     "nuid": "46c2dfe3-2dff-4f6f-8e74-f5aab5feac22",
     "showTitle": false,
     "title": ""
    }
   },
   "outputs": [],
   "source": [
    "# Register UDFs\n",
    "stem_udf = udf(stem_words, ArrayType(StringType()))\n",
    "lemmatize_udf = udf(lemmatize_words, ArrayType(StringType()))"
   ]
  },
  {
   "cell_type": "code",
   "execution_count": null,
   "metadata": {
    "application/vnd.databricks.v1+cell": {
     "cellMetadata": {
      "byteLimit": 2048000,
      "rowLimit": 10000
     },
     "inputWidgets": {},
     "nuid": "0b35d095-5bf8-4228-9cfd-768b7d20703b",
     "showTitle": false,
     "title": ""
    }
   },
   "outputs": [],
   "source": [
    "# Apply the UDFs on train dataframe\n",
    "train_stemmed_df = train_filtered_df.withColumn(\"stemmed_words\", stem_udf(train_filtered_df.filtered_words))\n",
    "train_lemmatized_df = train_filtered_df.withColumn(\"lemmatized_words\", lemmatize_udf(train_filtered_df.filtered_words))"
   ]
  },
  {
   "cell_type": "code",
   "execution_count": null,
   "metadata": {
    "application/vnd.databricks.v1+cell": {
     "cellMetadata": {
      "byteLimit": 2048000,
      "rowLimit": 10000
     },
     "inputWidgets": {},
     "nuid": "2327a00c-6bf6-43b2-8522-e8ccc98ccd46",
     "showTitle": false,
     "title": ""
    }
   },
   "outputs": [
    {
     "name": "stdout",
     "output_type": "stream",
     "text": [
      "+-----------------------------------------------------------------------------------------------------------------------+\n",
      "|stemmed_words                                                                                                          |\n",
      "+-----------------------------------------------------------------------------------------------------------------------+\n",
      "|[cant, bother, wish, spend, rest, life, sat, go, gig, serious]                                                         |\n",
      "|[gongwer, oh, report, sound, like, leadership, still, consid, librari, cut, not, consid, tax, increas, saveohiolibrari]|\n",
      "|[ill, get, right, away]                                                                                                |\n",
      "|[not, happi]                                                                                                           |\n",
      "|[sigh, ok, oh, yesgo, john, doughnut, coffe, n, light, read, dti, cleaner, gymowww, sale]                              |\n",
      "|[what, wrong, wit]                                                                                                     |\n",
      "|[wish, live, la, bring, friend, band]                                                                                  |\n",
      "|[j, right, hurt]                                                                                                       |\n",
      "|[no, shop]                                                                                                             |\n",
      "|[miss, summertim, daley]                                                                                               |\n",
      "|[dont, even, know]                                                                                                     |\n",
      "|[realli, make, sad, look, muslim, realiti]                                                                             |\n",
      "|[sick, bedtim, battl]                                                                                                  |\n",
      "|[want, octo, drive]                                                                                                    |\n",
      "|[think, avatar, hous, fill, heart, hand, think]                                                                        |\n",
      "|[boston, globe, shut, day]                                                                                             |\n",
      "|[must, think, posit]                                                                                                   |\n",
      "|[lt, way, feel, right]                                                                                                 |\n",
      "|[still, feel, like, douchebag]                                                                                         |\n",
      "|[awwwwwh, want, aiden, davi, win, lt, bum, didnt]                                                                      |\n",
      "+-----------------------------------------------------------------------------------------------------------------------+\n",
      "only showing top 20 rows\n",
      "\n"
     ]
    }
   ],
   "source": [
    "# Show the DataFrame after stemming\n",
    "train_stemmed_df.select(\"stemmed_words\").show(truncate=False)"
   ]
  },
  {
   "cell_type": "code",
   "execution_count": null,
   "metadata": {
    "application/vnd.databricks.v1+cell": {
     "cellMetadata": {
      "byteLimit": 2048000,
      "rowLimit": 10000
     },
     "inputWidgets": {},
     "nuid": "f4e26232-e65d-42a4-8b9f-2c5525137724",
     "showTitle": false,
     "title": ""
    }
   },
   "outputs": [
    {
     "name": "stdout",
     "output_type": "stream",
     "text": [
      "+------------------------------------------------------------------------------------------------------------------------------------+\n",
      "|lemmatized_words                                                                                                                    |\n",
      "+------------------------------------------------------------------------------------------------------------------------------------+\n",
      "|[cant, bothered, wish, spend, rest, life, sat, going, gig, seriously]                                                               |\n",
      "|[gongwer, oh, report, sound, like, leadership, still, considering, library, cut, not, considering, tax, increase, saveohiolibraries]|\n",
      "|[ill, get, right, away]                                                                                                             |\n",
      "|[not, happy]                                                                                                                        |\n",
      "|[sigh, ok, oh, yesgoing, john, doughnut, coffee, n, light, reading, dty, cleaner, gymowww, sale]                                    |\n",
      "|[whats, wrong, wit]                                                                                                                 |\n",
      "|[wish, live, la, bring, friend, band]                                                                                               |\n",
      "|[j, right, hurt]                                                                                                                    |\n",
      "|[no, shopping]                                                                                                                      |\n",
      "|[miss, summertime, daley]                                                                                                           |\n",
      "|[dont, even, know]                                                                                                                  |\n",
      "|[really, make, sad, look, muslim, reality]                                                                                          |\n",
      "|[sick, bedtime, battle]                                                                                                             |\n",
      "|[want, octo, drive]                                                                                                                 |\n",
      "|[thinking, avatar, house, filled, heart, hand, think]                                                                               |\n",
      "|[boston, globe, shut, day]                                                                                                          |\n",
      "|[must, think, positive]                                                                                                             |\n",
      "|[lt, way, feel, right]                                                                                                              |\n",
      "|[still, feel, like, douchebag]                                                                                                      |\n",
      "|[awwwwwh, wanted, aiden, davis, win, lt, bummed, didnt]                                                                             |\n",
      "+------------------------------------------------------------------------------------------------------------------------------------+\n",
      "only showing top 20 rows\n",
      "\n"
     ]
    }
   ],
   "source": [
    "# Show the DataFrame after lemmatization\n",
    "train_lemmatized_df.select(\"lemmatized_words\").show(truncate=False)"
   ]
  },
  {
   "cell_type": "code",
   "execution_count": null,
   "metadata": {
    "application/vnd.databricks.v1+cell": {
     "cellMetadata": {
      "byteLimit": 2048000,
      "rowLimit": 10000
     },
     "inputWidgets": {},
     "nuid": "9d126b54-b6d2-4daf-8a6a-4e2ac24e3f5a",
     "showTitle": false,
     "title": ""
    }
   },
   "outputs": [
    {
     "name": "stdout",
     "output_type": "stream",
     "text": [
      "+-----------------------------+-----+\n",
      "|lemmatized_words             |count|\n",
      "+-----------------------------+-----+\n",
      "|[yes]                        |14   |\n",
      "|[suck]                       |7    |\n",
      "|[miss]                       |6    |\n",
      "|[thanks]                     |6    |\n",
      "|[days]                       |5    |\n",
      "|[cramp]                      |5    |\n",
      "|[exam]                       |5    |\n",
      "|[want, cupcake]              |4    |\n",
      "|[hate, sore, throat]         |4    |\n",
      "|[movie]                      |4    |\n",
      "|[head, hurt]                 |4    |\n",
      "|[arm, hurt]                  |4    |\n",
      "|[hug]                        |4    |\n",
      "|[awww, suck]                 |4    |\n",
      "|[hate, rain]                 |4    |\n",
      "|[tummy, hurt]                |4    |\n",
      "|[miss, youu]                 |4    |\n",
      "|[update]                     |4    |\n",
      "|[watching, mtv, movie, award]|4    |\n",
      "|[happy, mother, day, mommy]  |4    |\n",
      "+-----------------------------+-----+\n",
      "only showing top 20 rows\n",
      "\n"
     ]
    }
   ],
   "source": [
    "from pyspark.sql.functions import col, count\n",
    "\n",
    "# Group by the \"lemmatized_words\" column, count occurrences, and filter duplicates\n",
    "duplicate_cleaned_rows = train_lemmatized_df.groupBy(\"lemmatized_words\") \\\n",
    "                                               .agg(count(\"*\").alias(\"count\")) \\\n",
    "                                               .filter(col(\"count\") > 1) \\\n",
    "                                               .orderBy(col(\"count\").desc())\n",
    "\n",
    "# Show the duplicate rows ordered by count\n",
    "duplicate_cleaned_rows.show(truncate=False)"
   ]
  },
  {
   "cell_type": "code",
   "execution_count": null,
   "metadata": {
    "application/vnd.databricks.v1+cell": {
     "cellMetadata": {
      "byteLimit": 2048000,
      "rowLimit": 10000
     },
     "inputWidgets": {},
     "nuid": "0c75ca13-547b-4709-a8d1-fd31edd1f2cd",
     "showTitle": false,
     "title": ""
    }
   },
   "outputs": [
    {
     "data": {
      "text/plain": [
       "0"
      ]
     },
     "execution_count": 62,
     "metadata": {},
     "output_type": "execute_result"
    }
   ],
   "source": [
    "# Drop duplicate rows based on the \"text\" column\n",
    "train_lemmatized_df = train_lemmatized_df.dropDuplicates([\"lemmatized_words\"])\n",
    "\n",
    "# Step 2: Check for remaining duplicates\n",
    "remaining_duplicates = train_lemmatized_df.groupBy(\"lemmatized_words\") \\\n",
    "                                       .agg(count(\"*\").alias(\"count\")) \\\n",
    "                                       .filter(col(\"count\") > 1)\n",
    "\n",
    "# Check the count of remaining duplicates\n",
    "remaining_duplicates.count()"
   ]
  },
  {
   "cell_type": "markdown",
   "metadata": {
    "application/vnd.databricks.v1+cell": {
     "cellMetadata": {},
     "inputWidgets": {},
     "nuid": "cc8150ed-2b03-46c7-bf5f-21981a984cbd",
     "showTitle": false,
     "title": ""
    }
   },
   "source": [
    "# Stemming & Lemmatization on test Data"
   ]
  },
  {
   "cell_type": "code",
   "execution_count": null,
   "metadata": {
    "application/vnd.databricks.v1+cell": {
     "cellMetadata": {
      "byteLimit": 2048000,
      "rowLimit": 10000
     },
     "inputWidgets": {},
     "nuid": "817dbb31-54a3-4ee9-a833-2e853c728919",
     "showTitle": false,
     "title": ""
    }
   },
   "outputs": [],
   "source": [
    "# Apply the UDFs on train dataframe\n",
    "test_stemmed_df = test_filtered_df.withColumn(\"stemmed_words\", stem_udf(test_filtered_df.filtered_words))\n",
    "test_lemmatized_df = test_filtered_df.withColumn(\"lemmatized_words\", lemmatize_udf(test_filtered_df.filtered_words))"
   ]
  },
  {
   "cell_type": "code",
   "execution_count": null,
   "metadata": {
    "application/vnd.databricks.v1+cell": {
     "cellMetadata": {
      "byteLimit": 2048000,
      "rowLimit": 10000
     },
     "inputWidgets": {},
     "nuid": "ccb9ab09-4595-4db0-b03a-024ec3015951",
     "showTitle": false,
     "title": ""
    }
   },
   "outputs": [
    {
     "name": "stdout",
     "output_type": "stream",
     "text": [
      "+---------------------------------------------------------------------------------------------+\n",
      "|stemmed_words                                                                                |\n",
      "+---------------------------------------------------------------------------------------------+\n",
      "|[anyon, dfw, wanna, hang]                                                                    |\n",
      "|[cat, cradl, came, random, itun]                                                             |\n",
      "|[not, feel, today, make, matter, worst, super, nasti, raini, outsid, yuck]                   |\n",
      "|[miss, jenni, morn, hope, ur, enjoy, vacat, far]                                             |\n",
      "|[dont, want, sister, leav, whole, summer]                                                    |\n",
      "|[forgot, lunch, home]                                                                        |\n",
      "|[friend, leav, caus, stupid, love]                                                           |\n",
      "|[no, movi, time, sunday, rat, plan, tomorrow, guess, mean, work, two, present]               |\n",
      "|[anoth, expens, weekend, trip, vet]                                                          |\n",
      "|[hoegaarden, cheezit, episod, dexter, lock, rest, even]                                      |\n",
      "|[mother, whose, day, may, not, happi, god, love, tlc, waterfal]                              |\n",
      "|[lt, mustach, man, not, desper]                                                              |\n",
      "|[think, manuel, basil, plant, day, live]                                                     |\n",
      "|[sad, lost, follow, boohoo, oh, well, keep, press, great, day]                               |\n",
      "|[arent, train, go, manchest, sunday, cant, go, concert]                                      |\n",
      "|[tri, enjoy, ur, famili, need, anythinganyth, love, sisb, brave, know, r, strong, ur, prayer]|\n",
      "|[understand]                                                                                 |\n",
      "|[side, track, gotta, get, focu, right]                                                       |\n",
      "|[exercis, build, muscl, mass, thing, speed, metabol]                                         |\n",
      "|[hate, work, long, weekend, want, bf, kitti]                                                 |\n",
      "+---------------------------------------------------------------------------------------------+\n",
      "only showing top 20 rows\n",
      "\n"
     ]
    }
   ],
   "source": [
    "# Show the DataFrame after stemming\n",
    "test_stemmed_df.select(\"stemmed_words\").show(truncate=False)"
   ]
  },
  {
   "cell_type": "code",
   "execution_count": null,
   "metadata": {
    "application/vnd.databricks.v1+cell": {
     "cellMetadata": {
      "byteLimit": 2048000,
      "rowLimit": 10000
     },
     "inputWidgets": {},
     "nuid": "39e1ac95-5bdb-446b-a98d-f9bfb07f3a7c",
     "showTitle": false,
     "title": ""
    }
   },
   "outputs": [
    {
     "name": "stdout",
     "output_type": "stream",
     "text": [
      "+-------------------------------------------------------------------------------------------------+\n",
      "|lemmatized_words                                                                                 |\n",
      "+-------------------------------------------------------------------------------------------------+\n",
      "|[anyone, dfw, wanna, hang]                                                                       |\n",
      "|[cat, cradle, came, random, itunes]                                                              |\n",
      "|[not, feeling, today, make, matter, worst, super, nasty, rainy, outside, yuck]                   |\n",
      "|[missing, jenni, morning, hope, ur, enjoying, vacation, far]                                     |\n",
      "|[dont, want, sister, leave, whole, summer]                                                       |\n",
      "|[forgot, lunch, home]                                                                            |\n",
      "|[friend, leaving, cause, stupid, love]                                                           |\n",
      "|[no, movie, time, sunday, rat, plan, tomorrow, guess, mean, work, two, presentation]             |\n",
      "|[another, expensive, weekend, trip, vet]                                                         |\n",
      "|[hoegaarden, cheezits, episode, dexter, locked, rest, evening]                                   |\n",
      "|[mother, whose, day, may, not, happy, god, love, tlc, waterfall]                                 |\n",
      "|[lt, mustache, man, not, desperate]                                                              |\n",
      "|[think, manuel, basil, plant, day, live]                                                         |\n",
      "|[sad, lost, follower, boohoo, oh, well, keep, pressing, great, day]                              |\n",
      "|[arent, train, going, manchester, sunday, cant, go, concert]                                     |\n",
      "|[try, enjoy, ur, family, need, anythinganything, love, sisbe, brave, know, r, strong, ur, prayer]|\n",
      "|[understand]                                                                                     |\n",
      "|[side, tracked, gotta, get, focus, right]                                                        |\n",
      "|[exercise, build, muscle, mass, thing, speed, metabolism]                                        |\n",
      "|[hate, work, long, weekend, want, bf, kitty]                                                     |\n",
      "+-------------------------------------------------------------------------------------------------+\n",
      "only showing top 20 rows\n",
      "\n"
     ]
    }
   ],
   "source": [
    "# Show the DataFrame after lemmatization\n",
    "test_lemmatized_df.select(\"lemmatized_words\").show(truncate=False)"
   ]
  },
  {
   "cell_type": "code",
   "execution_count": null,
   "metadata": {
    "application/vnd.databricks.v1+cell": {
     "cellMetadata": {
      "byteLimit": 2048000,
      "rowLimit": 10000
     },
     "inputWidgets": {},
     "nuid": "988ab6ab-476c-40f4-a93d-91d8052959ad",
     "showTitle": false,
     "title": ""
    }
   },
   "outputs": [
    {
     "name": "stdout",
     "output_type": "stream",
     "text": [
      "+----------------+-----+\n",
      "|lemmatized_words|count|\n",
      "+----------------+-----+\n",
      "|[yes]           |8    |\n",
      "|[miss]          |6    |\n",
      "|[head, hurt]    |4    |\n",
      "|[final]         |4    |\n",
      "|[hug]           |4    |\n",
      "|[stomach, hurt] |4    |\n",
      "|[want, puppy]   |3    |\n",
      "|[thanks]        |3    |\n",
      "|[love, guy]     |3    |\n",
      "|[knee, hurt]    |3    |\n",
      "|[today, day]    |3    |\n",
      "|[miss, baby]    |3    |\n",
      "|[night]         |3    |\n",
      "|[cry]           |3    |\n",
      "|[love, pic]     |3    |\n",
      "|[tummy, hurt]   |3    |\n",
      "|[miss, girl]    |3    |\n",
      "|[miss, friend]  |3    |\n",
      "|[want, rain]    |3    |\n",
      "|[birthday, hour]|3    |\n",
      "+----------------+-----+\n",
      "only showing top 20 rows\n",
      "\n"
     ]
    }
   ],
   "source": [
    "from pyspark.sql.functions import col, count\n",
    "\n",
    "# Group by the \"lemmatized_words\" column, count occurrences, and filter duplicates\n",
    "duplicate_cleaned_rows = test_lemmatized_df.groupBy(\"lemmatized_words\") \\\n",
    "                                               .agg(count(\"*\").alias(\"count\")) \\\n",
    "                                               .filter(col(\"count\") > 1) \\\n",
    "                                               .orderBy(col(\"count\").desc())\n",
    "\n",
    "# Show the duplicate rows ordered by count\n",
    "duplicate_cleaned_rows.show(truncate=False)"
   ]
  },
  {
   "cell_type": "code",
   "execution_count": null,
   "metadata": {
    "application/vnd.databricks.v1+cell": {
     "cellMetadata": {
      "byteLimit": 2048000,
      "rowLimit": 10000
     },
     "inputWidgets": {},
     "nuid": "36cf134a-7ba6-4717-a637-bbec3c505ffa",
     "showTitle": false,
     "title": ""
    }
   },
   "outputs": [
    {
     "data": {
      "text/plain": [
       "0"
      ]
     },
     "execution_count": 67,
     "metadata": {},
     "output_type": "execute_result"
    }
   ],
   "source": [
    "# Drop duplicate rows based on the \"text\" column\n",
    "test_lemmatized_df = test_lemmatized_df.dropDuplicates([\"lemmatized_words\"])\n",
    "\n",
    "# Step 2: Check for remaining duplicates\n",
    "remaining_duplicates = test_lemmatized_df.groupBy(\"lemmatized_words\") \\\n",
    "                                       .agg(count(\"*\").alias(\"count\")) \\\n",
    "                                       .filter(col(\"count\") > 1)\n",
    "\n",
    "# Check the count of remaining duplicates\n",
    "remaining_duplicates.count()"
   ]
  },
  {
   "cell_type": "markdown",
   "metadata": {
    "application/vnd.databricks.v1+cell": {
     "cellMetadata": {},
     "inputWidgets": {},
     "nuid": "85428339-fef9-41e1-86e6-780f337bfcf6",
     "showTitle": false,
     "title": ""
    }
   },
   "source": [
    "# TFIDF Vectorization on Train Data"
   ]
  },
  {
   "cell_type": "code",
   "execution_count": null,
   "metadata": {
    "application/vnd.databricks.v1+cell": {
     "cellMetadata": {
      "byteLimit": 2048000,
      "rowLimit": 10000
     },
     "inputWidgets": {},
     "nuid": "ad5ba01f-b189-44a4-90e0-56491a515362",
     "showTitle": false,
     "title": ""
    }
   },
   "outputs": [
    {
     "name": "stdout",
     "output_type": "stream",
     "text": [
      "+-------------------------------------------------------------------------------------------------------------------------------------------------------------------------------------------------------------------------------------------------------------------------------------------------------------------------------------------+\n",
      "|features                                                                                                                                                                                                                                                                                                                                   |\n",
      "+-------------------------------------------------------------------------------------------------------------------------------------------------------------------------------------------------------------------------------------------------------------------------------------------------------------------------------------------+\n",
      "|(10000,[680,3525,4112,6119,8438,9939],[7.260379885774749,3.7910186976468387,3.473610278544202,9.504671973968954,3.9968457562820188,4.176386484353847])                                                                                                                                                                                     |\n",
      "|(10000,[2058,2782,7203,9133],[8.867266776417244,7.099138911722466,6.751855758997038,2.768305462030773])                                                                                                                                                                                                                                    |\n",
      "|(10000,[740,1720,1976,2645,2700,4419,4526,8460,8666,8878,9050,9224,9701,9711],[5.07099066443018,6.353069329708179,9.144389088654023,4.614594646428375,5.47674185464586,8.213085564390683,5.624475400152486,4.956263398913276,7.72910719066088,8.45545244063042,8.260552101629607,3.7063828551081115,6.499944137506385,6.5382816586989785]) |\n",
      "|(10000,[4453,6887,8845],[7.354031161351256,7.934551164875689,4.620957725801558])                                                                                                                                                                                                                                                           |\n",
      "|(10000,[1790,3737,9248,9426],[4.020025029229424,4.828695301044909,3.88772564521594,2.885080811313924])                                                                                                                                                                                                                                     |\n",
      "|(10000,[5347,7405],[3.8495652122006576,2.6930826625598048])                                                                                                                                                                                                                                                                                |\n",
      "|(10000,[275,1251,6512],[6.529634291657796,5.062020717478638,5.487529445774858])                                                                                                                                                                                                                                                            |\n",
      "|(10000,[2,593,1206,3330,3676,3712,4803,6166,6505,6587,7405,7963,8780,9224],[7.131168154294743,7.70890448334336,5.992227820239662,2.9977000087334336,15.320228638347857,3.5819314016295323,6.042708237090651,4.85831359545904,6.953721911863963,7.511694314055656,2.6930826625598048,8.534440851949052,9.06370017740388,3.7063828551081115])|\n",
      "|(10000,[3704,7457],[3.0715188329929117,5.655293701698046])                                                                                                                                                                                                                                                                                 |\n",
      "|(10000,[1071,1589,7028],[3.770668071099311,8.502977582493266,9.348801603262169])                                                                                                                                                                                                                                                           |\n",
      "|(10000,[6406,7779,7977],[4.3542398158094215,3.3654367808481025,3.1490664473534102])                                                                                                                                                                                                                                                        |\n",
      "|(10000,[488,493,495,662,3057,5098],[3.4699979232642963,5.003524510797029,3.954050040305891,6.182413491730187,5.847618951466695,5.822744338693821])                                                                                                                                                                                         |\n",
      "|(10000,[6325,7712,8335],[5.786409192126251,3.4993282856681702,7.646869092423908])                                                                                                                                                                                                                                                          |\n",
      "|(10000,[775,1930,2335,3423,4890,5836,9808],[5.331211917862509,7.4237255411096985,3.566246060842709,5.869307684701146,6.308214241939737,4.775154002145251,5.704995004275961])                                                                                                                                                               |\n",
      "|(10000,[1,1023,2335],[6.437459963902412,5.203378546352624,3.566246060842709])                                                                                                                                                                                                                                                              |\n",
      "|(10000,[1790,3115,5279,9391],[4.020025029229424,3.804550812220121,4.793840112856825,4.120342725744291])                                                                                                                                                                                                                                    |\n",
      "|(10000,[1302,3115,3330,3712],[9.412653075248702,3.804550812220121,2.9977000087334336,3.5819314016295323])                                                                                                                                                                                                                                  |\n",
      "|(10000,[1346,2398,2616,2720,5279,6538,9450,9883],[7.816489694023298,5.424483360976986,5.069990021076013,8.233153127441492,4.793840112856825,4.017029520249626,8.676488509605067,6.713432953594764])                                                                                                                                        |\n",
      "|(10000,[4112,7405,8236],[3.473610278544202,2.6930826625598048,11.010070726576945])                                                                                                                                                                                                                                                         |\n",
      "|(10000,[353,495,2117,2687,2708,3477,4099,5038,5542,6026],[6.0404432304597995,3.954050040305891,7.626403261831617,6.049153757035671,4.298417054774112,4.543176302686052,5.403523303047313,3.1976494506616935,6.765777097515645,3.2104957939287235])                                                                                         |\n",
      "+-------------------------------------------------------------------------------------------------------------------------------------------------------------------------------------------------------------------------------------------------------------------------------------------------------------------------------------------+\n",
      "only showing top 20 rows\n",
      "\n"
     ]
    }
   ],
   "source": [
    "from pyspark.ml.feature import HashingTF, IDF\n",
    "\n",
    "# HashingTF: Transform the words into term frequency vectors\n",
    "hashingTF = HashingTF(inputCol=\"lemmatized_words\", outputCol=\"raw_features\", numFeatures=10000)\n",
    "train_tf_df = hashingTF.transform(train_lemmatized_df)\n",
    "\n",
    "# IDF: Compute the inverse document frequency and apply it to the term frequency vectors\n",
    "idf = IDF(inputCol=\"raw_features\", outputCol=\"features\")\n",
    "\n",
    "# IDF: Apply the IDF model from training to the training data\n",
    "idf_model = idf.fit(train_tf_df)\n",
    "train_tfidf_df = idf_model.transform(train_tf_df)\n",
    "\n",
    "# Show the DataFrame after TF-IDF vectorization\n",
    "train_tfidf_df.select(\"features\").show(truncate=False)"
   ]
  },
  {
   "cell_type": "code",
   "execution_count": null,
   "metadata": {
    "application/vnd.databricks.v1+cell": {
     "cellMetadata": {
      "byteLimit": 2048000,
      "rowLimit": 10000
     },
     "inputWidgets": {},
     "nuid": "959f84ee-f751-4e3c-84af-f6dc3160c1b9",
     "showTitle": false,
     "title": ""
    }
   },
   "outputs": [
    {
     "name": "stdout",
     "output_type": "stream",
     "text": [
      "+-----------------------------------+-----+\n",
      "|features                           |count|\n",
      "+-----------------------------------+-----+\n",
      "|(10000,[4970],[6.08201965730554])  |5    |\n",
      "|(10000,[50],[8.065579427282092])   |5    |\n",
      "|(10000,[4531],[6.949033670740507]) |5    |\n",
      "|(10000,[3984],[6.627099312991632]) |5    |\n",
      "|(10000,[9797],[6.05525831624494])  |5    |\n",
      "|(10000,[1816],[8.010009576127281]) |5    |\n",
      "|(10000,[3344],[4.6663840482906105])|5    |\n",
      "|(10000,[8914],[8.299495075578214]) |5    |\n",
      "|(10000,[6368],[7.102405109509087]) |5    |\n",
      "|(10000,[372],[6.9462312401348045]) |5    |\n",
      "|(10000,[2415],[5.863604247187276]) |4    |\n",
      "|(10000,[6212],[5.469898371992186]) |4    |\n",
      "|(10000,[2785],[8.32139376088585])  |4    |\n",
      "|(10000,[2227],[8.16777036817864])  |4    |\n",
      "|(10000,[4616],[7.465174298420762]) |4    |\n",
      "|(10000,[3788],[6.400031269192055]) |4    |\n",
      "|(10000,[7866],[7.5299218278149205])|4    |\n",
      "|(10000,[9432],[4.13796432709411])  |4    |\n",
      "|(10000,[7889],[6.482192192047935]) |4    |\n",
      "|(10000,[5725],[6.172897848995143]) |4    |\n",
      "+-----------------------------------+-----+\n",
      "only showing top 20 rows\n",
      "\n"
     ]
    }
   ],
   "source": [
    "from pyspark.sql.functions import col, count\n",
    "\n",
    "# Group by the \"cleaned_words\" column, count occurrences, and filter duplicates\n",
    "duplicate_rows = train_tfidf_df.groupBy(\"features\") \\\n",
    "                                         .agg(count(\"*\").alias(\"count\")) \\\n",
    "                                         .filter(col(\"count\") > 1) \\\n",
    "                                         .orderBy(col(\"count\").desc())\n",
    "\n",
    "# Show the duplicate rows ordered by count\n",
    "duplicate_rows.show(truncate=False)"
   ]
  },
  {
   "cell_type": "code",
   "execution_count": null,
   "metadata": {
    "application/vnd.databricks.v1+cell": {
     "cellMetadata": {
      "byteLimit": 2048000,
      "rowLimit": 10000
     },
     "inputWidgets": {},
     "nuid": "62d118ca-5d74-475f-852e-b616dbea4f05",
     "showTitle": false,
     "title": ""
    }
   },
   "outputs": [
    {
     "data": {
      "text/plain": [
       "5097"
      ]
     },
     "execution_count": 70,
     "metadata": {},
     "output_type": "execute_result"
    }
   ],
   "source": [
    "duplicate_rows.count()"
   ]
  },
  {
   "cell_type": "markdown",
   "metadata": {
    "application/vnd.databricks.v1+cell": {
     "cellMetadata": {},
     "inputWidgets": {},
     "nuid": "c17c4318-4c34-4765-b5ef-05823be2fa9b",
     "showTitle": false,
     "title": ""
    }
   },
   "source": [
    "Why Dropping Duplicates After Vectorization Isn’t Standard Practice:\n",
    "\n",
    "Vectorization is Based on Text Features: When you vectorize text data (e.g., using TF-IDF), the goal is to transform the textual features into numerical form for the model. Dropping duplicates based on vectorized features rather than original textual data could lead to a loss of valuable information, especially if the vectors correspond to different classes (as in your case).\n",
    "Context and Semantics: The same vector might arise from different sentences or documents that have different meanings or contexts. Therefore, it’s important to preserve the relationship between the original text and the target label rather than just the vector representation."
   ]
  },
  {
   "cell_type": "markdown",
   "metadata": {
    "application/vnd.databricks.v1+cell": {
     "cellMetadata": {},
     "inputWidgets": {},
     "nuid": "6bc0fafe-4b46-4c7f-ba1d-b846108d8bfd",
     "showTitle": false,
     "title": ""
    }
   },
   "source": [
    "# TFIDF Vectorization on Test data"
   ]
  },
  {
   "cell_type": "code",
   "execution_count": null,
   "metadata": {
    "application/vnd.databricks.v1+cell": {
     "cellMetadata": {
      "byteLimit": 2048000,
      "rowLimit": 10000
     },
     "inputWidgets": {},
     "nuid": "d41e151d-bb07-430d-9705-e4f08084463f",
     "showTitle": false,
     "title": ""
    }
   },
   "outputs": [
    {
     "name": "stdout",
     "output_type": "stream",
     "text": [
      "+---------------------------------------------------------------------------------------------------------------------------------------------------------------------------------------------------------------------------------------------------------------------------------------------------------------------+\n",
      "|features                                                                                                                                                                                                                                                                                                             |\n",
      "+---------------------------------------------------------------------------------------------------------------------------------------------------------------------------------------------------------------------------------------------------------------------------------------------------------------------+\n",
      "|(10000,[150,666,2128,5928],[4.512028898754827,5.31100921054499,8.671239153718922,6.071073496408042])                                                                                                                                                                                                                 |\n",
      "|(10000,[909,1001,1439,3704,4170,4728,4752,6123,8025,8157,8660,9527],[4.925623131564836,8.25018931459406,4.591839924621844,3.0715188329929117,7.205707886741861,4.994872210563603,5.125057885700456,5.630713723565177,3.8255278965053363,3.1980669550900087,4.896374154010632,3.1909493314452346])                    |\n",
      "|(10000,[493,2335,5097,7244,8655,9133],[5.003524510797029,3.566246060842709,6.370750497551405,6.3504953257130055,7.816489694023298,2.768305462030773])                                                                                                                                                                |\n",
      "|(10000,[2342,2451,3830,5780,7300],[6.6043101229977035,5.70877674838325,9.54148594709167,5.521505800158432,6.548883566546607])                                                                                                                                                                                        |\n",
      "|(10000,[3160,4158,5099,5347,6000,8539,9240,9751],[3.9010871051579104,5.301779211075391,5.266905334566637,3.8495652122006576,3.816553713712735,4.8262289320816665,5.679178533909457,6.782267459415061])                                                                                                               |\n",
      "|(10000,[627,2913,3521,7712,7977,9481],[5.507024094470947,5.128233211570981,5.699349069127691,3.4993282856681702,3.1490664473534102,4.87076213036414])                                                                                                                                                                |\n",
      "|(10000,[3365,5824,6801],[3.7090171314741465,5.631966071881643,5.278102092548561])                                                                                                                                                                                                                                    |\n",
      "|(10000,[1480,1596,2309,5782,8166],[6.39035377430999,6.826791203270792,4.401944523762574,5.576159169641214,4.678094683176673])                                                                                                                                                                                        |\n",
      "|(10000,[749,2708,5101,5286,8413,8666,8785],[5.946917172448975,4.298417054774112,7.892827321504289,5.943146816654306,7.460483124844882,7.72910719066088,7.650635575219384])                                                                                                                                           |\n",
      "|(10000,[1479,2569,4090,5279,7405],[7.834467706318706,4.488669582437529,9.0483152585644,4.793840112856825,2.6930826625598048])                                                                                                                                                                                        |\n",
      "|(10000,[332,613,2402,2577,3233,3525,4084,6435,7405,8568,9806],[6.074578855401481,4.4048790134334785,6.426860143597269,5.777672968828711,7.6639311177006295,3.7910186976468387,6.990089556034837,5.565080682734256,2.6930826625598048,5.414149969464503,3.1547749920698562])                                          |\n",
      "|(10000,[1079,4752,5038,5517,5617,6026,6451,7717],[6.045357245262228,5.125057885700456,3.1976494506616935,7.814264999001186,6.298893595606153,3.2104957939287235,2.9979878561762776,5.785824396787947])                                                                                                               |\n",
      "|(10000,[1362,1805,2365,4693,6240,6355,6420,6537,7779,8297,8539,8758,8896],[5.373658608109767,5.321243217994196,8.41818104583319,4.932946443633975,3.178608717000998,7.185360087169595,6.7171352902932995,3.6416913385132936,3.3654367808481025,5.136444936547498,9.652457864163333,6.32261012222347,9.5167933345013])|\n",
      "|(10000,[157,750,1233,3557,3794,6775,8438,9133,9224,9594],[3.384930780118096,3.8725968951629928,4.979092790459638,9.07932549530696,8.620207673706476,5.482768562512721,3.9968457562820188,2.768305462030773,3.7063828551081115,4.744456499829136])                                                                    |\n",
      "|(10000,[316,488,4000,6240,7022],[5.314104906361504,3.4699979232642963,5.406919570421347,3.178608717000998,5.322713806494518])                                                                                                                                                                                        |\n",
      "|(10000,[234,354,5347,6240,7232,7405,8588,9133,9160,9539],[5.087574792445716,5.529165220348161,3.8495652122006576,3.178608717000998,8.996258896608348,2.6930826625598048,8.229780442962852,2.768305462030773,5.233711525742999,8.18050939395607])                                                                     |\n",
      "|(10000,[6487],[6.066031794823023])                                                                                                                                                                                                                                                                                   |\n",
      "|(10000,[1671,2816,3014,3857,4573,6423,8629],[7.495407309080956,8.736126775924797,6.591797612039087,4.056844627367961,7.681289316310387,7.541696564359454,6.993017815813926])                                                                                                                                         |\n",
      "|(10000,[373,770,1790,3931,9426,9781],[5.047247321810861,9.06370017740388,4.020025029229424,6.485129051721245,2.885080811313924,6.033304368655592])                                                                                                                                                                   |\n",
      "|(10000,[4320,4748],[5.076584081666534,5.4027258548391845])                                                                                                                                                                                                                                                           |\n",
      "+---------------------------------------------------------------------------------------------------------------------------------------------------------------------------------------------------------------------------------------------------------------------------------------------------------------------+\n",
      "only showing top 20 rows\n",
      "\n"
     ]
    }
   ],
   "source": [
    "from pyspark.ml.feature import HashingTF, IDF\n",
    "\n",
    "# HashingTF: Transform the words into term frequency vectors\n",
    "hashingTF = HashingTF(inputCol=\"lemmatized_words\", outputCol=\"raw_features\", numFeatures=10000)\n",
    "test_tf_df = hashingTF.transform(test_lemmatized_df)\n",
    "\n",
    "# IDF: Apply the IDF model from training to the test data\n",
    "test_tfidf_df = idf_model.transform(test_tf_df)\n",
    "\n",
    "# Show the DataFrame after TF-IDF vectorization\n",
    "test_tfidf_df.select(\"features\").show(truncate=False)"
   ]
  },
  {
   "cell_type": "code",
   "execution_count": null,
   "metadata": {
    "application/vnd.databricks.v1+cell": {
     "cellMetadata": {},
     "inputWidgets": {},
     "nuid": "ed57738b-5834-4d17-ba66-3852689d9058",
     "showTitle": false,
     "title": ""
    }
   },
   "outputs": [],
   "source": []
  },
  {
   "cell_type": "code",
   "execution_count": null,
   "metadata": {
    "application/vnd.databricks.v1+cell": {
     "cellMetadata": {
      "byteLimit": 2048000,
      "rowLimit": 10000
     },
     "inputWidgets": {},
     "nuid": "917fae32-8158-4d62-b5a0-93ab340c3946",
     "showTitle": false,
     "title": ""
    }
   },
   "outputs": [
    {
     "name": "stdout",
     "output_type": "stream",
     "text": [
      "+------+--------------------+--------------------+--------------------+--------------------+--------------------+--------------------+\n",
      "|target|                text|               words|      filtered_words|    lemmatized_words|        raw_features|            features|\n",
      "+------+--------------------+--------------------+--------------------+--------------------+--------------------+--------------------+\n",
      "|     0|aa is too buggy t...|[aa, is, too, bug...|[aa, buggy, play,...|[aa, buggy, play,...|(10000,[407,527,1...|(10000,[407,527,1...|\n",
      "|     0|aa feel dizzy and...|[aa, feel, dizzy,...|[aa, feel, dizzy,...|[aa, feel, dizzy,...|(10000,[1248,1434...|(10000,[1248,1434...|\n",
      "|     0|  aa but i love you |[aa, but, i, love...|          [aa, love]|          [aa, love]|(10000,[4043,6240...|(10000,[4043,6240...|\n",
      "|     4| aa nope di akin ...|[aa, nope, di, ak...|[aa, nope, di, ak...|[aa, nope, di, ak...|(10000,[798,917,4...|(10000,[798,917,4...|\n",
      "|     0|aa is still not w...|[aa, is, still, n...|[aa, still, not, ...|[aa, still, not, ...|(10000,[1690,3712...|(10000,[1690,3712...|\n",
      "|     0| aa woo im gutted...|[aa, woo, im, gut...|[aa, woo, gutted,...|[aa, woo, gutted,...|(10000,[402,1017,...|(10000,[402,1017,...|\n",
      "|     0| aaaa pada abis f...|[aaaa, pada, abis...|[aaaa, pada, abis...|[aaaa, pada, abis...|(10000,[524,622,1...|(10000,[524,622,1...|\n",
      "|     0| aaaaa bsk gw stu...|[aaaaa, bsk, gw, ...|[aaaaa, bsk, gw, ...|[aaaaa, bsk, gw, ...|(10000,[150,1593,...|(10000,[150,1593,...|\n",
      "|     0|aaaaa just finish...|[aaaaa, just, fin...|[aaaaa, finished,...|[aaaaa, finished,...|(10000,[2358,5349...|(10000,[2358,5349...|\n",
      "|     0|aaaaaaa the foly ...|[aaaaaaa, the, fo...|[aaaaaaa, foly, j...|[aaaaaaa, foly, j...|(10000,[453,488,1...|(10000,[453,488,1...|\n",
      "|     0|aaaaaaaa dad is n...|[aaaaaaaa, dad, i...|[aaaaaaaa, dad, n...|[aaaaaaaa, dad, n...|(10000,[91,1499,2...|(10000,[91,1499,2...|\n",
      "|     0| aaaaaaaaa demi w...|[aaaaaaaaa, demi,...|[aaaaaaaaa, demi,...|[aaaaaaaaa, demi,...|(10000,[150,1955,...|(10000,[150,1955,...|\n",
      "|     0|aaaaaaaaaa  is th...|[aaaaaaaaaa, is, ...|[aaaaaaaaaa, haha...|[aaaaaaaaaa, haha...|(10000,[2069,6907...|(10000,[2069,6907...|\n",
      "|     0| aaaaaaaaaaaaa it...|[aaaaaaaaaaaaa, i...|[aaaaaaaaaaaaa, n...|[aaaaaaaaaaaaa, n...|(10000,[3,1690,37...|(10000,[3,1690,37...|\n",
      "|     0| aaaaaaaaaaaaaaaa...|[aaaaaaaaaaaaaaaa...|[aaaaaaaaaaaaaaaa...|[aaaaaaaaaaaaaaaa...|(10000,[3712,5122...|(10000,[3712,5122...|\n",
      "|     0|   aaaaaaaaaaaaaa...|[aaaaaaaaaaaaaaaa...|[aaaaaaaaaaaaaaaa...|[aaaaaaaaaaaaaaaa...|(10000,[52,815,15...|(10000,[52,815,15...|\n",
      "|     0| aaaaaaaaaaaaaagh...|[aaaaaaaaaaaaaagh...|[aaaaaaaaaaaaaagh...|[aaaaaaaaaaaaaagh...|(10000,[2313,5038...|(10000,[2313,5038...|\n",
      "|     0|aaaaaaaaaaaaaahhh...|[aaaaaaaaaaaaaahh...|[aaaaaaaaaaaaaahh...|[aaaaaaaaaaaaaahh...|(10000,[313,387,1...|(10000,[313,387,1...|\n",
      "|     0|aaaaaaaaaaaaaand ...|[aaaaaaaaaaaaaand...|[aaaaaaaaaaaaaand...|[aaaaaaaaaaaaaand...|(10000,[3411,5536...|(10000,[3411,5536...|\n",
      "|     4|aaaaaaaaaaaaahhhh...|[aaaaaaaaaaaaahhh...|[aaaaaaaaaaaaahhh...|[aaaaaaaaaaaaahhh...|(10000,[13,533,10...|(10000,[13,533,10...|\n",
      "+------+--------------------+--------------------+--------------------+--------------------+--------------------+--------------------+\n",
      "only showing top 20 rows\n",
      "\n"
     ]
    }
   ],
   "source": [
    "train_tfidf_df.show()"
   ]
  },
  {
   "cell_type": "code",
   "execution_count": null,
   "metadata": {
    "application/vnd.databricks.v1+cell": {
     "cellMetadata": {
      "byteLimit": 2048000,
      "rowLimit": 10000
     },
     "inputWidgets": {},
     "nuid": "27e98a87-4016-4d0b-a45e-e4e7eb7ce7cc",
     "showTitle": false,
     "title": ""
    }
   },
   "outputs": [
    {
     "name": "stdout",
     "output_type": "stream",
     "text": [
      "+------+--------------------+--------------------+--------------------+--------------------+--------------------+--------------------+\n",
      "|target|                text|               words|      filtered_words|    lemmatized_words|        raw_features|            features|\n",
      "+------+--------------------+--------------------+--------------------+--------------------+--------------------+--------------------+\n",
      "|     4|                    |                  []|                  []|                  []|       (10000,[],[])|       (10000,[],[])|\n",
      "|     0| im in the aa bet...|[im, in, the, aa,...|[aa, betanot, imp...|[aa, betanot, imp...|(10000,[4043,4158...|(10000,[4043,4158...|\n",
      "|     0|aa locked up my c...|[aa, locked, up, ...|[aa, locked, comp...|[aa, locked, comp...|(10000,[613,3133,...|(10000,[613,3133,...|\n",
      "|     4| aaa i love that ...|[aaa, i, love, th...|[aaa, love, mag, ...|[aaa, love, mag, ...|(10000,[1892,2375...|(10000,[1892,2375...|\n",
      "|     0|  aaa perfect son...|[aaa, perfect, so...|[aaa, perfect, so...|[aaa, perfect, so...|(10000,[1948,4395...|(10000,[1948,4395...|\n",
      "|     0| aaa now youre ta...|[aaa, now, youre,...|[aaa, youre, talk...|[aaa, youre, talk...|(10000,[157,860,1...|(10000,[157,860,1...|\n",
      "|     0|aaaa what should ...|[aaaa, what, shou...|[aaaa, doooo, wor...|[aaaa, doooo, wor...|(10000,[436,3282,...|(10000,[436,3282,...|\n",
      "|     0|aaaa im only gonn...|[aaaa, im, only, ...|[aaaa, gonna, abl...|[aaaa, gonna, abl...|(10000,[488,585,1...|(10000,[488,585,1...|\n",
      "|     0|aaaa im puke  aft...|[aaaa, im, puke, ...|[aaaa, puke, drin...|[aaaa, puke, drin...|(10000,[3525,5856...|(10000,[3525,5856...|\n",
      "|     0|aaaaa i have to s...|[aaaaa, i, have, ...|[aaaaa, study, st...|[aaaaa, study, st...|(10000,[1223,4224...|(10000,[1223,4224...|\n",
      "|     4| aaaaaa suddenly ...|[aaaaaa, suddenly...|[aaaaaa, suddenly...|[aaaaaa, suddenly...|(10000,[571,2226,...|(10000,[571,2226,...|\n",
      "|     0|   aaaaaaaaaaaa  ...|[aaaaaaaaaaaa, ho...|[aaaaaaaaaaaa, ho...|[aaaaaaaaaaaa, ho...|(10000,[2389,5968...|(10000,[2389,5968...|\n",
      "|     0| aaaaaaaaaaaaaaaa...|[aaaaaaaaaaaaaaaa...|[aaaaaaaaaaaaaaaa...|[aaaaaaaaaaaaaaaa...|(10000,[1071,2761...|(10000,[1071,2761...|\n",
      "|     4|aaaaaaaaaaaaah th...|[aaaaaaaaaaaaah, ...|[aaaaaaaaaaaaah, ...|[aaaaaaaaaaaaah, ...|(10000,[349,1612,...|(10000,[349,1612,...|\n",
      "|     0|aaaaaaaaaaaaahhhh...|[aaaaaaaaaaaaahhh...|[aaaaaaaaaaaaahhh...|[aaaaaaaaaaaaahhh...|(10000,[2892,5125...|(10000,[2892,5125...|\n",
      "|     4|aaaaaaaaaah bgt f...|[aaaaaaaaaah, bgt...|[aaaaaaaaaah, bgt...|[aaaaaaaaaah, bgt...|(10000,[1653,2236...|(10000,[1653,2236...|\n",
      "|     0| aaaaaaahhh now h...|[aaaaaaahhh, now,...|[aaaaaaahhh, hes,...|[aaaaaaahhh, he, ...|(10000,[494,1136,...|(10000,[494,1136,...|\n",
      "|     0|aaaaaaahhhhhhhh d...|[aaaaaaahhhhhhhh,...|[aaaaaaahhhhhhhh,...|[aaaaaaahhhhhhhh,...|(10000,[44,208,53...|(10000,[44,208,53...|\n",
      "|     4|aaaaaaand conan r...|[aaaaaaand, conan...|[aaaaaaand, conan...|[aaaaaaand, conan...|(10000,[942,2203,...|(10000,[942,2203,...|\n",
      "|     4|aaaaaaawwwwwwwwww...|[aaaaaaawwwwwwwww...|[aaaaaaawwwwwwwww...|[aaaaaaawwwwwwwww...|(10000,[111,8437,...|(10000,[111,8437,...|\n",
      "+------+--------------------+--------------------+--------------------+--------------------+--------------------+--------------------+\n",
      "only showing top 20 rows\n",
      "\n"
     ]
    }
   ],
   "source": [
    "test_tfidf_df.show()"
   ]
  },
  {
   "cell_type": "code",
   "execution_count": null,
   "metadata": {
    "application/vnd.databricks.v1+cell": {
     "cellMetadata": {},
     "inputWidgets": {},
     "nuid": "f3a75cac-9cb5-48f8-8186-ab0cede09cce",
     "showTitle": false,
     "title": ""
    }
   },
   "outputs": [],
   "source": []
  },
  {
   "cell_type": "markdown",
   "metadata": {
    "application/vnd.databricks.v1+cell": {
     "cellMetadata": {},
     "inputWidgets": {},
     "nuid": "97f34bdf-e9c1-46a9-bb63-e4093c2689e4",
     "showTitle": false,
     "title": ""
    }
   },
   "source": [
    "converting [0,4] to [0,1]"
   ]
  },
  {
   "cell_type": "code",
   "execution_count": null,
   "metadata": {
    "application/vnd.databricks.v1+cell": {
     "cellMetadata": {
      "byteLimit": 2048000,
      "rowLimit": 10000
     },
     "inputWidgets": {},
     "nuid": "e6285439-c0ed-4b4a-8dc6-1c0f8b987150",
     "showTitle": false,
     "title": ""
    }
   },
   "outputs": [],
   "source": [
    "from pyspark.sql.functions import when\n",
    "\n",
    "# For the training DataFrame\n",
    "train_tfidf_df = train_tfidf_df.withColumn(\"target\", when(train_tfidf_df[\"target\"] == 4, 1).otherwise(0))\n",
    "\n",
    "# For the testing DataFrame\n",
    "test_tfidf_df = test_tfidf_df.withColumn(\"target\", when(test_tfidf_df[\"target\"] == 4, 1).otherwise(0))\n",
    "\n",
    "# Now, the 'target' column will have labels as 0 and 1"
   ]
  },
  {
   "cell_type": "code",
   "execution_count": null,
   "metadata": {
    "application/vnd.databricks.v1+cell": {
     "cellMetadata": {
      "byteLimit": 2048000,
      "rowLimit": 10000
     },
     "inputWidgets": {},
     "nuid": "231d32c8-c0cd-4275-95b6-dc4eda758157",
     "showTitle": false,
     "title": ""
    }
   },
   "outputs": [
    {
     "name": "stdout",
     "output_type": "stream",
     "text": [
      "+------+--------------------+--------------------+--------------------+--------------------+--------------------+--------------------+\n",
      "|target|                text|               words|      filtered_words|    lemmatized_words|        raw_features|            features|\n",
      "+------+--------------------+--------------------+--------------------+--------------------+--------------------+--------------------+\n",
      "|     0|aa is too buggy t...|[aa, is, too, bug...|[aa, buggy, play,...|[aa, buggy, play,...|(10000,[407,527,1...|(10000,[407,527,1...|\n",
      "|     0|aa feel dizzy and...|[aa, feel, dizzy,...|[aa, feel, dizzy,...|[aa, feel, dizzy,...|(10000,[1248,1434...|(10000,[1248,1434...|\n",
      "|     0|  aa but i love you |[aa, but, i, love...|          [aa, love]|          [aa, love]|(10000,[4043,6240...|(10000,[4043,6240...|\n",
      "|     1| aa nope di akin ...|[aa, nope, di, ak...|[aa, nope, di, ak...|[aa, nope, di, ak...|(10000,[798,917,4...|(10000,[798,917,4...|\n",
      "|     0|aa is still not w...|[aa, is, still, n...|[aa, still, not, ...|[aa, still, not, ...|(10000,[1690,3712...|(10000,[1690,3712...|\n",
      "|     0| aa woo im gutted...|[aa, woo, im, gut...|[aa, woo, gutted,...|[aa, woo, gutted,...|(10000,[402,1017,...|(10000,[402,1017,...|\n",
      "|     0| aaaa pada abis f...|[aaaa, pada, abis...|[aaaa, pada, abis...|[aaaa, pada, abis...|(10000,[524,622,1...|(10000,[524,622,1...|\n",
      "|     0| aaaaa bsk gw stu...|[aaaaa, bsk, gw, ...|[aaaaa, bsk, gw, ...|[aaaaa, bsk, gw, ...|(10000,[150,1593,...|(10000,[150,1593,...|\n",
      "|     0|aaaaa just finish...|[aaaaa, just, fin...|[aaaaa, finished,...|[aaaaa, finished,...|(10000,[2358,5349...|(10000,[2358,5349...|\n",
      "|     0|aaaaaaa the foly ...|[aaaaaaa, the, fo...|[aaaaaaa, foly, j...|[aaaaaaa, foly, j...|(10000,[453,488,1...|(10000,[453,488,1...|\n",
      "|     0|aaaaaaaa dad is n...|[aaaaaaaa, dad, i...|[aaaaaaaa, dad, n...|[aaaaaaaa, dad, n...|(10000,[91,1499,2...|(10000,[91,1499,2...|\n",
      "|     0| aaaaaaaaa demi w...|[aaaaaaaaa, demi,...|[aaaaaaaaa, demi,...|[aaaaaaaaa, demi,...|(10000,[150,1955,...|(10000,[150,1955,...|\n",
      "|     0|aaaaaaaaaa  is th...|[aaaaaaaaaa, is, ...|[aaaaaaaaaa, haha...|[aaaaaaaaaa, haha...|(10000,[2069,6907...|(10000,[2069,6907...|\n",
      "|     0| aaaaaaaaaaaaa it...|[aaaaaaaaaaaaa, i...|[aaaaaaaaaaaaa, n...|[aaaaaaaaaaaaa, n...|(10000,[3,1690,37...|(10000,[3,1690,37...|\n",
      "|     0| aaaaaaaaaaaaaaaa...|[aaaaaaaaaaaaaaaa...|[aaaaaaaaaaaaaaaa...|[aaaaaaaaaaaaaaaa...|(10000,[3712,5122...|(10000,[3712,5122...|\n",
      "|     0|   aaaaaaaaaaaaaa...|[aaaaaaaaaaaaaaaa...|[aaaaaaaaaaaaaaaa...|[aaaaaaaaaaaaaaaa...|(10000,[52,815,15...|(10000,[52,815,15...|\n",
      "|     0| aaaaaaaaaaaaaagh...|[aaaaaaaaaaaaaagh...|[aaaaaaaaaaaaaagh...|[aaaaaaaaaaaaaagh...|(10000,[2313,5038...|(10000,[2313,5038...|\n",
      "|     0|aaaaaaaaaaaaaahhh...|[aaaaaaaaaaaaaahh...|[aaaaaaaaaaaaaahh...|[aaaaaaaaaaaaaahh...|(10000,[313,387,1...|(10000,[313,387,1...|\n",
      "|     0|aaaaaaaaaaaaaand ...|[aaaaaaaaaaaaaand...|[aaaaaaaaaaaaaand...|[aaaaaaaaaaaaaand...|(10000,[3411,5536...|(10000,[3411,5536...|\n",
      "|     1|aaaaaaaaaaaaahhhh...|[aaaaaaaaaaaaahhh...|[aaaaaaaaaaaaahhh...|[aaaaaaaaaaaaahhh...|(10000,[13,533,10...|(10000,[13,533,10...|\n",
      "+------+--------------------+--------------------+--------------------+--------------------+--------------------+--------------------+\n",
      "only showing top 20 rows\n",
      "\n"
     ]
    }
   ],
   "source": [
    "train_tfidf_df.show()  # To verify the changes in the train DataFrame"
   ]
  },
  {
   "cell_type": "code",
   "execution_count": null,
   "metadata": {
    "application/vnd.databricks.v1+cell": {
     "cellMetadata": {
      "byteLimit": 2048000,
      "rowLimit": 10000
     },
     "inputWidgets": {},
     "nuid": "242a497d-2f90-4cc0-bf6a-fce8c765901a",
     "showTitle": false,
     "title": ""
    }
   },
   "outputs": [
    {
     "name": "stdout",
     "output_type": "stream",
     "text": [
      "+------+--------------------+--------------------+--------------------+--------------------+--------------------+--------------------+\n",
      "|target|                text|               words|      filtered_words|    lemmatized_words|        raw_features|            features|\n",
      "+------+--------------------+--------------------+--------------------+--------------------+--------------------+--------------------+\n",
      "|     1|                    |                  []|                  []|                  []|       (10000,[],[])|       (10000,[],[])|\n",
      "|     0| im in the aa bet...|[im, in, the, aa,...|[aa, betanot, imp...|[aa, betanot, imp...|(10000,[4043,4158...|(10000,[4043,4158...|\n",
      "|     0|aa locked up my c...|[aa, locked, up, ...|[aa, locked, comp...|[aa, locked, comp...|(10000,[613,3133,...|(10000,[613,3133,...|\n",
      "|     1| aaa i love that ...|[aaa, i, love, th...|[aaa, love, mag, ...|[aaa, love, mag, ...|(10000,[1892,2375...|(10000,[1892,2375...|\n",
      "|     0|  aaa perfect son...|[aaa, perfect, so...|[aaa, perfect, so...|[aaa, perfect, so...|(10000,[1948,4395...|(10000,[1948,4395...|\n",
      "|     0| aaa now youre ta...|[aaa, now, youre,...|[aaa, youre, talk...|[aaa, youre, talk...|(10000,[157,860,1...|(10000,[157,860,1...|\n",
      "|     0|aaaa what should ...|[aaaa, what, shou...|[aaaa, doooo, wor...|[aaaa, doooo, wor...|(10000,[436,3282,...|(10000,[436,3282,...|\n",
      "|     0|aaaa im only gonn...|[aaaa, im, only, ...|[aaaa, gonna, abl...|[aaaa, gonna, abl...|(10000,[488,585,1...|(10000,[488,585,1...|\n",
      "|     0|aaaa im puke  aft...|[aaaa, im, puke, ...|[aaaa, puke, drin...|[aaaa, puke, drin...|(10000,[3525,5856...|(10000,[3525,5856...|\n",
      "|     0|aaaaa i have to s...|[aaaaa, i, have, ...|[aaaaa, study, st...|[aaaaa, study, st...|(10000,[1223,4224...|(10000,[1223,4224...|\n",
      "|     1| aaaaaa suddenly ...|[aaaaaa, suddenly...|[aaaaaa, suddenly...|[aaaaaa, suddenly...|(10000,[571,2226,...|(10000,[571,2226,...|\n",
      "|     0|   aaaaaaaaaaaa  ...|[aaaaaaaaaaaa, ho...|[aaaaaaaaaaaa, ho...|[aaaaaaaaaaaa, ho...|(10000,[2389,5968...|(10000,[2389,5968...|\n",
      "|     0| aaaaaaaaaaaaaaaa...|[aaaaaaaaaaaaaaaa...|[aaaaaaaaaaaaaaaa...|[aaaaaaaaaaaaaaaa...|(10000,[1071,2761...|(10000,[1071,2761...|\n",
      "|     1|aaaaaaaaaaaaah th...|[aaaaaaaaaaaaah, ...|[aaaaaaaaaaaaah, ...|[aaaaaaaaaaaaah, ...|(10000,[349,1612,...|(10000,[349,1612,...|\n",
      "|     0|aaaaaaaaaaaaahhhh...|[aaaaaaaaaaaaahhh...|[aaaaaaaaaaaaahhh...|[aaaaaaaaaaaaahhh...|(10000,[2892,5125...|(10000,[2892,5125...|\n",
      "|     1|aaaaaaaaaah bgt f...|[aaaaaaaaaah, bgt...|[aaaaaaaaaah, bgt...|[aaaaaaaaaah, bgt...|(10000,[1653,2236...|(10000,[1653,2236...|\n",
      "|     0| aaaaaaahhh now h...|[aaaaaaahhh, now,...|[aaaaaaahhh, hes,...|[aaaaaaahhh, he, ...|(10000,[494,1136,...|(10000,[494,1136,...|\n",
      "|     0|aaaaaaahhhhhhhh d...|[aaaaaaahhhhhhhh,...|[aaaaaaahhhhhhhh,...|[aaaaaaahhhhhhhh,...|(10000,[44,208,53...|(10000,[44,208,53...|\n",
      "|     1|aaaaaaand conan r...|[aaaaaaand, conan...|[aaaaaaand, conan...|[aaaaaaand, conan...|(10000,[942,2203,...|(10000,[942,2203,...|\n",
      "|     1|aaaaaaawwwwwwwwww...|[aaaaaaawwwwwwwww...|[aaaaaaawwwwwwwww...|[aaaaaaawwwwwwwww...|(10000,[111,8437,...|(10000,[111,8437,...|\n",
      "+------+--------------------+--------------------+--------------------+--------------------+--------------------+--------------------+\n",
      "only showing top 20 rows\n",
      "\n"
     ]
    }
   ],
   "source": [
    "test_tfidf_df.show()   # To verify the changes in the test DataFrame"
   ]
  },
  {
   "cell_type": "code",
   "execution_count": null,
   "metadata": {
    "application/vnd.databricks.v1+cell": {
     "cellMetadata": {},
     "inputWidgets": {},
     "nuid": "25ea272a-851e-4e3b-b74d-6e3734de46c3",
     "showTitle": false,
     "title": ""
    }
   },
   "outputs": [],
   "source": []
  },
  {
   "cell_type": "code",
   "execution_count": null,
   "metadata": {
    "application/vnd.databricks.v1+cell": {
     "cellMetadata": {},
     "inputWidgets": {},
     "nuid": "3b825e4a-4322-478b-9767-b56afc42e052",
     "showTitle": false,
     "title": ""
    }
   },
   "outputs": [],
   "source": []
  },
  {
   "cell_type": "markdown",
   "metadata": {
    "application/vnd.databricks.v1+cell": {
     "cellMetadata": {},
     "inputWidgets": {},
     "nuid": "84f1025d-c812-449b-9f85-dd7bc5a8ad24",
     "showTitle": false,
     "title": ""
    }
   },
   "source": [
    "# Logistic Regression"
   ]
  },
  {
   "cell_type": "code",
   "execution_count": null,
   "metadata": {
    "application/vnd.databricks.v1+cell": {
     "cellMetadata": {
      "byteLimit": 2048000,
      "rowLimit": 10000
     },
     "inputWidgets": {},
     "nuid": "a0dda1b9-f763-45d6-b9c3-4a6d2378c11d",
     "showTitle": false,
     "title": ""
    }
   },
   "outputs": [],
   "source": [
    "# Logistic Regression Model\n",
    "from pyspark.ml.classification import LogisticRegression"
   ]
  },
  {
   "cell_type": "code",
   "execution_count": null,
   "metadata": {
    "application/vnd.databricks.v1+cell": {
     "cellMetadata": {
      "byteLimit": 2048000,
      "rowLimit": 10000
     },
     "inputWidgets": {},
     "nuid": "7404bd01-7591-42ce-ad94-064517e74d4f",
     "showTitle": false,
     "title": ""
    }
   },
   "outputs": [],
   "source": [
    "# Initialize Logistic Regression\n",
    "lr = LogisticRegression(featuresCol=\"features\", labelCol=\"target\")"
   ]
  },
  {
   "cell_type": "code",
   "execution_count": null,
   "metadata": {
    "application/vnd.databricks.v1+cell": {
     "cellMetadata": {
      "byteLimit": 2048000,
      "rowLimit": 10000
     },
     "inputWidgets": {},
     "nuid": "9db7ede9-1cba-4152-a3e1-b52b78cf1c9b",
     "showTitle": false,
     "title": ""
    }
   },
   "outputs": [
    {
     "data": {
      "application/vnd.jupyter.widget-view+json": {
       "model_id": "c0619f9e85dc42498f0329995d0e2c72",
       "version_major": 2,
       "version_minor": 0
      },
      "text/plain": [
       "Downloading artifacts:   0%|          | 0/15 [00:00<?, ?it/s]"
      ]
     },
     "metadata": {},
     "output_type": "display_data"
    },
    {
     "data": {
      "application/vnd.jupyter.widget-view+json": {
       "model_id": "3fb11efb359c4e35ae50a3278b42631e",
       "version_major": 2,
       "version_minor": 0
      },
      "text/plain": [
       "Uploading artifacts:   0%|          | 0/4 [00:00<?, ?it/s]"
      ]
     },
     "metadata": {},
     "output_type": "display_data"
    }
   ],
   "source": [
    "# Fit the model\n",
    "lr_model = lr.fit(train_tfidf_df)"
   ]
  },
  {
   "cell_type": "code",
   "execution_count": null,
   "metadata": {
    "application/vnd.databricks.v1+cell": {
     "cellMetadata": {
      "byteLimit": 2048000,
      "rowLimit": 10000
     },
     "inputWidgets": {},
     "nuid": "ad4cba6d-a51f-427f-99a3-b1a1d6fdf030",
     "showTitle": false,
     "title": ""
    }
   },
   "outputs": [],
   "source": [
    "# Make predictions on the test set\n",
    "logistic_predictions = lr_model.transform(test_tfidf_df) "
   ]
  },
  {
   "cell_type": "code",
   "execution_count": null,
   "metadata": {
    "application/vnd.databricks.v1+cell": {
     "cellMetadata": {
      "byteLimit": 2048000,
      "rowLimit": 10000
     },
     "inputWidgets": {},
     "nuid": "a96cc89a-f077-4439-8c96-4f8299743535",
     "showTitle": false,
     "title": ""
    }
   },
   "outputs": [
    {
     "name": "stdout",
     "output_type": "stream",
     "text": [
      "+------+----------+-----------------------------------------+\n",
      "|target|prediction|probability                              |\n",
      "+------+----------+-----------------------------------------+\n",
      "|0     |0.0       |[0.808915139162906,0.19108486083709397]  |\n",
      "|1     |1.0       |[0.3569477864420413,0.6430522135579587]  |\n",
      "|1     |1.0       |[0.009170809877264182,0.9908291901227358]|\n",
      "|0     |1.0       |[0.3876144101944466,0.6123855898055535]  |\n",
      "|1     |0.0       |[0.6359949617467757,0.3640050382532243]  |\n",
      "|1     |1.0       |[0.18533213395092332,0.8146678660490767] |\n",
      "|0     |0.0       |[0.5651218718669136,0.43487812813308635] |\n",
      "|0     |0.0       |[0.659857348379821,0.340142651620179]    |\n",
      "|1     |1.0       |[0.27412685657391034,0.7258731434260897] |\n",
      "|0     |1.0       |[0.3209369335124891,0.6790630664875109]  |\n",
      "|0     |0.0       |[0.720708761030068,0.279291238969932]    |\n",
      "|0     |1.0       |[0.4365942245505325,0.5634057754494675]  |\n",
      "|1     |1.0       |[0.21816873981723167,0.7818312601827684] |\n",
      "|0     |1.0       |[0.09268862784258505,0.907311372157415]  |\n",
      "|0     |1.0       |[0.46227533563416634,0.5377246643658337] |\n",
      "|0     |0.0       |[0.55897375905423,0.44102624094577003]   |\n",
      "|1     |1.0       |[0.13866338961381838,0.8613366103861816] |\n",
      "|0     |0.0       |[0.7726034601634368,0.22739653983656316] |\n",
      "|0     |1.0       |[0.46489865243867484,0.5351013475613251] |\n",
      "|0     |1.0       |[0.41440946878736346,0.5855905312126366] |\n",
      "+------+----------+-----------------------------------------+\n",
      "only showing top 20 rows\n",
      "\n"
     ]
    }
   ],
   "source": [
    "# Show predictions\n",
    "logistic_predictions.select(\"target\",\"prediction\", \"probability\").show(truncate=False)"
   ]
  },
  {
   "cell_type": "code",
   "execution_count": null,
   "metadata": {
    "application/vnd.databricks.v1+cell": {
     "cellMetadata": {},
     "inputWidgets": {},
     "nuid": "f2ab083d-b0b1-4bdb-b8ca-710970dc4cc2",
     "showTitle": false,
     "title": ""
    }
   },
   "outputs": [],
   "source": []
  },
  {
   "cell_type": "code",
   "execution_count": null,
   "metadata": {
    "application/vnd.databricks.v1+cell": {
     "cellMetadata": {
      "byteLimit": 2048000,
      "rowLimit": 10000
     },
     "inputWidgets": {},
     "nuid": "bf1d45d1-929f-40b3-9123-ab0a3074cfa7",
     "showTitle": false,
     "title": ""
    }
   },
   "outputs": [
    {
     "name": "stdout",
     "output_type": "stream",
     "text": [
      "amashaym@gmail.com\n"
     ]
    }
   ],
   "source": [
    "# Get the current user's username\n",
    "username = dbutils.notebook.entry_point.getDbutils().notebook().getContext().tags().apply(\"user\")\n",
    "print(username)"
   ]
  },
  {
   "cell_type": "code",
   "execution_count": null,
   "metadata": {
    "application/vnd.databricks.v1+cell": {
     "cellMetadata": {
      "byteLimit": 2048000,
      "rowLimit": 10000
     },
     "inputWidgets": {},
     "nuid": "70122eba-d978-40e8-a5a8-fcb893976c9a",
     "showTitle": false,
     "title": ""
    }
   },
   "outputs": [],
   "source": [
    "# Save the logistic regression model to DBFS under your user directory\n",
    "lr_model.save(\"/dbfs/user/amashaym@gmail.com/logistic_model\")\n"
   ]
  },
  {
   "cell_type": "code",
   "execution_count": null,
   "metadata": {
    "application/vnd.databricks.v1+cell": {
     "cellMetadata": {
      "byteLimit": 2048000,
      "rowLimit": 10000
     },
     "inputWidgets": {},
     "nuid": "503292e9-c9a5-45b6-a9b9-f8afd51748aa",
     "showTitle": false,
     "title": ""
    }
   },
   "outputs": [
    {
     "name": "stdout",
     "output_type": "stream",
     "text": [
      "dbfs:/dbfs/user/amashaym@gmail.com/logistic_model/data/\n",
      "dbfs:/dbfs/user/amashaym@gmail.com/logistic_model/metadata/\n"
     ]
    }
   ],
   "source": [
    "# Example to read a file from the saved model directory\n",
    "model_files = dbutils.fs.ls(\"/dbfs/user/amashaym@gmail.com/logistic_model\")\n",
    "for file in model_files:\n",
    "    print(file.path)"
   ]
  },
  {
   "cell_type": "code",
   "execution_count": null,
   "metadata": {
    "application/vnd.databricks.v1+cell": {
     "cellMetadata": {
      "byteLimit": 2048000,
      "rowLimit": 10000
     },
     "inputWidgets": {},
     "nuid": "5f855dd9-93e6-4622-ac66-b4b054daad01",
     "showTitle": false,
     "title": ""
    }
   },
   "outputs": [
    {
     "name": "stdout",
     "output_type": "stream",
     "text": [
      "File: data/, Size: 0 bytes\n",
      "File: metadata/, Size: 0 bytes\n"
     ]
    }
   ],
   "source": [
    "# List the files in your saved model directory\n",
    "model_files = dbutils.fs.ls(\"/dbfs/user/amashaym@gmail.com/logistic_model\")\n",
    "\n",
    "# Display the files along with their sizes\n",
    "for file in model_files:\n",
    "    print(f\"File: {file.name}, Size: {file.size} bytes\")\n"
   ]
  },
  {
   "cell_type": "markdown",
   "metadata": {
    "application/vnd.databricks.v1+cell": {
     "cellMetadata": {},
     "inputWidgets": {},
     "nuid": "15e05c2d-fbd4-432e-80ae-e465442ad521",
     "showTitle": false,
     "title": ""
    }
   },
   "source": [
    "The output showing 0 bytes for directories like data/ and metadata/ is expected because directories themselves do not have a significant size. The actual contents (files within these directories) are where the data is stored."
   ]
  },
  {
   "cell_type": "code",
   "execution_count": null,
   "metadata": {
    "application/vnd.databricks.v1+cell": {
     "cellMetadata": {
      "byteLimit": 2048000,
      "rowLimit": 10000
     },
     "inputWidgets": {},
     "nuid": "7658b893-daa6-4c01-b3a0-1053a91082af",
     "showTitle": false,
     "title": ""
    }
   },
   "outputs": [
    {
     "name": "stdout",
     "output_type": "stream",
     "text": [
      "File: _SUCCESS, Size: 0 bytes\n",
      "File: _committed_8871538541019414802, Size: 125 bytes\n",
      "File: _started_8871538541019414802, Size: 0 bytes\n",
      "File: part-00000-tid-8871538541019414802-dbca161a-4371-47db-8541-756fa1617dfd-5371-1-c000.snappy.parquet, Size: 84620 bytes\n",
      "File: _SUCCESS, Size: 0 bytes\n",
      "File: _committed_7730245134159666255, Size: 114 bytes\n",
      "File: _started_7730245134159666255, Size: 0 bytes\n",
      "File: part-00000-tid-7730245134159666255-1262fb0e-93b9-460e-9bb7-3ca17bf01dd1-5370-1-c000.txt, Size: 560 bytes\n"
     ]
    }
   ],
   "source": [
    "# List the contents of the `data/` directory\n",
    "data_files = dbutils.fs.ls(\"/dbfs/user/amashaym@gmail.com/logistic_model/data/\")\n",
    "for file in data_files:\n",
    "    print(f\"File: {file.name}, Size: {file.size} bytes\")\n",
    "\n",
    "# List the contents of the `metadata/` directory\n",
    "metadata_files = dbutils.fs.ls(\"/dbfs/user/amashaym@gmail.com/logistic_model/metadata/\")\n",
    "for file in metadata_files:\n",
    "    print(f\"File: {file.name}, Size: {file.size} bytes\")\n"
   ]
  },
  {
   "cell_type": "code",
   "execution_count": null,
   "metadata": {
    "application/vnd.databricks.v1+cell": {
     "cellMetadata": {},
     "inputWidgets": {},
     "nuid": "9490b036-1ffe-4fd8-9808-0af3911c44c0",
     "showTitle": false,
     "title": ""
    }
   },
   "outputs": [],
   "source": []
  },
  {
   "cell_type": "code",
   "execution_count": null,
   "metadata": {
    "application/vnd.databricks.v1+cell": {
     "cellMetadata": {},
     "inputWidgets": {},
     "nuid": "71bb9e80-2087-41ea-9b75-0c6cf9639908",
     "showTitle": false,
     "title": ""
    }
   },
   "outputs": [],
   "source": []
  },
  {
   "cell_type": "code",
   "execution_count": null,
   "metadata": {
    "application/vnd.databricks.v1+cell": {
     "cellMetadata": {},
     "inputWidgets": {},
     "nuid": "0ff9ac3c-4526-4604-a640-f37dcaa8d536",
     "showTitle": false,
     "title": ""
    }
   },
   "outputs": [],
   "source": []
  },
  {
   "cell_type": "code",
   "execution_count": null,
   "metadata": {
    "application/vnd.databricks.v1+cell": {
     "cellMetadata": {
      "byteLimit": 2048000,
      "rowLimit": 10000
     },
     "inputWidgets": {},
     "nuid": "92591343-4844-46b1-a548-97c4b56b742a",
     "showTitle": false,
     "title": ""
    }
   },
   "outputs": [],
   "source": [
    "from pyspark.ml.evaluation import MulticlassClassificationEvaluator\n",
    "\n",
    "# Evaluate the model\n",
    "evaluator = MulticlassClassificationEvaluator(labelCol=\"target\", predictionCol=\"prediction\", metricName=\"accuracy\")\n",
    "logistic_accuracy = evaluator.evaluate(logistic_predictions)"
   ]
  },
  {
   "cell_type": "code",
   "execution_count": null,
   "metadata": {
    "application/vnd.databricks.v1+cell": {
     "cellMetadata": {},
     "inputWidgets": {},
     "nuid": "02c64c63-0ea7-4edb-962a-efb5b814a6f8",
     "showTitle": false,
     "title": ""
    }
   },
   "outputs": [],
   "source": []
  },
  {
   "cell_type": "code",
   "execution_count": null,
   "metadata": {
    "application/vnd.databricks.v1+cell": {
     "cellMetadata": {
      "byteLimit": 2048000,
      "rowLimit": 10000
     },
     "inputWidgets": {},
     "nuid": "37325629-70f4-4e11-be59-c7175717804c",
     "showTitle": false,
     "title": ""
    }
   },
   "outputs": [
    {
     "name": "stdout",
     "output_type": "stream",
     "text": [
      "Test set accuracy = 0.7638375894202806\n"
     ]
    }
   ],
   "source": [
    "# Print the accuracy\n",
    "print(f\"Test set accuracy = {logistic_accuracy}\")"
   ]
  },
  {
   "cell_type": "code",
   "execution_count": null,
   "metadata": {
    "application/vnd.databricks.v1+cell": {
     "cellMetadata": {
      "byteLimit": 2048000,
      "rowLimit": 10000
     },
     "inputWidgets": {},
     "nuid": "aa31ec43-15c1-456c-a937-678333465ee6",
     "showTitle": false,
     "title": ""
    }
   },
   "outputs": [
    {
     "name": "stderr",
     "output_type": "stream",
     "text": [
      "/databricks/spark/python/pyspark/sql/context.py:164: FutureWarning: Deprecated in 3.0.0. Use SparkSession.builder.getOrCreate() instead.\n",
      "  warnings.warn(\n"
     ]
    },
    {
     "name": "stdout",
     "output_type": "stream",
     "text": [
      "Confusion Matrix:\n",
      "[[141596.  47964.]\n",
      " [ 41039. 146273.]]\n",
      "Precision: 0.7530645551568445\n",
      "Recall/Sensitivity: 0.7809056547364824\n",
      "F1-Score: 0.7667324511399585\n",
      "Specificity: 0.7469719350073856\n"
     ]
    }
   ],
   "source": [
    "from pyspark.mllib.evaluation import MulticlassMetrics, BinaryClassificationMetrics\n",
    "\n",
    "\n",
    "# Select prediction and label columns\n",
    "predictionAndLabels = logistic_predictions.select(col(\"prediction\").cast(\"double\"), col(\"target\").cast(\"double\"))\n",
    "\n",
    "# Instantiate the metrics object\n",
    "metrics = MulticlassMetrics(predictionAndLabels.rdd)\n",
    "\n",
    "# Confusion Matrix\n",
    "confusion_matrix = metrics.confusionMatrix().toArray()\n",
    "print(\"Confusion Matrix:\")\n",
    "print(confusion_matrix)\n",
    "\n",
    "# Precision\n",
    "precision = metrics.precision(1.0)\n",
    "print(f\"Precision: {precision}\")\n",
    "\n",
    "# Recall (Sensitivity)\n",
    "recall = metrics.recall(1.0)\n",
    "print(f\"Recall/Sensitivity: {recall}\")\n",
    "\n",
    "# F1-Score\n",
    "f1_score = metrics.fMeasure(1.0)\n",
    "print(f\"F1-Score: {f1_score}\")\n",
    "\n",
    "# Specificity (For Binary Classification)\n",
    "tn = confusion_matrix[0][0]\n",
    "fp = confusion_matrix[0][1]\n",
    "specificity = tn / (tn + fp)\n",
    "print(f\"Specificity: {specificity}\")"
   ]
  },
  {
   "cell_type": "code",
   "execution_count": null,
   "metadata": {
    "application/vnd.databricks.v1+cell": {
     "cellMetadata": {
      "byteLimit": 2048000,
      "rowLimit": 10000
     },
     "inputWidgets": {},
     "nuid": "2a7b2e65-0ec6-40e9-a4b1-2fbb2d8d114f",
     "showTitle": false,
     "title": ""
    }
   },
   "outputs": [
    {
     "name": "stdout",
     "output_type": "stream",
     "text": [
      "AUC: 0.8368996959639023\n"
     ]
    },
    {
     "data": {
      "image/png": "[encoded data removed]",
      "text/plain": [
       "<Figure size 800x600 with 1 Axes>"
      ]
     },
     "metadata": {},
     "output_type": "display_data"
    }
   ],
   "source": [
    "from pyspark.ml.evaluation import BinaryClassificationEvaluator\n",
    "import matplotlib.pyplot as plt\n",
    "import pandas as pd\n",
    "\n",
    "# Evaluate the AUC using the evaluator\n",
    "evaluator = BinaryClassificationEvaluator(labelCol=\"target\", rawPredictionCol=\"rawPrediction\", metricName=\"areaUnderROC\")\n",
    "auc = evaluator.evaluate(logistic_predictions)\n",
    "print(f\"AUC: {auc}\")\n",
    "\n",
    "# Extract the probability and label columns\n",
    "prob_labels = logistic_predictions.select(\"probability\", \"target\")\n",
    "\n",
    "# Convert to Pandas DataFrame for manual ROC computation\n",
    "prob_labels_pd = prob_labels.toPandas()\n",
    "\n",
    "# Extract the positive class probabilities\n",
    "prob_labels_pd['probability'] = prob_labels_pd['probability'].apply(lambda x: x[1])\n",
    "\n",
    "# Sort by probability in descending order\n",
    "prob_labels_pd = prob_labels_pd.sort_values(by='probability', ascending=False)\n",
    "\n",
    "# Calculate TPR and FPR\n",
    "TPR = []\n",
    "FPR = []\n",
    "P = sum(prob_labels_pd['target'])\n",
    "N = len(prob_labels_pd['target']) - P\n",
    "tp = 0\n",
    "fp = 0\n",
    "\n",
    "for i in range(len(prob_labels_pd)):\n",
    "    if prob_labels_pd.iloc[i]['target'] == 1:\n",
    "        tp += 1\n",
    "    else:\n",
    "        fp += 1\n",
    "    TPR.append(tp / P)\n",
    "    FPR.append(fp / N)\n",
    "\n",
    "# Plotting the ROC Curve\n",
    "plt.figure(figsize=(8, 6))\n",
    "plt.plot(FPR, TPR, label=f'ROC curve (area = {auc:.2f})')\n",
    "plt.plot([0, 1], [0, 1], 'k--')  # Diagonal line for random classifier\n",
    "plt.xlabel('False Positive Rate')\n",
    "plt.ylabel('True Positive Rate')\n",
    "plt.title('ROC Curve')\n",
    "plt.legend(loc=\"lower right\")\n",
    "plt.show()\n"
   ]
  },
  {
   "cell_type": "code",
   "execution_count": null,
   "metadata": {
    "application/vnd.databricks.v1+cell": {
     "cellMetadata": {
      "byteLimit": 2048000,
      "rowLimit": 10000
     },
     "inputWidgets": {},
     "nuid": "475ea871-1d27-4a7c-8660-586a85ad38b6",
     "showTitle": false,
     "title": ""
    }
   },
   "outputs": [],
   "source": [
    "# 1. Define the Parameter Grid:\n",
    "from pyspark.ml.tuning import ParamGridBuilder\n",
    "\n",
    "param_grid = (ParamGridBuilder()\n",
    "               .addGrid(lr.regParam, [0.01, 0.1])\n",
    "               .addGrid(lr.elasticNetParam, [0.0, 0.5])\n",
    "               .addGrid(lr.maxIter, [50, 100])\n",
    "               .build())"
   ]
  },
  {
   "cell_type": "code",
   "execution_count": null,
   "metadata": {
    "application/vnd.databricks.v1+cell": {
     "cellMetadata": {
      "byteLimit": 2048000,
      "rowLimit": 10000
     },
     "inputWidgets": {},
     "nuid": "7dc6eb69-4036-430b-84d6-b3d4f705229e",
     "showTitle": false,
     "title": ""
    }
   },
   "outputs": [],
   "source": [
    "# 2. Set Up Cross-Validation:\n",
    "from pyspark.ml.tuning import CrossValidator\n",
    "from pyspark.ml.evaluation import MulticlassClassificationEvaluator\n",
    "\n",
    "# Initialize evaluator\n",
    "evaluator = MulticlassClassificationEvaluator(\n",
    "    labelCol=\"target\", \n",
    "    predictionCol=\"prediction\", \n",
    "    metricName=\"accuracy\")\n",
    "\n",
    "# Initialize CrossValidator\n",
    "crossval = CrossValidator(\n",
    "    estimator=lr,              # Base model\n",
    "    estimatorParamMaps=param_grid,  # Parameter grid\n",
    "    evaluator=evaluator,      # Evaluation metric\n",
    "    numFolds=3                # Number of folds for cross-validation\n",
    ")"
   ]
  },
  {
   "cell_type": "code",
   "execution_count": null,
   "metadata": {
    "application/vnd.databricks.v1+cell": {
     "cellMetadata": {
      "byteLimit": 2048000,
      "rowLimit": 10000
     },
     "inputWidgets": {},
     "nuid": "deadff1e-8d90-427c-9aaa-f76db1bd13c0",
     "showTitle": false,
     "title": ""
    }
   },
   "outputs": [
    {
     "data": {
      "application/vnd.jupyter.widget-view+json": {
       "model_id": "bd3f3b4ead8147a78853f202357129e6",
       "version_major": 2,
       "version_minor": 0
      },
      "text/plain": [
       "Downloading artifacts:   0%|          | 0/27 [00:00<?, ?it/s]"
      ]
     },
     "metadata": {},
     "output_type": "display_data"
    },
    {
     "data": {
      "application/vnd.jupyter.widget-view+json": {
       "model_id": "5be61150cb7645509f1b6f019a66dad7",
       "version_major": 2,
       "version_minor": 0
      },
      "text/plain": [
       "Uploading artifacts:   0%|          | 0/4 [00:00<?, ?it/s]"
      ]
     },
     "metadata": {},
     "output_type": "display_data"
    },
    {
     "data": {
      "application/vnd.jupyter.widget-view+json": {
       "model_id": "37c921b0e8654e1a8a6906ad3f593bf7",
       "version_major": 2,
       "version_minor": 0
      },
      "text/plain": [
       "Downloading artifacts:   0%|          | 0/15 [00:00<?, ?it/s]"
      ]
     },
     "metadata": {},
     "output_type": "display_data"
    },
    {
     "data": {
      "application/vnd.jupyter.widget-view+json": {
       "model_id": "bd534f3db47e43079c86e377df7a60dc",
       "version_major": 2,
       "version_minor": 0
      },
      "text/plain": [
       "Uploading artifacts:   0%|          | 0/4 [00:00<?, ?it/s]"
      ]
     },
     "metadata": {},
     "output_type": "display_data"
    },
    {
     "name": "stdout",
     "output_type": "stream",
     "text": [
      "Best Model:\n",
      "LogisticRegressionModel: uid=LogisticRegression_1676770e03a1, numClasses=2, numFeatures=10000\n"
     ]
    }
   ],
   "source": [
    "# 3. Fit the Cross-Validator:\n",
    "# Fit the cross-validator to the training data\n",
    "cv_model = crossval.fit(train_tfidf_df)\n",
    "\n",
    "# Get the best model from cross-validation\n",
    "best_model = cv_model.bestModel\n",
    "\n",
    "print(\"Best Model:\")\n",
    "print(best_model)\n",
    "\n",
    "# Make predictions on the test set\n",
    "best_predictions = best_model.transform(test_tfidf_df)"
   ]
  },
  {
   "cell_type": "code",
   "execution_count": null,
   "metadata": {
    "application/vnd.databricks.v1+cell": {
     "cellMetadata": {
      "byteLimit": 2048000,
      "rowLimit": 10000
     },
     "inputWidgets": {},
     "nuid": "abb2f0fb-5aab-4ae4-a7ac-9707dbfcde8c",
     "showTitle": false,
     "title": ""
    }
   },
   "outputs": [
    {
     "name": "stdout",
     "output_type": "stream",
     "text": [
      "Test set accuracy of best model = 0.7636996115391963\n"
     ]
    },
    {
     "name": "stderr",
     "output_type": "stream",
     "text": [
      "/databricks/spark/python/pyspark/sql/context.py:164: FutureWarning: Deprecated in 3.0.0. Use SparkSession.builder.getOrCreate() instead.\n",
      "  warnings.warn(\n"
     ]
    },
    {
     "name": "stdout",
     "output_type": "stream",
     "text": [
      "Best Model Confusion Matrix:\n",
      "[[141592.  47968.]\n",
      " [ 41087. 146225.]]\n",
      "Precision of best model: 0.7529880067767634\n",
      "Recall of best model: 0.7806493977961904\n",
      "F1-Score of best model: 0.7665692454882637\n",
      "Specificity of best model: 0.7469508335091791\n",
      "AUC of best model: 0.8367752022277231\n"
     ]
    },
    {
     "data": {
      "image/png": "[encoded data removed]",
      "text/plain": [
       "<Figure size 800x600 with 1 Axes>"
      ]
     },
     "metadata": {},
     "output_type": "display_data"
    }
   ],
   "source": [
    "# 4. Evaluate the best model\n",
    "logistic_accuracy_best = evaluator.evaluate(best_predictions)\n",
    "print(f\"Test set accuracy of best model = {logistic_accuracy_best}\")\n",
    "\n",
    "# Confusion Matrix\n",
    "best_metrics = MulticlassMetrics(best_predictions.select(col(\"prediction\").cast(\"double\"), col(\"target\").cast(\"double\")).rdd)\n",
    "confusion_matrix_best = best_metrics.confusionMatrix().toArray()\n",
    "print(\"Best Model Confusion Matrix:\")\n",
    "print(confusion_matrix_best)\n",
    "\n",
    "# Precision\n",
    "precision_best = best_metrics.precision(1.0)\n",
    "print(f\"Precision of best model: {precision_best}\")\n",
    "\n",
    "# Recall\n",
    "recall_best = best_metrics.recall(1.0)\n",
    "print(f\"Recall of best model: {recall_best}\")\n",
    "\n",
    "# F1-Score\n",
    "f1_score_best = best_metrics.fMeasure(1.0)\n",
    "print(f\"F1-Score of best model: {f1_score_best}\")\n",
    "\n",
    "# Specificity (For Binary Classification)\n",
    "tn_best = confusion_matrix_best[0][0]\n",
    "fp_best = confusion_matrix_best[0][1]\n",
    "specificity_best = tn_best / (tn_best + fp_best)\n",
    "print(f\"Specificity of best model: {specificity_best}\")\n",
    "\n",
    "# ROC AUC\n",
    "evaluator_auc = BinaryClassificationEvaluator(labelCol=\"target\", rawPredictionCol=\"rawPrediction\", metricName=\"areaUnderROC\")\n",
    "auc_best = evaluator_auc.evaluate(best_predictions)\n",
    "print(f\"AUC of best model: {auc_best}\")\n",
    "\n",
    "# ROC Curve\n",
    "prob_labels_best = best_predictions.select(\"probability\", \"target\")\n",
    "prob_labels_pd_best = prob_labels_best.toPandas()\n",
    "prob_labels_pd_best['probability'] = prob_labels_pd_best['probability'].apply(lambda x: x[1])\n",
    "prob_labels_pd_best = prob_labels_pd_best.sort_values(by='probability', ascending=False)\n",
    "\n",
    "# Calculate TPR and FPR\n",
    "TPR_best = []\n",
    "FPR_best = []\n",
    "P_best = sum(prob_labels_pd_best['target'])\n",
    "N_best = len(prob_labels_pd_best['target']) - P_best\n",
    "tp_best = 0\n",
    "fp_best = 0\n",
    "\n",
    "for i in range(len(prob_labels_pd_best)):\n",
    "    if prob_labels_pd_best.iloc[i]['target'] == 1:\n",
    "        tp_best += 1\n",
    "    else:\n",
    "        fp_best += 1\n",
    "    TPR_best.append(tp_best / P_best)\n",
    "    FPR_best.append(fp_best / N_best)\n",
    "\n",
    "# Plotting the ROC Curve\n",
    "plt.figure(figsize=(8, 6))\n",
    "plt.plot(FPR_best, TPR_best, label=f'ROC curve (area = {auc_best:.2f})')\n",
    "plt.plot([0, 1], [0, 1], 'k--')  # Diagonal line for random classifier\n",
    "plt.xlabel('False Positive Rate')\n",
    "plt.ylabel('True Positive Rate')\n",
    "plt.title('ROC Curve for Best Logistic Regression Model')\n",
    "plt.legend(loc=\"lower right\")\n",
    "plt.show()"
   ]
  },
  {
   "cell_type": "code",
   "execution_count": null,
   "metadata": {
    "application/vnd.databricks.v1+cell": {
     "cellMetadata": {},
     "inputWidgets": {},
     "nuid": "557269d4-ee31-4574-9633-d9c5de569da1",
     "showTitle": false,
     "title": ""
    }
   },
   "outputs": [],
   "source": []
  },
  {
   "cell_type": "markdown",
   "metadata": {
    "application/vnd.databricks.v1+cell": {
     "cellMetadata": {},
     "inputWidgets": {},
     "nuid": "a2d9cccf-48b3-4c8e-9f74-31aa36ac3491",
     "showTitle": false,
     "title": ""
    }
   },
   "source": [
    "# Naive Bayes"
   ]
  },
  {
   "cell_type": "code",
   "execution_count": null,
   "metadata": {
    "application/vnd.databricks.v1+cell": {
     "cellMetadata": {
      "byteLimit": 2048000,
      "rowLimit": 10000
     },
     "inputWidgets": {},
     "nuid": "b4ac91fc-d507-462f-8c66-f67436a3ad7b",
     "showTitle": false,
     "title": ""
    }
   },
   "outputs": [],
   "source": [
    "from pyspark.ml.classification import NaiveBayes\n",
    "from pyspark.ml.evaluation import MulticlassClassificationEvaluator"
   ]
  },
  {
   "cell_type": "code",
   "execution_count": null,
   "metadata": {
    "application/vnd.databricks.v1+cell": {
     "cellMetadata": {
      "byteLimit": 2048000,
      "rowLimit": 10000
     },
     "inputWidgets": {},
     "nuid": "6717e5bf-4ebc-41a3-bced-08317222175b",
     "showTitle": false,
     "title": ""
    }
   },
   "outputs": [],
   "source": [
    "# Initialize the Naive Bayes classifier\n",
    "nb = NaiveBayes(featuresCol=\"features\", labelCol=\"target\")"
   ]
  },
  {
   "cell_type": "code",
   "execution_count": null,
   "metadata": {
    "application/vnd.databricks.v1+cell": {
     "cellMetadata": {
      "byteLimit": 2048000,
      "rowLimit": 10000
     },
     "inputWidgets": {},
     "nuid": "28ccd87d-8f2d-4a88-9e35-d522f62e863f",
     "showTitle": false,
     "title": ""
    }
   },
   "outputs": [
    {
     "data": {
      "application/vnd.jupyter.widget-view+json": {
       "model_id": "13c9c814343d49d58565595c67b99a39",
       "version_major": 2,
       "version_minor": 0
      },
      "text/plain": [
       "Downloading artifacts:   0%|          | 0/15 [00:00<?, ?it/s]"
      ]
     },
     "metadata": {},
     "output_type": "display_data"
    },
    {
     "data": {
      "application/vnd.jupyter.widget-view+json": {
       "model_id": "4b5c9646ce8c4e9f9ac7b220ed7c4117",
       "version_major": 2,
       "version_minor": 0
      },
      "text/plain": [
       "Uploading artifacts:   0%|          | 0/4 [00:00<?, ?it/s]"
      ]
     },
     "metadata": {},
     "output_type": "display_data"
    }
   ],
   "source": [
    "# Fit the model on the training data\n",
    "nb_model = nb.fit(train_tfidf_df)"
   ]
  },
  {
   "cell_type": "code",
   "execution_count": null,
   "metadata": {
    "application/vnd.databricks.v1+cell": {
     "cellMetadata": {
      "byteLimit": 2048000,
      "rowLimit": 10000
     },
     "inputWidgets": {},
     "nuid": "e16f42ca-3a70-4811-95a0-b93e5d80c576",
     "showTitle": false,
     "title": ""
    }
   },
   "outputs": [],
   "source": [
    "# Make predictions on the test data\n",
    "naive_predictions = nb_model.transform(test_tfidf_df)"
   ]
  },
  {
   "cell_type": "code",
   "execution_count": null,
   "metadata": {
    "application/vnd.databricks.v1+cell": {
     "cellMetadata": {
      "byteLimit": 2048000,
      "rowLimit": 10000
     },
     "inputWidgets": {},
     "nuid": "1c748205-5ce9-437a-a71b-4eb48ea85f92",
     "showTitle": false,
     "title": ""
    }
   },
   "outputs": [
    {
     "name": "stdout",
     "output_type": "stream",
     "text": [
      "Accuracy of Naive Bayes model: 0.74\n"
     ]
    }
   ],
   "source": [
    "# Evaluate the model\n",
    "evaluator = MulticlassClassificationEvaluator(labelCol=\"target\", predictionCol=\"prediction\", metricName=\"accuracy\")\n",
    "nb_accuracy = evaluator.evaluate(naive_predictions)\n",
    "print(f\"Accuracy of Naive Bayes model: {nb_accuracy:.2f}\")"
   ]
  },
  {
   "cell_type": "code",
   "execution_count": null,
   "metadata": {
    "application/vnd.databricks.v1+cell": {
     "cellMetadata": {
      "byteLimit": 2048000,
      "rowLimit": 10000
     },
     "inputWidgets": {},
     "nuid": "77988845-43e2-4b48-add2-e947919bdc82",
     "showTitle": false,
     "title": ""
    }
   },
   "outputs": [
    {
     "name": "stdout",
     "output_type": "stream",
     "text": [
      "+--------------------+------+----------+--------------------+\n",
      "|            features|target|prediction|         probability|\n",
      "+--------------------+------+----------+--------------------+\n",
      "|(10000,[281,1528,...|     0|       0.0|[0.99996914006371...|\n",
      "|(10000,[666,1379]...|     1|       1.0|[0.38235457667258...|\n",
      "|(10000,[600,2977,...|     1|       1.0|[5.38749973531931...|\n",
      "|(10000,[157,3704,...|     0|       1.0|[0.13072135826604...|\n",
      "|(10000,[2306,5477...|     1|       0.0|[0.94678009108029...|\n",
      "|(10000,[750,7293]...|     1|       1.0|[6.47697471122636...|\n",
      "|(10000,[157,613,1...|     0|       0.0|[0.95160942790829...|\n",
      "|(10000,[2366,6538...|     0|       0.0|[0.78625111571557...|\n",
      "|(10000,[856,2997,...|     1|       1.0|[1.73508533436249...|\n",
      "|(10000,[960,3482,...|     0|       1.0|[2.93026260850226...|\n",
      "|(10000,[214,2069,...|     0|       0.0|[0.98474899599929...|\n",
      "|(10000,[1523,9133...|     0|       0.0|[0.78169772361802...|\n",
      "|(10000,[938,3834]...|     1|       1.0|[5.29506066734397...|\n",
      "|(10000,[1517,2645...|     0|       1.0|[1.11170611329711...|\n",
      "|(10000,[3033,3365...|     0|       1.0|[0.16166126287861...|\n",
      "|(10000,[5400],[7....|     0|       0.0|[0.98943454042670...|\n",
      "|(10000,[2505,2996...|     1|       1.0|[2.00811313943910...|\n",
      "|(10000,[476,750,2...|     0|       0.0|[0.97139872275973...|\n",
      "|(10000,[3857,5836...|     0|       1.0|[0.40132706343134...|\n",
      "|(10000,[353,4939,...|     0|       0.0|[0.71487120197728...|\n",
      "+--------------------+------+----------+--------------------+\n",
      "only showing top 20 rows\n",
      "\n"
     ]
    }
   ],
   "source": [
    "# Show some predictions\n",
    "naive_predictions.select(\"features\", \"target\", \"prediction\", \"probability\").show()"
   ]
  },
  {
   "cell_type": "code",
   "execution_count": null,
   "metadata": {
    "application/vnd.databricks.v1+cell": {
     "cellMetadata": {},
     "inputWidgets": {},
     "nuid": "cfcd9f9e-2336-4c3d-b2b5-0f98748f6ac1",
     "showTitle": false,
     "title": ""
    }
   },
   "outputs": [],
   "source": []
  },
  {
   "cell_type": "code",
   "execution_count": null,
   "metadata": {
    "application/vnd.databricks.v1+cell": {
     "cellMetadata": {},
     "inputWidgets": {},
     "nuid": "45abfb00-f653-4686-9aab-7310053d0058",
     "showTitle": false,
     "title": ""
    }
   },
   "outputs": [],
   "source": []
  },
  {
   "cell_type": "code",
   "execution_count": null,
   "metadata": {
    "application/vnd.databricks.v1+cell": {
     "cellMetadata": {
      "byteLimit": 2048000,
      "rowLimit": 10000
     },
     "inputWidgets": {},
     "nuid": "fb711095-adea-4602-9b8e-c2d07feb5032",
     "showTitle": false,
     "title": ""
    }
   },
   "outputs": [],
   "source": [
    "# 1. Initialize the Naive Bayes Model:\n",
    "from pyspark.ml.classification import NaiveBayes\n",
    "\n",
    "# Initialize NaiveBayes\n",
    "nb = NaiveBayes(featuresCol=\"features\", labelCol=\"target\")"
   ]
  },
  {
   "cell_type": "code",
   "execution_count": null,
   "metadata": {
    "application/vnd.databricks.v1+cell": {
     "cellMetadata": {
      "byteLimit": 2048000,
      "rowLimit": 10000
     },
     "inputWidgets": {},
     "nuid": "7489ba34-b9c0-43a7-a2c5-a367a802a97b",
     "showTitle": false,
     "title": ""
    }
   },
   "outputs": [],
   "source": [
    "from pyspark.ml.tuning import ParamGridBuilder\n",
    "\n",
    "# Define a smaller parameter grid\n",
    "param_grid = (ParamGridBuilder()\n",
    "               .addGrid(nb.smoothing, [0.1, 1.0])  # Reduced smoothing values\n",
    "               .addGrid(nb.modelType, ['multinomial'])  # Only one model type\n",
    "               .build())"
   ]
  },
  {
   "cell_type": "code",
   "execution_count": null,
   "metadata": {
    "application/vnd.databricks.v1+cell": {
     "cellMetadata": {
      "byteLimit": 2048000,
      "rowLimit": 10000
     },
     "inputWidgets": {},
     "nuid": "48540a1b-91ab-469b-9847-289566f1671a",
     "showTitle": false,
     "title": ""
    }
   },
   "outputs": [],
   "source": [
    "# 3. Set Up Cross-Validation:\n",
    "from pyspark.ml.tuning import CrossValidator\n",
    "from pyspark.ml.evaluation import MulticlassClassificationEvaluator\n",
    "\n",
    "# Initialize evaluator\n",
    "evaluator = MulticlassClassificationEvaluator(\n",
    "    labelCol=\"target\", \n",
    "    predictionCol=\"prediction\", \n",
    "    metricName=\"accuracy\")\n",
    "\n",
    "# Initialize CrossValidator\n",
    "crossval = CrossValidator(\n",
    "    estimator=nb,              # Base model\n",
    "    estimatorParamMaps=param_grid,  # Parameter grid\n",
    "    evaluator=evaluator,      # Evaluation metric\n",
    "    numFolds=3                # Number of folds for cross-validation\n",
    ")"
   ]
  },
  {
   "cell_type": "code",
   "execution_count": null,
   "metadata": {
    "application/vnd.databricks.v1+cell": {
     "cellMetadata": {
      "byteLimit": 2048000,
      "rowLimit": 10000
     },
     "inputWidgets": {},
     "nuid": "390549e0-8c0d-4b80-ac64-47a3df9c634f",
     "showTitle": false,
     "title": ""
    }
   },
   "outputs": [
    {
     "data": {
      "application/vnd.jupyter.widget-view+json": {
       "model_id": "c8b02eec866645359da5bfb7902794a4",
       "version_major": 2,
       "version_minor": 0
      },
      "text/plain": [
       "Downloading artifacts:   0%|          | 0/27 [00:00<?, ?it/s]"
      ]
     },
     "metadata": {},
     "output_type": "display_data"
    },
    {
     "data": {
      "application/vnd.jupyter.widget-view+json": {
       "model_id": "63d689caf6864a4583e8bb268d6339d8",
       "version_major": 2,
       "version_minor": 0
      },
      "text/plain": [
       "Uploading artifacts:   0%|          | 0/4 [00:00<?, ?it/s]"
      ]
     },
     "metadata": {},
     "output_type": "display_data"
    },
    {
     "data": {
      "application/vnd.jupyter.widget-view+json": {
       "model_id": "051e3b25c8934c1dbaae849fcf3dd90b",
       "version_major": 2,
       "version_minor": 0
      },
      "text/plain": [
       "Downloading artifacts:   0%|          | 0/15 [00:00<?, ?it/s]"
      ]
     },
     "metadata": {},
     "output_type": "display_data"
    },
    {
     "data": {
      "application/vnd.jupyter.widget-view+json": {
       "model_id": "a2a044915ce94782951268446ce4a2b7",
       "version_major": 2,
       "version_minor": 0
      },
      "text/plain": [
       "Uploading artifacts:   0%|          | 0/4 [00:00<?, ?it/s]"
      ]
     },
     "metadata": {},
     "output_type": "display_data"
    },
    {
     "name": "stdout",
     "output_type": "stream",
     "text": [
      "Best Model:\n",
      "NaiveBayesModel: uid=NaiveBayes_8ca2ed3d46d3, modelType=multinomial, numClasses=2, numFeatures=10000\n"
     ]
    }
   ],
   "source": [
    "# 4. Fit the Cross-Validator:\n",
    "# Fit the cross-validator to the training data\n",
    "cv_model = crossval.fit(train_tfidf_df)\n",
    "\n",
    "# Get the best model from cross-validation\n",
    "best_model = cv_model.bestModel\n",
    "\n",
    "print(\"Best Model:\")\n",
    "print(best_model)"
   ]
  },
  {
   "cell_type": "code",
   "execution_count": null,
   "metadata": {
    "application/vnd.databricks.v1+cell": {
     "cellMetadata": {
      "byteLimit": 2048000,
      "rowLimit": 10000
     },
     "inputWidgets": {},
     "nuid": "c5437fdb-8f9e-419c-bea3-9d74e0595a26",
     "showTitle": false,
     "title": ""
    }
   },
   "outputs": [
    {
     "name": "stdout",
     "output_type": "stream",
     "text": [
      "Test set accuracy of best model = 0.7430188499012927\n"
     ]
    },
    {
     "name": "stderr",
     "output_type": "stream",
     "text": [
      "/databricks/spark/python/pyspark/sql/context.py:164: FutureWarning: Deprecated in 3.0.0. Use SparkSession.builder.getOrCreate() instead.\n",
      "  warnings.warn(\n"
     ]
    },
    {
     "name": "stdout",
     "output_type": "stream",
     "text": [
      "Best Model Confusion Matrix:\n",
      "[[141379.  48181.]\n",
      " [ 48668. 138644.]]\n",
      "Precision of best model: 0.7421062491636559\n",
      "Recall of best model: 0.7401768172888016\n",
      "F1-Score of best model: 0.7411402774919348\n",
      "Specificity of best model: 0.7458271787296898\n",
      "AUC of best model: 0.5239722216438052\n"
     ]
    },
    {
     "data": {
      "image/png": "[encoded data removed]",
      "text/plain": [
       "<Figure size 800x600 with 1 Axes>"
      ]
     },
     "metadata": {},
     "output_type": "display_data"
    }
   ],
   "source": [
    "# 5. Evaluate the Best Model:\n",
    "# Make predictions on the test set\n",
    "best_predictions = best_model.transform(test_tfidf_df)\n",
    "\n",
    "# Evaluate the best model\n",
    "nb_accuracy_best = evaluator.evaluate(best_predictions)\n",
    "print(f\"Test set accuracy of best model = {nb_accuracy_best}\")\n",
    "\n",
    "from pyspark.mllib.evaluation import MulticlassMetrics\n",
    "from pyspark.sql.functions import col\n",
    "\n",
    "# Confusion Matrix\n",
    "best_metrics = MulticlassMetrics(best_predictions.select(col(\"prediction\").cast(\"double\"), col(\"target\").cast(\"double\")).rdd)\n",
    "confusion_matrix_best = best_metrics.confusionMatrix().toArray()\n",
    "print(\"Best Model Confusion Matrix:\")\n",
    "print(confusion_matrix_best)\n",
    "\n",
    "# Precision\n",
    "precision_best = best_metrics.precision(1.0)\n",
    "print(f\"Precision of best model: {precision_best}\")\n",
    "\n",
    "# Recall\n",
    "recall_best = best_metrics.recall(1.0)\n",
    "print(f\"Recall of best model: {recall_best}\")\n",
    "\n",
    "# F1-Score\n",
    "f1_score_best = best_metrics.fMeasure(1.0)\n",
    "print(f\"F1-Score of best model: {f1_score_best}\")\n",
    "\n",
    "# Specificity (For Binary Classification)\n",
    "tn_best = confusion_matrix_best[0][0]\n",
    "fp_best = confusion_matrix_best[0][1]\n",
    "specificity_best = tn_best / (tn_best + fp_best)\n",
    "print(f\"Specificity of best model: {specificity_best}\")\n",
    "\n",
    "# ROC AUC\n",
    "from pyspark.ml.evaluation import BinaryClassificationEvaluator\n",
    "import pandas as pd\n",
    "import matplotlib.pyplot as plt\n",
    "\n",
    "evaluator_auc = BinaryClassificationEvaluator(labelCol=\"target\", rawPredictionCol=\"rawPrediction\", metricName=\"areaUnderROC\")\n",
    "auc_best = evaluator_auc.evaluate(best_predictions)\n",
    "print(f\"AUC of best model: {auc_best}\")\n",
    "\n",
    "# ROC Curve\n",
    "prob_labels_best = best_predictions.select(\"probability\", \"target\")\n",
    "prob_labels_pd_best = prob_labels_best.toPandas()\n",
    "prob_labels_pd_best['probability'] = prob_labels_pd_best['probability'].apply(lambda x: x[1])\n",
    "prob_labels_pd_best = prob_labels_pd_best.sort_values(by='probability', ascending=False)\n",
    "\n",
    "# Calculate TPR and FPR\n",
    "TPR_best = []\n",
    "FPR_best = []\n",
    "P_best = sum(prob_labels_pd_best['target'])\n",
    "N_best = len(prob_labels_pd_best['target']) - P_best\n",
    "tp_best = 0\n",
    "fp_best = 0\n",
    "\n",
    "for i in range(len(prob_labels_pd_best)):\n",
    "    if prob_labels_pd_best.iloc[i]['target'] == 1:\n",
    "        tp_best += 1\n",
    "    else:\n",
    "        fp_best += 1\n",
    "    TPR_best.append(tp_best / P_best)\n",
    "    FPR_best.append(fp_best / N_best)\n",
    "\n",
    "# Plotting the ROC Curve\n",
    "plt.figure(figsize=(8, 6))\n",
    "plt.plot(FPR_best, TPR_best, label=f'ROC curve (area = {auc_best:.2f})')\n",
    "plt.plot([0, 1], [0, 1], 'k--')  # Diagonal line for random classifier\n",
    "plt.xlabel('False Positive Rate')\n",
    "plt.ylabel('True Positive Rate')\n",
    "plt.title('ROC Curve for Best Naive Bayes Model')\n",
    "plt.legend(loc=\"lower right\")\n",
    "plt.show()"
   ]
  },
  {
   "cell_type": "code",
   "execution_count": null,
   "metadata": {
    "application/vnd.databricks.v1+cell": {
     "cellMetadata": {},
     "inputWidgets": {},
     "nuid": "b699ad8f-d4cd-4bf0-98de-60c392b5b206",
     "showTitle": false,
     "title": ""
    }
   },
   "outputs": [],
   "source": []
  },
  {
   "cell_type": "markdown",
   "metadata": {
    "application/vnd.databricks.v1+cell": {
     "cellMetadata": {},
     "inputWidgets": {},
     "nuid": "29e153c4-f15b-43c4-ad56-33641c50f9d0",
     "showTitle": false,
     "title": ""
    }
   },
   "source": [
    "# Decision Tree"
   ]
  },
  {
   "cell_type": "code",
   "execution_count": null,
   "metadata": {
    "application/vnd.databricks.v1+cell": {
     "cellMetadata": {
      "byteLimit": 2048000,
      "rowLimit": 10000
     },
     "inputWidgets": {},
     "nuid": "d9ce4387-ff08-46f3-8024-f8eee435af9f",
     "showTitle": false,
     "title": ""
    }
   },
   "outputs": [],
   "source": [
    "from pyspark.ml.classification import DecisionTreeClassifier\n",
    "from pyspark.ml.evaluation import MulticlassClassificationEvaluator"
   ]
  },
  {
   "cell_type": "code",
   "execution_count": null,
   "metadata": {
    "application/vnd.databricks.v1+cell": {
     "cellMetadata": {
      "byteLimit": 2048000,
      "rowLimit": 10000
     },
     "inputWidgets": {},
     "nuid": "c8a09f36-8404-440f-b331-0ca6b06cc337",
     "showTitle": false,
     "title": ""
    }
   },
   "outputs": [],
   "source": [
    "# Step 3: Initialize the Decision Tree Classifier\n",
    "dt = DecisionTreeClassifier(featuresCol=\"features\",labelCol=\"target\")"
   ]
  },
  {
   "cell_type": "code",
   "execution_count": null,
   "metadata": {
    "application/vnd.databricks.v1+cell": {
     "cellMetadata": {
      "byteLimit": 2048000,
      "rowLimit": 10000
     },
     "inputWidgets": {},
     "nuid": "6753f69f-b21d-4813-8f14-41f99a2b01de",
     "showTitle": false,
     "title": ""
    }
   },
   "outputs": [
    {
     "name": "stderr",
     "output_type": "stream",
     "text": [
      "Exception ignored in: <function JavaModelWrapper.__del__ at 0x7f2e26cc8860>\n",
      "Traceback (most recent call last):\n",
      "  File \"/databricks/spark/python/pyspark/mllib/common.py\", line 152, in __del__\n",
      "    assert self._sc._gateway is not None\n",
      "           ^^^^^^^^\n",
      "AttributeError: 'BinaryClassificationMetrics' object has no attribute '_sc'\n"
     ]
    },
    {
     "data": {
      "application/vnd.jupyter.widget-view+json": {
       "model_id": "7d8b484f99ab42d0b2645a0e00fccc9d",
       "version_major": 2,
       "version_minor": 0
      },
      "text/plain": [
       "Downloading artifacts:   0%|          | 0/15 [00:00<?, ?it/s]"
      ]
     },
     "metadata": {},
     "output_type": "display_data"
    },
    {
     "data": {
      "application/vnd.jupyter.widget-view+json": {
       "model_id": "60866713a3fb446ab6f671019ef781c6",
       "version_major": 2,
       "version_minor": 0
      },
      "text/plain": [
       "Uploading artifacts:   0%|          | 0/4 [00:00<?, ?it/s]"
      ]
     },
     "metadata": {},
     "output_type": "display_data"
    }
   ],
   "source": [
    "# Step 4: Fit the model on the training data\n",
    "dt_model = dt.fit(train_tfidf_df)"
   ]
  },
  {
   "cell_type": "code",
   "execution_count": null,
   "metadata": {
    "application/vnd.databricks.v1+cell": {
     "cellMetadata": {
      "byteLimit": 2048000,
      "rowLimit": 10000
     },
     "inputWidgets": {},
     "nuid": "bb9d2aaa-8159-451c-9567-11da799b6233",
     "showTitle": false,
     "title": ""
    }
   },
   "outputs": [],
   "source": [
    "# Step 5: Make predictions on the test data\n",
    "predictions = dt_model.transform(test_tfidf_df)"
   ]
  },
  {
   "cell_type": "code",
   "execution_count": null,
   "metadata": {
    "application/vnd.databricks.v1+cell": {
     "cellMetadata": {
      "byteLimit": 2048000,
      "rowLimit": 10000
     },
     "inputWidgets": {},
     "nuid": "e099d8ea-98d2-417a-9671-008a947837a4",
     "showTitle": false,
     "title": ""
    }
   },
   "outputs": [],
   "source": [
    "evaluator = MulticlassClassificationEvaluator(labelCol=\"target\", predictionCol=\"prediction\", metricName=\"accuracy\")\n",
    "accuracy = evaluator.evaluate(predictions)"
   ]
  },
  {
   "cell_type": "code",
   "execution_count": null,
   "metadata": {
    "application/vnd.databricks.v1+cell": {
     "cellMetadata": {
      "byteLimit": 2048000,
      "rowLimit": 10000
     },
     "inputWidgets": {},
     "nuid": "2335f66b-4f02-49d2-bde3-6595650795a8",
     "showTitle": false,
     "title": ""
    }
   },
   "outputs": [
    {
     "name": "stdout",
     "output_type": "stream",
     "text": [
      "Test Accuracy: 0.55\n"
     ]
    }
   ],
   "source": [
    "print(f\"Test Accuracy: {accuracy:.2f}\")"
   ]
  },
  {
   "cell_type": "code",
   "execution_count": null,
   "metadata": {
    "application/vnd.databricks.v1+cell": {
     "cellMetadata": {
      "byteLimit": 2048000,
      "rowLimit": 10000
     },
     "inputWidgets": {},
     "nuid": "0d0f572d-31c2-408b-a176-f5263e98be4a",
     "showTitle": false,
     "title": ""
    }
   },
   "outputs": [
    {
     "name": "stdout",
     "output_type": "stream",
     "text": [
      "+------+----------+\n",
      "|target|prediction|\n",
      "+------+----------+\n",
      "|0     |1.0       |\n",
      "|1     |1.0       |\n",
      "|1     |1.0       |\n",
      "|0     |1.0       |\n",
      "|1     |1.0       |\n",
      "|1     |1.0       |\n",
      "|0     |1.0       |\n",
      "|0     |1.0       |\n",
      "|1     |1.0       |\n",
      "|0     |0.0       |\n",
      "|0     |1.0       |\n",
      "|0     |1.0       |\n",
      "|1     |1.0       |\n",
      "|0     |1.0       |\n",
      "|0     |1.0       |\n",
      "|0     |1.0       |\n",
      "|1     |1.0       |\n",
      "|0     |0.0       |\n",
      "|0     |1.0       |\n",
      "|0     |1.0       |\n",
      "+------+----------+\n",
      "only showing top 20 rows\n",
      "\n"
     ]
    }
   ],
   "source": [
    "# Optional: Show the predictions\n",
    "predictions.select(\"target\", \"prediction\").show(truncate=False)"
   ]
  },
  {
   "cell_type": "code",
   "execution_count": null,
   "metadata": {
    "application/vnd.databricks.v1+cell": {
     "cellMetadata": {},
     "inputWidgets": {},
     "nuid": "ef39a997-1716-43c7-83ed-3956cdd3381f",
     "showTitle": false,
     "title": ""
    }
   },
   "outputs": [],
   "source": []
  },
  {
   "cell_type": "code",
   "execution_count": null,
   "metadata": {
    "application/vnd.databricks.v1+cell": {
     "cellMetadata": {},
     "inputWidgets": {},
     "nuid": "599a357b-27f4-4bb3-a66d-cfef981b00bf",
     "showTitle": false,
     "title": ""
    }
   },
   "outputs": [],
   "source": []
  },
  {
   "cell_type": "markdown",
   "metadata": {
    "application/vnd.databricks.v1+cell": {
     "cellMetadata": {},
     "inputWidgets": {},
     "nuid": "b6059650-a11c-4df6-9488-bd04392aeb30",
     "showTitle": false,
     "title": ""
    }
   },
   "source": [
    "# Random Forest"
   ]
  },
  {
   "cell_type": "code",
   "execution_count": null,
   "metadata": {
    "application/vnd.databricks.v1+cell": {
     "cellMetadata": {
      "byteLimit": 2048000,
      "rowLimit": 10000
     },
     "inputWidgets": {},
     "nuid": "e395df71-e818-43b5-9e00-bbc25ebaae14",
     "showTitle": false,
     "title": ""
    }
   },
   "outputs": [],
   "source": [
    "from pyspark.ml.classification import RandomForestClassifier\n",
    "from pyspark.ml.evaluation import MulticlassClassificationEvaluator"
   ]
  },
  {
   "cell_type": "code",
   "execution_count": null,
   "metadata": {
    "application/vnd.databricks.v1+cell": {
     "cellMetadata": {
      "byteLimit": 2048000,
      "rowLimit": 10000
     },
     "inputWidgets": {},
     "nuid": "4a3f8eb4-bc19-4566-adc0-df8c487e0bfd",
     "showTitle": false,
     "title": ""
    }
   },
   "outputs": [],
   "source": [
    "# Step 1: Initialize the Random Forest Classifier\n",
    "rf = RandomForestClassifier(labelCol=\"target\", featuresCol=\"features\", numTrees=10)"
   ]
  },
  {
   "cell_type": "code",
   "execution_count": null,
   "metadata": {
    "application/vnd.databricks.v1+cell": {
     "cellMetadata": {
      "byteLimit": 2048000,
      "rowLimit": 10000
     },
     "inputWidgets": {},
     "nuid": "7f94f143-3607-4fc8-978c-60206b81281a",
     "showTitle": false,
     "title": ""
    }
   },
   "outputs": [
    {
     "data": {
      "application/vnd.jupyter.widget-view+json": {
       "model_id": "e02f73c75b5d4ecea20c33e6bb8d8026",
       "version_major": 2,
       "version_minor": 0
      },
      "text/plain": [
       "Downloading artifacts:   0%|          | 0/20 [00:00<?, ?it/s]"
      ]
     },
     "metadata": {},
     "output_type": "display_data"
    },
    {
     "data": {
      "application/vnd.jupyter.widget-view+json": {
       "model_id": "d58fe82e6aba4541aeef6cad30909796",
       "version_major": 2,
       "version_minor": 0
      },
      "text/plain": [
       "Uploading artifacts:   0%|          | 0/4 [00:00<?, ?it/s]"
      ]
     },
     "metadata": {},
     "output_type": "display_data"
    }
   ],
   "source": [
    "# Step 2: Fit the model on the training data\n",
    "rf_model = rf.fit(train_tfidf_df)"
   ]
  },
  {
   "cell_type": "code",
   "execution_count": null,
   "metadata": {
    "application/vnd.databricks.v1+cell": {
     "cellMetadata": {
      "byteLimit": 2048000,
      "rowLimit": 10000
     },
     "inputWidgets": {},
     "nuid": "69709335-da58-413f-aa65-85317c3d307b",
     "showTitle": false,
     "title": ""
    }
   },
   "outputs": [],
   "source": [
    "# Step 3: Make predictions on the test data\n",
    "predictions = rf_model.transform(test_tfidf_df)"
   ]
  },
  {
   "cell_type": "code",
   "execution_count": null,
   "metadata": {
    "application/vnd.databricks.v1+cell": {
     "cellMetadata": {
      "byteLimit": 2048000,
      "rowLimit": 10000
     },
     "inputWidgets": {},
     "nuid": "aa1cb3c5-5955-4cab-bc46-0c7e7c3aa126",
     "showTitle": false,
     "title": ""
    }
   },
   "outputs": [],
   "source": [
    "# Step 4: Evaluate the model\n",
    "evaluator = MulticlassClassificationEvaluator(labelCol=\"target\", predictionCol=\"prediction\", metricName=\"accuracy\")\n",
    "accuracy = evaluator.evaluate(predictions)"
   ]
  },
  {
   "cell_type": "code",
   "execution_count": null,
   "metadata": {
    "application/vnd.databricks.v1+cell": {
     "cellMetadata": {
      "byteLimit": 2048000,
      "rowLimit": 10000
     },
     "inputWidgets": {},
     "nuid": "a40c5b67-71e4-4fae-b025-2d519a7b4b90",
     "showTitle": false,
     "title": ""
    }
   },
   "outputs": [
    {
     "name": "stdout",
     "output_type": "stream",
     "text": [
      "Test Accuracy: 0.55\n"
     ]
    }
   ],
   "source": [
    "print(f\"Test Accuracy: {accuracy:.2f}\")"
   ]
  },
  {
   "cell_type": "code",
   "execution_count": null,
   "metadata": {
    "application/vnd.databricks.v1+cell": {
     "cellMetadata": {
      "byteLimit": 2048000,
      "rowLimit": 10000
     },
     "inputWidgets": {},
     "nuid": "e9ec4ebb-29f3-4102-9b6b-a1fd8b71f636",
     "showTitle": false,
     "title": ""
    }
   },
   "outputs": [
    {
     "name": "stdout",
     "output_type": "stream",
     "text": [
      "+-----------------------------------------------------------------------------------------------------------------------------------------------------------------------------------------------------------------------------------------------------------------------+------+----------+\n",
      "|features                                                                                                                                                                                                                                                               |target|prediction|\n",
      "+-----------------------------------------------------------------------------------------------------------------------------------------------------------------------------------------------------------------------------------------------------------------------+------+----------+\n",
      "|(10000,[281,1528,4319,9257],[4.454584297541965,6.892655105649432,3.9492870147240824,3.9338014624808064])                                                                                                                                                               |0     |1.0       |\n",
      "|(10000,[666,1379],[5.31100921054499,4.992489365909523])                                                                                                                                                                                                                |1     |0.0       |\n",
      "|(10000,[600,2977,3944,4583,5367,5497,6645,6907,9594],[8.223069008374866,10.094871185276457,4.133193727335062,6.685015740871187,5.631715476716818,5.561337112615925,4.370221007070447,5.424279715726308,4.744456499829136])                                             |1     |1.0       |\n",
      "|(10000,[157,3704,4319,9257],[3.384930780118096,3.0715188329929117,3.9492870147240824,3.9338014624808064])                                                                                                                                                              |0     |1.0       |\n",
      "|(10000,[2306,5477,6026],[5.682600040076653,4.194616539961468,3.2104957939287235])                                                                                                                                                                                      |1     |0.0       |\n",
      "|(10000,[750,7293],[3.8725968951629928,6.944367306696742])                                                                                                                                                                                                              |1     |0.0       |\n",
      "|(10000,[157,613,1964],[3.384930780118096,4.4048790134334785,4.001350488964616])                                                                                                                                                                                        |0     |0.0       |\n",
      "|(10000,[2366,6538,7225],[5.53392551495446,4.017029520249626,8.562220416056126])                                                                                                                                                                                        |0     |0.0       |\n",
      "|(10000,[856,2997,3389,8149,8751],[8.406059685300844,7.667762540012185,4.094694697566454,7.633797010856555,8.650513023201805])                                                                                                                                          |1     |0.0       |\n",
      "|(10000,[960,3482,7405,9240],[6.103474592306799,6.803068209373064,2.6930826625598048,5.679178533909457])                                                                                                                                                                |0     |0.0       |\n",
      "|(10000,[214,2069,4331],[9.348801603262169,4.26445605968689,9.196124763053211])                                                                                                                                                                                         |0     |0.0       |\n",
      "|(10000,[1523,9133],[8.196664834178355,2.768305462030773])                                                                                                                                                                                                              |0     |0.0       |\n",
      "|(10000,[938,3834],[8.112371588788852,5.966685459675442])                                                                                                                                                                                                               |1     |0.0       |\n",
      "|(10000,[1517,2645,3958],[5.902256401621555,4.614594646428375,3.8035436207887647])                                                                                                                                                                                      |0     |0.0       |\n",
      "|(10000,[3033,3365,8323],[7.4237255411096985,3.7090171314741465,5.521505800158432])                                                                                                                                                                                     |0     |0.0       |\n",
      "|(10000,[5400],[7.609964535488457])                                                                                                                                                                                                                                     |0     |0.0       |\n",
      "|(10000,[2505,2996,4759,8321,8437,8771],[3.9364194453746273,4.788758196745965,8.37833513728599,8.39408349425413,6.0143903985541405,7.155019370116923])                                                                                                                  |1     |0.0       |\n",
      "|(10000,[476,750,2309,2708,3934,4812,5459,6450,6538,7405,9426],[8.029109747500701,3.8725968951629928,4.401944523762574,4.298417054774112,7.829942811720416,6.418020307028128,7.74349592811298,5.154938297623866,4.017029520249626,2.6930826625598048,2.885080811313924])|0     |0.0       |\n",
      "|(10000,[3857,5836,6537,7083,8653,9985],[4.056844627367961,4.775154002145251,3.6416913385132936,4.848762864095717,5.257899385231042,6.311670182185136])                                                                                                                 |0     |0.0       |\n",
      "|(10000,[353,4939,6869],[6.0404432304597995,6.898863551311916,3.57057493413987])                                                                                                                                                                                        |0     |0.0       |\n",
      "+-----------------------------------------------------------------------------------------------------------------------------------------------------------------------------------------------------------------------------------------------------------------------+------+----------+\n",
      "only showing top 20 rows\n",
      "\n"
     ]
    }
   ],
   "source": [
    "# Optional: Show the predictions\n",
    "predictions.select(\"features\", \"target\", \"prediction\").show(truncate=False)"
   ]
  },
  {
   "cell_type": "code",
   "execution_count": null,
   "metadata": {
    "application/vnd.databricks.v1+cell": {
     "cellMetadata": {},
     "inputWidgets": {},
     "nuid": "c182798a-8a48-4204-bd18-f2719049c3ac",
     "showTitle": false,
     "title": ""
    }
   },
   "outputs": [],
   "source": []
  },
  {
   "cell_type": "code",
   "execution_count": null,
   "metadata": {
    "application/vnd.databricks.v1+cell": {
     "cellMetadata": {},
     "inputWidgets": {},
     "nuid": "5c060aaf-3833-48c2-b70e-8ff678e06972",
     "showTitle": false,
     "title": ""
    }
   },
   "outputs": [],
   "source": []
  },
  {
   "cell_type": "code",
   "execution_count": null,
   "metadata": {
    "application/vnd.databricks.v1+cell": {
     "cellMetadata": {
      "byteLimit": 2048000,
      "rowLimit": 10000
     },
     "inputWidgets": {},
     "nuid": "5db804cf-921f-405f-a809-24339421fdfd",
     "showTitle": false,
     "title": ""
    }
   },
   "outputs": [],
   "source": [
    "# 1. Initialize the Random Forest Model:\n",
    "from pyspark.ml.classification import RandomForestClassifier\n",
    "\n",
    "# Initialize RandomForestClassifier\n",
    "rf = RandomForestClassifier(featuresCol=\"features\", labelCol=\"target\")"
   ]
  },
  {
   "cell_type": "code",
   "execution_count": null,
   "metadata": {
    "application/vnd.databricks.v1+cell": {
     "cellMetadata": {
      "byteLimit": 2048000,
      "rowLimit": 10000
     },
     "inputWidgets": {},
     "nuid": "bf9cad65-a604-4aea-a0ef-1ca35f27fce1",
     "showTitle": false,
     "title": ""
    }
   },
   "outputs": [],
   "source": [
    "# 2. Define the Parameter Grid:\n",
    "from pyspark.ml.tuning import ParamGridBuilder\n",
    "\n",
    "# Define a smaller parameter grid\n",
    "param_grid = (ParamGridBuilder()\n",
    "               .addGrid(rf.numTrees, [10, 30])  # Reduced number of trees\n",
    "               .addGrid(rf.maxDepth, [5, 10])    # Reduced depth\n",
    "               .addGrid(rf.maxBins, [16, 32])    # Reduced number of bins\n",
    "               .build())\n"
   ]
  },
  {
   "cell_type": "code",
   "execution_count": null,
   "metadata": {
    "application/vnd.databricks.v1+cell": {
     "cellMetadata": {
      "byteLimit": 2048000,
      "rowLimit": 10000
     },
     "inputWidgets": {},
     "nuid": "26885148-a847-409b-b275-bd53720394cf",
     "showTitle": false,
     "title": ""
    }
   },
   "outputs": [],
   "source": [
    "# 3. Set Up Cross-Validation:\n",
    "from pyspark.ml.tuning import CrossValidator\n",
    "from pyspark.ml.evaluation import MulticlassClassificationEvaluator\n",
    "\n",
    "# Initialize evaluator\n",
    "evaluator = MulticlassClassificationEvaluator(\n",
    "    labelCol=\"target\", \n",
    "    predictionCol=\"prediction\", \n",
    "    metricName=\"accuracy\")\n",
    "\n",
    "# Initialize CrossValidator with reduced number of folds\n",
    "crossval = CrossValidator(\n",
    "    estimator=rf,              # Base model\n",
    "    estimatorParamMaps=param_grid,  # Parameter grid\n",
    "    evaluator=evaluator,      # Evaluation metric\n",
    "    numFolds=3                # Reduced number of folds for faster computation\n",
    ")"
   ]
  },
  {
   "cell_type": "code",
   "execution_count": null,
   "metadata": {
    "application/vnd.databricks.v1+cell": {
     "cellMetadata": {
      "byteLimit": 2048000,
      "rowLimit": 10000
     },
     "inputWidgets": {},
     "nuid": "aa685c84-e451-4e3a-92bb-d631d5910d55",
     "showTitle": false,
     "title": ""
    }
   },
   "outputs": [
    {
     "data": {
      "text/plain": [
       "com.databricks.backend.common.rpc.CommandCancelledException\n",
       "\tat com.databricks.spark.chauffeur.SequenceExecutionState.$anonfun$cancel$5(SequenceExecutionState.scala:136)\n",
       "\tat scala.Option.getOrElse(Option.scala:189)\n",
       "\tat com.databricks.spark.chauffeur.SequenceExecutionState.$anonfun$cancel$3(SequenceExecutionState.scala:136)\n",
       "\tat com.databricks.spark.chauffeur.SequenceExecutionState.$anonfun$cancel$3$adapted(SequenceExecutionState.scala:133)\n",
       "\tat scala.collection.immutable.Range.foreach(Range.scala:158)\n",
       "\tat com.databricks.spark.chauffeur.SequenceExecutionState.cancel(SequenceExecutionState.scala:133)\n",
       "\tat com.databricks.spark.chauffeur.ExecContextState.cancelRunningSequence(ExecContextState.scala:729)\n",
       "\tat com.databricks.spark.chauffeur.ExecContextState.$anonfun$cancel$1(ExecContextState.scala:447)\n",
       "\tat scala.Option.getOrElse(Option.scala:189)\n",
       "\tat com.databricks.spark.chauffeur.ExecContextState.cancel(ExecContextState.scala:447)\n",
       "\tat com.databricks.spark.chauffeur.ChauffeurState.cancelExecution(ChauffeurState.scala:1272)\n",
       "\tat com.databricks.spark.chauffeur.ChauffeurState.$anonfun$process$1(ChauffeurState.scala:987)\n",
       "\tat com.databricks.logging.UsageLogging.$anonfun$recordOperation$1(UsageLogging.scala:532)\n",
       "\tat com.databricks.logging.UsageLogging.executeThunkAndCaptureResultTags$1(UsageLogging.scala:636)\n",
       "\tat com.databricks.logging.UsageLogging.$anonfun$recordOperationWithResultTags$4(UsageLogging.scala:654)\n",
       "\tat com.databricks.logging.AttributionContextTracing.$anonfun$withAttributionContext$1(AttributionContextTracing.scala:48)\n",
       "\tat com.databricks.logging.AttributionContext$.$anonfun$withValue$1(AttributionContext.scala:253)\n",
       "\tat scala.util.DynamicVariable.withValue(DynamicVariable.scala:62)\n",
       "\tat com.databricks.logging.AttributionContext$.withValue(AttributionContext.scala:249)\n",
       "\tat com.databricks.logging.AttributionContextTracing.withAttributionContext(AttributionContextTracing.scala:46)\n",
       "\tat com.databricks.logging.AttributionContextTracing.withAttributionContext$(AttributionContextTracing.scala:43)\n",
       "\tat com.databricks.spark.chauffeur.ChauffeurState.withAttributionContext(ChauffeurState.scala:68)\n",
       "\tat com.databricks.logging.AttributionContextTracing.withAttributionTags(AttributionContextTracing.scala:95)\n",
       "\tat com.databricks.logging.AttributionContextTracing.withAttributionTags$(AttributionContextTracing.scala:76)\n",
       "\tat com.databricks.spark.chauffeur.ChauffeurState.withAttributionTags(ChauffeurState.scala:68)\n",
       "\tat com.databricks.logging.UsageLogging.recordOperationWithResultTags(UsageLogging.scala:631)\n",
       "\tat com.databricks.logging.UsageLogging.recordOperationWithResultTags$(UsageLogging.scala:541)\n",
       "\tat com.databricks.spark.chauffeur.ChauffeurState.recordOperationWithResultTags(ChauffeurState.scala:68)\n",
       "\tat com.databricks.logging.UsageLogging.recordOperation(UsageLogging.scala:533)\n",
       "\tat com.databricks.logging.UsageLogging.recordOperation$(UsageLogging.scala:501)\n",
       "\tat com.databricks.spark.chauffeur.ChauffeurState.recordOperation(ChauffeurState.scala:68)\n",
       "\tat com.databricks.spark.chauffeur.ChauffeurState.process(ChauffeurState.scala:947)\n",
       "\tat com.databricks.spark.chauffeur.Chauffeur$$anon$1$$anonfun$receive$1.handleDriverRequest$1(Chauffeur.scala:787)\n",
       "\tat com.databricks.spark.chauffeur.Chauffeur$$anon$1$$anonfun$receive$1.$anonfun$applyOrElse$5(Chauffeur.scala:813)\n",
       "\tat com.databricks.logging.UsageLogging.executeThunkAndCaptureResultTags$1(UsageLogging.scala:636)\n",
       "\tat com.databricks.logging.UsageLogging.$anonfun$recordOperationWithResultTags$4(UsageLogging.scala:654)\n",
       "\tat com.databricks.logging.AttributionContextTracing.$anonfun$withAttributionContext$1(AttributionContextTracing.scala:48)\n",
       "\tat com.databricks.logging.AttributionContext$.$anonfun$withValue$1(AttributionContext.scala:253)\n",
       "\tat scala.util.DynamicVariable.withValue(DynamicVariable.scala:62)\n",
       "\tat com.databricks.logging.AttributionContext$.withValue(AttributionContext.scala:249)\n",
       "\tat com.databricks.logging.AttributionContextTracing.withAttributionContext(AttributionContextTracing.scala:46)\n",
       "\tat com.databricks.logging.AttributionContextTracing.withAttributionContext$(AttributionContextTracing.scala:43)\n",
       "\tat com.databricks.rpc.ServerBackend.withAttributionContext(ServerBackend.scala:22)\n",
       "\tat com.databricks.logging.AttributionContextTracing.withAttributionTags(AttributionContextTracing.scala:95)\n",
       "\tat com.databricks.logging.AttributionContextTracing.withAttributionTags$(AttributionContextTracing.scala:76)\n",
       "\tat com.databricks.rpc.ServerBackend.withAttributionTags(ServerBackend.scala:22)\n",
       "\tat com.databricks.logging.UsageLogging.recordOperationWithResultTags(UsageLogging.scala:631)\n",
       "\tat com.databricks.logging.UsageLogging.recordOperationWithResultTags$(UsageLogging.scala:541)\n",
       "\tat com.databricks.rpc.ServerBackend.recordOperationWithResultTags(ServerBackend.scala:22)\n",
       "\tat com.databricks.spark.chauffeur.Chauffeur$$anon$1$$anonfun$receive$1.handleDriverRequestWithUsageLogging$1(Chauffeur.scala:812)\n",
       "\tat com.databricks.spark.chauffeur.Chauffeur$$anon$1$$anonfun$receive$1.applyOrElse(Chauffeur.scala:867)\n",
       "\tat com.databricks.spark.chauffeur.Chauffeur$$anon$1$$anonfun$receive$1.applyOrElse(Chauffeur.scala:660)\n",
       "\tat com.databricks.rpc.ServerBackend.$anonfun$internalReceive0$2(ServerBackend.scala:174)\n",
       "\tat com.databricks.rpc.ServerBackend$$anonfun$commonReceive$1.applyOrElse(ServerBackend.scala:200)\n",
       "\tat com.databricks.rpc.ServerBackend$$anonfun$commonReceive$1.applyOrElse(ServerBackend.scala:200)\n",
       "\tat com.databricks.rpc.ServerBackend.internalReceive0(ServerBackend.scala:171)\n",
       "\tat com.databricks.rpc.ServerBackend.$anonfun$internalReceive$1(ServerBackend.scala:147)\n",
       "\tat com.databricks.logging.UsageLogging.$anonfun$recordOperation$1(UsageLogging.scala:532)\n",
       "\tat com.databricks.logging.UsageLogging.executeThunkAndCaptureResultTags$1(UsageLogging.scala:636)\n",
       "\tat com.databricks.logging.UsageLogging.$anonfun$recordOperationWithResultTags$4(UsageLogging.scala:654)\n",
       "\tat com.databricks.logging.AttributionContextTracing.$anonfun$withAttributionContext$1(AttributionContextTracing.scala:48)\n",
       "\tat com.databricks.logging.AttributionContext$.$anonfun$withValue$1(AttributionContext.scala:253)\n",
       "\tat scala.util.DynamicVariable.withValue(DynamicVariable.scala:62)\n",
       "\tat com.databricks.logging.AttributionContext$.withValue(AttributionContext.scala:249)\n",
       "\tat com.databricks.logging.AttributionContextTracing.withAttributionContext(AttributionContextTracing.scala:46)\n",
       "\tat com.databricks.logging.AttributionContextTracing.withAttributionContext$(AttributionContextTracing.scala:43)\n",
       "\tat com.databricks.rpc.ServerBackend.withAttributionContext(ServerBackend.scala:22)\n",
       "\tat com.databricks.logging.AttributionContextTracing.withAttributionTags(AttributionContextTracing.scala:95)\n",
       "\tat com.databricks.logging.AttributionContextTracing.withAttributionTags$(AttributionContextTracing.scala:76)\n",
       "\tat com.databricks.rpc.ServerBackend.withAttributionTags(ServerBackend.scala:22)\n",
       "\tat com.databricks.logging.UsageLogging.recordOperationWithResultTags(UsageLogging.scala:631)\n",
       "\tat com.databricks.logging.UsageLogging.recordOperationWithResultTags$(UsageLogging.scala:541)\n",
       "\tat com.databricks.rpc.ServerBackend.recordOperationWithResultTags(ServerBackend.scala:22)\n",
       "\tat com.databricks.logging.UsageLogging.recordOperation(UsageLogging.scala:533)\n",
       "\tat com.databricks.logging.UsageLogging.recordOperation$(UsageLogging.scala:501)\n",
       "\tat com.databricks.rpc.ServerBackend.recordOperation(ServerBackend.scala:22)\n",
       "\tat com.databricks.rpc.ServerBackend.internalReceive(ServerBackend.scala:146)\n",
       "\tat com.databricks.rpc.JettyServer$RequestManager.handleRPC(JettyServer.scala:1021)\n",
       "\tat com.databricks.rpc.JettyServer$RequestManager.handleRequestAndRespond(JettyServer.scala:942)\n",
       "\tat com.databricks.rpc.JettyServer$RequestManager.$anonfun$handleHttp$6(JettyServer.scala:546)\n",
       "\tat com.databricks.rpc.JettyServer$RequestManager.$anonfun$handleHttp$6$adapted(JettyServer.scala:515)\n",
       "\tat com.databricks.logging.activity.ActivityContextFactory$.$anonfun$withActivityInternal$6(ActivityContextFactory.scala:549)\n",
       "\tat com.databricks.logging.AttributionContextTracing.$anonfun$withAttributionContext$1(AttributionContextTracing.scala:48)\n",
       "\tat com.databricks.logging.AttributionContext$.$anonfun$withValue$1(AttributionContext.scala:253)\n",
       "\tat scala.util.DynamicVariable.withValue(DynamicVariable.scala:62)\n",
       "\tat com.databricks.logging.AttributionContext$.withValue(AttributionContext.scala:249)\n",
       "\tat com.databricks.logging.AttributionContextTracing.withAttributionContext(AttributionContextTracing.scala:46)\n",
       "\tat com.databricks.logging.AttributionContextTracing.withAttributionContext$(AttributionContextTracing.scala:43)\n",
       "\tat com.databricks.logging.activity.ActivityContextFactory$.withAttributionContext(ActivityContextFactory.scala:57)\n",
       "\tat com.databricks.logging.activity.ActivityContextFactory$.$anonfun$withActivityInternal$3(ActivityContextFactory.scala:549)\n",
       "\tat com.databricks.context.integrity.IntegrityCheckContext$ThreadLocalStorage$.withValue(IntegrityCheckContext.scala:73)\n",
       "\tat com.databricks.logging.activity.ActivityContextFactory$.withActivityInternal(ActivityContextFactory.scala:527)\n",
       "\tat com.databricks.logging.activity.ActivityContextFactory$.withServiceRequestActivity(ActivityContextFactory.scala:178)\n",
       "\tat com.databricks.rpc.JettyServer$RequestManager.handleHttp(JettyServer.scala:515)\n",
       "\tat com.databricks.rpc.JettyServer$RequestManager.doPost(JettyServer.scala:405)\n",
       "\tat javax.servlet.http.HttpServlet.service(HttpServlet.java:665)\n",
       "\tat com.databricks.rpc.HttpServletWithPatch.service(HttpServletWithPatch.scala:33)\n",
       "\tat javax.servlet.http.HttpServlet.service(HttpServlet.java:750)\n",
       "\tat org.eclipse.jetty.servlet.ServletHolder.handle(ServletHolder.java:799)\n",
       "\tat org.eclipse.jetty.servlet.ServletHandler.doHandle(ServletHandler.java:554)\n",
       "\tat org.eclipse.jetty.server.handler.ScopedHandler.nextScope(ScopedHandler.java:190)\n",
       "\tat org.eclipse.jetty.servlet.ServletHandler.doScope(ServletHandler.java:505)\n",
       "\tat org.eclipse.jetty.server.handler.ScopedHandler.handle(ScopedHandler.java:141)\n",
       "\tat org.eclipse.jetty.server.handler.HandlerWrapper.handle(HandlerWrapper.java:127)\n",
       "\tat org.eclipse.jetty.server.Server.handle(Server.java:516)\n",
       "\tat org.eclipse.jetty.server.HttpChannel.lambda$handle$1(HttpChannel.java:487)\n",
       "\tat org.eclipse.jetty.server.HttpChannel.dispatch(HttpChannel.java:732)\n",
       "\tat org.eclipse.jetty.server.HttpChannel.handle(HttpChannel.java:479)\n",
       "\tat org.eclipse.jetty.server.HttpConnection.onFillable(HttpConnection.java:277)\n",
       "\tat org.eclipse.jetty.io.AbstractConnection$ReadCallback.succeeded(AbstractConnection.java:311)\n",
       "\tat org.eclipse.jetty.io.FillInterest.fillable(FillInterest.java:105)\n",
       "\tat org.eclipse.jetty.io.ssl.SslConnection$DecryptedEndPoint.onFillable(SslConnection.java:555)\n",
       "\tat org.eclipse.jetty.io.ssl.SslConnection.onFillable(SslConnection.java:410)\n",
       "\tat org.eclipse.jetty.io.ssl.SslConnection$2.succeeded(SslConnection.java:164)\n",
       "\tat org.eclipse.jetty.io.FillInterest.fillable(FillInterest.java:105)\n",
       "\tat org.eclipse.jetty.io.ChannelEndPoint$1.run(ChannelEndPoint.java:104)\n",
       "\tat org.eclipse.jetty.util.thread.strategy.EatWhatYouKill.runTask(EatWhatYouKill.java:338)\n",
       "\tat org.eclipse.jetty.util.thread.strategy.EatWhatYouKill.doProduce(EatWhatYouKill.java:315)\n",
       "\tat org.eclipse.jetty.util.thread.strategy.EatWhatYouKill.tryProduce(EatWhatYouKill.java:173)\n",
       "\tat org.eclipse.jetty.util.thread.strategy.EatWhatYouKill.run(EatWhatYouKill.java:131)\n",
       "\tat org.eclipse.jetty.util.thread.ReservedThreadExecutor$ReservedThread.run(ReservedThreadExecutor.java:409)\n",
       "\tat com.databricks.rpc.InstrumentedQueuedThreadPool$$anon$1.$anonfun$run$2(InstrumentedQueuedThreadPool.scala:107)\n",
       "\tat scala.runtime.java8.JFunction0$mcV$sp.apply(JFunction0$mcV$sp.java:23)\n",
       "\tat com.databricks.logging.AttributionContextTracing.$anonfun$withAttributionContext$1(AttributionContextTracing.scala:48)\n",
       "\tat com.databricks.logging.AttributionContext$.$anonfun$withValue$1(AttributionContext.scala:253)\n",
       "\tat scala.util.DynamicVariable.withValue(DynamicVariable.scala:62)\n",
       "\tat com.databricks.logging.AttributionContext$.withValue(AttributionContext.scala:249)\n",
       "\tat com.databricks.logging.AttributionContextTracing.withAttributionContext(AttributionContextTracing.scala:46)\n",
       "\tat com.databricks.logging.AttributionContextTracing.withAttributionContext$(AttributionContextTracing.scala:43)\n",
       "\tat com.databricks.rpc.InstrumentedQueuedThreadPool.withAttributionContext(InstrumentedQueuedThreadPool.scala:46)\n",
       "\tat com.databricks.rpc.InstrumentedQueuedThreadPool$$anon$1.$anonfun$run$1(InstrumentedQueuedThreadPool.scala:107)\n",
       "\tat scala.runtime.java8.JFunction0$mcV$sp.apply(JFunction0$mcV$sp.java:23)\n",
       "\tat com.databricks.instrumentation.QueuedThreadPoolInstrumenter.trackActiveThreads(QueuedThreadPoolInstrumenter.scala:110)\n",
       "\tat com.databricks.instrumentation.QueuedThreadPoolInstrumenter.trackActiveThreads$(QueuedThreadPoolInstrumenter.scala:107)\n",
       "\tat com.databricks.rpc.InstrumentedQueuedThreadPool.trackActiveThreads(InstrumentedQueuedThreadPool.scala:46)\n",
       "\tat com.databricks.rpc.InstrumentedQueuedThreadPool$$anon$1.run(InstrumentedQueuedThreadPool.scala:89)\n",
       "\tat org.eclipse.jetty.util.thread.QueuedThreadPool.runJob(QueuedThreadPool.java:883)\n",
       "\tat org.eclipse.jetty.util.thread.QueuedThreadPool$Runner.run(QueuedThreadPool.java:1034)\n",
       "\tat java.lang.Thread.run(Thread.java:750)"
      ]
     },
     "metadata": {
      "application/vnd.databricks.v1+output": {
       "addedWidgets": {},
       "arguments": {},
       "datasetInfos": [],
       "jupyterProps": null,
       "metadata": {
        "errorSummary": "Cancelled"
       },
       "removedWidgets": [],
       "sqlProps": null,
       "stackFrames": [
        "com.databricks.backend.common.rpc.CommandCancelledException",
        "\tat com.databricks.spark.chauffeur.SequenceExecutionState.$anonfun$cancel$5(SequenceExecutionState.scala:136)",
        "\tat scala.Option.getOrElse(Option.scala:189)",
        "\tat com.databricks.spark.chauffeur.SequenceExecutionState.$anonfun$cancel$3(SequenceExecutionState.scala:136)",
        "\tat com.databricks.spark.chauffeur.SequenceExecutionState.$anonfun$cancel$3$adapted(SequenceExecutionState.scala:133)",
        "\tat scala.collection.immutable.Range.foreach(Range.scala:158)",
        "\tat com.databricks.spark.chauffeur.SequenceExecutionState.cancel(SequenceExecutionState.scala:133)",
        "\tat com.databricks.spark.chauffeur.ExecContextState.cancelRunningSequence(ExecContextState.scala:729)",
        "\tat com.databricks.spark.chauffeur.ExecContextState.$anonfun$cancel$1(ExecContextState.scala:447)",
        "\tat scala.Option.getOrElse(Option.scala:189)",
        "\tat com.databricks.spark.chauffeur.ExecContextState.cancel(ExecContextState.scala:447)",
        "\tat com.databricks.spark.chauffeur.ChauffeurState.cancelExecution(ChauffeurState.scala:1272)",
        "\tat com.databricks.spark.chauffeur.ChauffeurState.$anonfun$process$1(ChauffeurState.scala:987)",
        "\tat com.databricks.logging.UsageLogging.$anonfun$recordOperation$1(UsageLogging.scala:532)",
        "\tat com.databricks.logging.UsageLogging.executeThunkAndCaptureResultTags$1(UsageLogging.scala:636)",
        "\tat com.databricks.logging.UsageLogging.$anonfun$recordOperationWithResultTags$4(UsageLogging.scala:654)",
        "\tat com.databricks.logging.AttributionContextTracing.$anonfun$withAttributionContext$1(AttributionContextTracing.scala:48)",
        "\tat com.databricks.logging.AttributionContext$.$anonfun$withValue$1(AttributionContext.scala:253)",
        "\tat scala.util.DynamicVariable.withValue(DynamicVariable.scala:62)",
        "\tat com.databricks.logging.AttributionContext$.withValue(AttributionContext.scala:249)",
        "\tat com.databricks.logging.AttributionContextTracing.withAttributionContext(AttributionContextTracing.scala:46)",
        "\tat com.databricks.logging.AttributionContextTracing.withAttributionContext$(AttributionContextTracing.scala:43)",
        "\tat com.databricks.spark.chauffeur.ChauffeurState.withAttributionContext(ChauffeurState.scala:68)",
        "\tat com.databricks.logging.AttributionContextTracing.withAttributionTags(AttributionContextTracing.scala:95)",
        "\tat com.databricks.logging.AttributionContextTracing.withAttributionTags$(AttributionContextTracing.scala:76)",
        "\tat com.databricks.spark.chauffeur.ChauffeurState.withAttributionTags(ChauffeurState.scala:68)",
        "\tat com.databricks.logging.UsageLogging.recordOperationWithResultTags(UsageLogging.scala:631)",
        "\tat com.databricks.logging.UsageLogging.recordOperationWithResultTags$(UsageLogging.scala:541)",
        "\tat com.databricks.spark.chauffeur.ChauffeurState.recordOperationWithResultTags(ChauffeurState.scala:68)",
        "\tat com.databricks.logging.UsageLogging.recordOperation(UsageLogging.scala:533)",
        "\tat com.databricks.logging.UsageLogging.recordOperation$(UsageLogging.scala:501)",
        "\tat com.databricks.spark.chauffeur.ChauffeurState.recordOperation(ChauffeurState.scala:68)",
        "\tat com.databricks.spark.chauffeur.ChauffeurState.process(ChauffeurState.scala:947)",
        "\tat com.databricks.spark.chauffeur.Chauffeur$$anon$1$$anonfun$receive$1.handleDriverRequest$1(Chauffeur.scala:787)",
        "\tat com.databricks.spark.chauffeur.Chauffeur$$anon$1$$anonfun$receive$1.$anonfun$applyOrElse$5(Chauffeur.scala:813)",
        "\tat com.databricks.logging.UsageLogging.executeThunkAndCaptureResultTags$1(UsageLogging.scala:636)",
        "\tat com.databricks.logging.UsageLogging.$anonfun$recordOperationWithResultTags$4(UsageLogging.scala:654)",
        "\tat com.databricks.logging.AttributionContextTracing.$anonfun$withAttributionContext$1(AttributionContextTracing.scala:48)",
        "\tat com.databricks.logging.AttributionContext$.$anonfun$withValue$1(AttributionContext.scala:253)",
        "\tat scala.util.DynamicVariable.withValue(DynamicVariable.scala:62)",
        "\tat com.databricks.logging.AttributionContext$.withValue(AttributionContext.scala:249)",
        "\tat com.databricks.logging.AttributionContextTracing.withAttributionContext(AttributionContextTracing.scala:46)",
        "\tat com.databricks.logging.AttributionContextTracing.withAttributionContext$(AttributionContextTracing.scala:43)",
        "\tat com.databricks.rpc.ServerBackend.withAttributionContext(ServerBackend.scala:22)",
        "\tat com.databricks.logging.AttributionContextTracing.withAttributionTags(AttributionContextTracing.scala:95)",
        "\tat com.databricks.logging.AttributionContextTracing.withAttributionTags$(AttributionContextTracing.scala:76)",
        "\tat com.databricks.rpc.ServerBackend.withAttributionTags(ServerBackend.scala:22)",
        "\tat com.databricks.logging.UsageLogging.recordOperationWithResultTags(UsageLogging.scala:631)",
        "\tat com.databricks.logging.UsageLogging.recordOperationWithResultTags$(UsageLogging.scala:541)",
        "\tat com.databricks.rpc.ServerBackend.recordOperationWithResultTags(ServerBackend.scala:22)",
        "\tat com.databricks.spark.chauffeur.Chauffeur$$anon$1$$anonfun$receive$1.handleDriverRequestWithUsageLogging$1(Chauffeur.scala:812)",
        "\tat com.databricks.spark.chauffeur.Chauffeur$$anon$1$$anonfun$receive$1.applyOrElse(Chauffeur.scala:867)",
        "\tat com.databricks.spark.chauffeur.Chauffeur$$anon$1$$anonfun$receive$1.applyOrElse(Chauffeur.scala:660)",
        "\tat com.databricks.rpc.ServerBackend.$anonfun$internalReceive0$2(ServerBackend.scala:174)",
        "\tat com.databricks.rpc.ServerBackend$$anonfun$commonReceive$1.applyOrElse(ServerBackend.scala:200)",
        "\tat com.databricks.rpc.ServerBackend$$anonfun$commonReceive$1.applyOrElse(ServerBackend.scala:200)",
        "\tat com.databricks.rpc.ServerBackend.internalReceive0(ServerBackend.scala:171)",
        "\tat com.databricks.rpc.ServerBackend.$anonfun$internalReceive$1(ServerBackend.scala:147)",
        "\tat com.databricks.logging.UsageLogging.$anonfun$recordOperation$1(UsageLogging.scala:532)",
        "\tat com.databricks.logging.UsageLogging.executeThunkAndCaptureResultTags$1(UsageLogging.scala:636)",
        "\tat com.databricks.logging.UsageLogging.$anonfun$recordOperationWithResultTags$4(UsageLogging.scala:654)",
        "\tat com.databricks.logging.AttributionContextTracing.$anonfun$withAttributionContext$1(AttributionContextTracing.scala:48)",
        "\tat com.databricks.logging.AttributionContext$.$anonfun$withValue$1(AttributionContext.scala:253)",
        "\tat scala.util.DynamicVariable.withValue(DynamicVariable.scala:62)",
        "\tat com.databricks.logging.AttributionContext$.withValue(AttributionContext.scala:249)",
        "\tat com.databricks.logging.AttributionContextTracing.withAttributionContext(AttributionContextTracing.scala:46)",
        "\tat com.databricks.logging.AttributionContextTracing.withAttributionContext$(AttributionContextTracing.scala:43)",
        "\tat com.databricks.rpc.ServerBackend.withAttributionContext(ServerBackend.scala:22)",
        "\tat com.databricks.logging.AttributionContextTracing.withAttributionTags(AttributionContextTracing.scala:95)",
        "\tat com.databricks.logging.AttributionContextTracing.withAttributionTags$(AttributionContextTracing.scala:76)",
        "\tat com.databricks.rpc.ServerBackend.withAttributionTags(ServerBackend.scala:22)",
        "\tat com.databricks.logging.UsageLogging.recordOperationWithResultTags(UsageLogging.scala:631)",
        "\tat com.databricks.logging.UsageLogging.recordOperationWithResultTags$(UsageLogging.scala:541)",
        "\tat com.databricks.rpc.ServerBackend.recordOperationWithResultTags(ServerBackend.scala:22)",
        "\tat com.databricks.logging.UsageLogging.recordOperation(UsageLogging.scala:533)",
        "\tat com.databricks.logging.UsageLogging.recordOperation$(UsageLogging.scala:501)",
        "\tat com.databricks.rpc.ServerBackend.recordOperation(ServerBackend.scala:22)",
        "\tat com.databricks.rpc.ServerBackend.internalReceive(ServerBackend.scala:146)",
        "\tat com.databricks.rpc.JettyServer$RequestManager.handleRPC(JettyServer.scala:1021)",
        "\tat com.databricks.rpc.JettyServer$RequestManager.handleRequestAndRespond(JettyServer.scala:942)",
        "\tat com.databricks.rpc.JettyServer$RequestManager.$anonfun$handleHttp$6(JettyServer.scala:546)",
        "\tat com.databricks.rpc.JettyServer$RequestManager.$anonfun$handleHttp$6$adapted(JettyServer.scala:515)",
        "\tat com.databricks.logging.activity.ActivityContextFactory$.$anonfun$withActivityInternal$6(ActivityContextFactory.scala:549)",
        "\tat com.databricks.logging.AttributionContextTracing.$anonfun$withAttributionContext$1(AttributionContextTracing.scala:48)",
        "\tat com.databricks.logging.AttributionContext$.$anonfun$withValue$1(AttributionContext.scala:253)",
        "\tat scala.util.DynamicVariable.withValue(DynamicVariable.scala:62)",
        "\tat com.databricks.logging.AttributionContext$.withValue(AttributionContext.scala:249)",
        "\tat com.databricks.logging.AttributionContextTracing.withAttributionContext(AttributionContextTracing.scala:46)",
        "\tat com.databricks.logging.AttributionContextTracing.withAttributionContext$(AttributionContextTracing.scala:43)",
        "\tat com.databricks.logging.activity.ActivityContextFactory$.withAttributionContext(ActivityContextFactory.scala:57)",
        "\tat com.databricks.logging.activity.ActivityContextFactory$.$anonfun$withActivityInternal$3(ActivityContextFactory.scala:549)",
        "\tat com.databricks.context.integrity.IntegrityCheckContext$ThreadLocalStorage$.withValue(IntegrityCheckContext.scala:73)",
        "\tat com.databricks.logging.activity.ActivityContextFactory$.withActivityInternal(ActivityContextFactory.scala:527)",
        "\tat com.databricks.logging.activity.ActivityContextFactory$.withServiceRequestActivity(ActivityContextFactory.scala:178)",
        "\tat com.databricks.rpc.JettyServer$RequestManager.handleHttp(JettyServer.scala:515)",
        "\tat com.databricks.rpc.JettyServer$RequestManager.doPost(JettyServer.scala:405)",
        "\tat javax.servlet.http.HttpServlet.service(HttpServlet.java:665)",
        "\tat com.databricks.rpc.HttpServletWithPatch.service(HttpServletWithPatch.scala:33)",
        "\tat javax.servlet.http.HttpServlet.service(HttpServlet.java:750)",
        "\tat org.eclipse.jetty.servlet.ServletHolder.handle(ServletHolder.java:799)",
        "\tat org.eclipse.jetty.servlet.ServletHandler.doHandle(ServletHandler.java:554)",
        "\tat org.eclipse.jetty.server.handler.ScopedHandler.nextScope(ScopedHandler.java:190)",
        "\tat org.eclipse.jetty.servlet.ServletHandler.doScope(ServletHandler.java:505)",
        "\tat org.eclipse.jetty.server.handler.ScopedHandler.handle(ScopedHandler.java:141)",
        "\tat org.eclipse.jetty.server.handler.HandlerWrapper.handle(HandlerWrapper.java:127)",
        "\tat org.eclipse.jetty.server.Server.handle(Server.java:516)",
        "\tat org.eclipse.jetty.server.HttpChannel.lambda$handle$1(HttpChannel.java:487)",
        "\tat org.eclipse.jetty.server.HttpChannel.dispatch(HttpChannel.java:732)",
        "\tat org.eclipse.jetty.server.HttpChannel.handle(HttpChannel.java:479)",
        "\tat org.eclipse.jetty.server.HttpConnection.onFillable(HttpConnection.java:277)",
        "\tat org.eclipse.jetty.io.AbstractConnection$ReadCallback.succeeded(AbstractConnection.java:311)",
        "\tat org.eclipse.jetty.io.FillInterest.fillable(FillInterest.java:105)",
        "\tat org.eclipse.jetty.io.ssl.SslConnection$DecryptedEndPoint.onFillable(SslConnection.java:555)",
        "\tat org.eclipse.jetty.io.ssl.SslConnection.onFillable(SslConnection.java:410)",
        "\tat org.eclipse.jetty.io.ssl.SslConnection$2.succeeded(SslConnection.java:164)",
        "\tat org.eclipse.jetty.io.FillInterest.fillable(FillInterest.java:105)",
        "\tat org.eclipse.jetty.io.ChannelEndPoint$1.run(ChannelEndPoint.java:104)",
        "\tat org.eclipse.jetty.util.thread.strategy.EatWhatYouKill.runTask(EatWhatYouKill.java:338)",
        "\tat org.eclipse.jetty.util.thread.strategy.EatWhatYouKill.doProduce(EatWhatYouKill.java:315)",
        "\tat org.eclipse.jetty.util.thread.strategy.EatWhatYouKill.tryProduce(EatWhatYouKill.java:173)",
        "\tat org.eclipse.jetty.util.thread.strategy.EatWhatYouKill.run(EatWhatYouKill.java:131)",
        "\tat org.eclipse.jetty.util.thread.ReservedThreadExecutor$ReservedThread.run(ReservedThreadExecutor.java:409)",
        "\tat com.databricks.rpc.InstrumentedQueuedThreadPool$$anon$1.$anonfun$run$2(InstrumentedQueuedThreadPool.scala:107)",
        "\tat scala.runtime.java8.JFunction0$mcV$sp.apply(JFunction0$mcV$sp.java:23)",
        "\tat com.databricks.logging.AttributionContextTracing.$anonfun$withAttributionContext$1(AttributionContextTracing.scala:48)",
        "\tat com.databricks.logging.AttributionContext$.$anonfun$withValue$1(AttributionContext.scala:253)",
        "\tat scala.util.DynamicVariable.withValue(DynamicVariable.scala:62)",
        "\tat com.databricks.logging.AttributionContext$.withValue(AttributionContext.scala:249)",
        "\tat com.databricks.logging.AttributionContextTracing.withAttributionContext(AttributionContextTracing.scala:46)",
        "\tat com.databricks.logging.AttributionContextTracing.withAttributionContext$(AttributionContextTracing.scala:43)",
        "\tat com.databricks.rpc.InstrumentedQueuedThreadPool.withAttributionContext(InstrumentedQueuedThreadPool.scala:46)",
        "\tat com.databricks.rpc.InstrumentedQueuedThreadPool$$anon$1.$anonfun$run$1(InstrumentedQueuedThreadPool.scala:107)",
        "\tat scala.runtime.java8.JFunction0$mcV$sp.apply(JFunction0$mcV$sp.java:23)",
        "\tat com.databricks.instrumentation.QueuedThreadPoolInstrumenter.trackActiveThreads(QueuedThreadPoolInstrumenter.scala:110)",
        "\tat com.databricks.instrumentation.QueuedThreadPoolInstrumenter.trackActiveThreads$(QueuedThreadPoolInstrumenter.scala:107)",
        "\tat com.databricks.rpc.InstrumentedQueuedThreadPool.trackActiveThreads(InstrumentedQueuedThreadPool.scala:46)",
        "\tat com.databricks.rpc.InstrumentedQueuedThreadPool$$anon$1.run(InstrumentedQueuedThreadPool.scala:89)",
        "\tat org.eclipse.jetty.util.thread.QueuedThreadPool.runJob(QueuedThreadPool.java:883)",
        "\tat org.eclipse.jetty.util.thread.QueuedThreadPool$Runner.run(QueuedThreadPool.java:1034)",
        "\tat java.lang.Thread.run(Thread.java:750)"
       ],
       "type": "baseError"
      }
     },
     "output_type": "display_data"
    }
   ],
   "source": [
    "# 4. Fit the Cross-Validator:\n",
    "# Fit the cross-validator to the training data\n",
    "cv_model = crossval.fit(train_tfidf_df)\n",
    "\n",
    "# Get the best model from cross-validation\n",
    "best_model = cv_model.bestModel\n",
    "\n",
    "print(\"Best Model:\")\n",
    "print(best_model)"
   ]
  },
  {
   "cell_type": "code",
   "execution_count": null,
   "metadata": {
    "application/vnd.databricks.v1+cell": {
     "cellMetadata": {},
     "inputWidgets": {},
     "nuid": "6027f6f3-3eb7-4f6e-9c64-21d9a8455446",
     "showTitle": false,
     "title": ""
    }
   },
   "outputs": [],
   "source": [
    "# 5. Evaluate the Best Model:\n",
    "# Make predictions on the test set\n",
    "best_predictions = best_model.transform(test_tfidf_df)\n",
    "\n",
    "# Evaluate the best model\n",
    "rf_accuracy_best = evaluator.evaluate(best_predictions)\n",
    "print(f\"Test set accuracy of best model = {rf_accuracy_best}\")\n",
    "\n",
    "from pyspark.mllib.evaluation import MulticlassMetrics\n",
    "from pyspark.sql.functions import col\n",
    "\n",
    "# Confusion Matrix\n",
    "best_metrics = MulticlassMetrics(best_predictions.select(col(\"prediction\").cast(\"double\"), col(\"target\").cast(\"double\")).rdd)\n",
    "confusion_matrix_best = best_metrics.confusionMatrix().toArray()\n",
    "print(\"Best Model Confusion Matrix:\")\n",
    "print(confusion_matrix_best)\n",
    "\n",
    "# Precision\n",
    "precision_best = best_metrics.precision(1.0)\n",
    "print(f\"Precision of best model: {precision_best}\")\n",
    "\n",
    "# Recall\n",
    "recall_best = best_metrics.recall(1.0)\n",
    "print(f\"Recall of best model: {recall_best}\")\n",
    "\n",
    "# F1-Score\n",
    "f1_score_best = best_metrics.fMeasure(1.0)\n",
    "print(f\"F1-Score of best model: {f1_score_best}\")\n",
    "\n",
    "# Specificity (For Binary Classification)\n",
    "tn_best = confusion_matrix_best[0][0]\n",
    "fp_best = confusion_matrix_best[0][1]\n",
    "specificity_best = tn_best / (tn_best + fp_best)\n",
    "print(f\"Specificity of best model: {specificity_best}\")\n",
    "\n",
    "# ROC AUC\n",
    "from pyspark.ml.evaluation import BinaryClassificationEvaluator\n",
    "import pandas as pd\n",
    "import matplotlib.pyplot as plt\n",
    "\n",
    "evaluator_auc = BinaryClassificationEvaluator(labelCol=\"target\", rawPredictionCol=\"rawPrediction\", metricName=\"areaUnderROC\")\n",
    "auc_best = evaluator_auc.evaluate(best_predictions)\n",
    "print(f\"AUC of best model: {auc_best}\")\n",
    "\n",
    "# ROC Curve\n",
    "prob_labels_best = best_predictions.select(\"probability\", \"target\")\n",
    "prob_labels_pd_best = prob_labels_best.toPandas()\n",
    "prob_labels_pd_best['probability'] = prob_labels_pd_best['probability'].apply(lambda x: x[1])\n",
    "prob_labels_pd_best = prob_labels_pd_best.sort_values(by='probability', ascending=False)\n",
    "\n",
    "# Calculate TPR and FPR\n",
    "TPR_best = []\n",
    "FPR_best = []\n",
    "P_best = sum(prob_labels_pd_best['target'])\n",
    "N_best = len(prob_labels_pd_best['target']) - P_best\n",
    "tp_best = 0\n",
    "fp_best = 0\n",
    "\n",
    "for i in range(len(prob_labels_pd_best)):\n",
    "    if prob_labels_pd_best.iloc[i]['target'] == 1:\n",
    "        tp_best += 1\n",
    "    else:\n",
    "        fp_best += 1\n",
    "    TPR_best.append(tp_best / P_best)\n",
    "    FPR_best.append(fp_best / N_best)\n",
    "\n",
    "# Plotting the ROC Curve\n",
    "plt.figure(figsize=(8, 6))\n",
    "plt.plot(FPR_best, TPR_best, label=f'ROC curve (area = {auc_best:.2f})')\n",
    "plt.plot([0, 1], [0, 1], 'k--')  # Diagonal line for random classifier\n",
    "plt.xlabel('False Positive Rate')\n",
    "plt.ylabel('True Positive Rate')\n",
    "plt.title('ROC Curve for Best Random Forest Model')\n",
    "plt.legend(loc=\"lower right\")\n",
    "plt.show()"
   ]
  },
  {
   "cell_type": "code",
   "execution_count": null,
   "metadata": {
    "application/vnd.databricks.v1+cell": {
     "cellMetadata": {},
     "inputWidgets": {},
     "nuid": "e03a55ba-0b96-4cf0-9189-da7f698b46ea",
     "showTitle": false,
     "title": ""
    }
   },
   "outputs": [],
   "source": []
  },
  {
   "cell_type": "markdown",
   "metadata": {
    "application/vnd.databricks.v1+cell": {
     "cellMetadata": {},
     "inputWidgets": {},
     "nuid": "9dc56fa8-332b-4204-83b1-51b3d9c0eee3",
     "showTitle": false,
     "title": ""
    }
   },
   "source": [
    "# SVM"
   ]
  },
  {
   "cell_type": "code",
   "execution_count": null,
   "metadata": {
    "application/vnd.databricks.v1+cell": {
     "cellMetadata": {
      "byteLimit": 2048000,
      "rowLimit": 10000
     },
     "inputWidgets": {},
     "nuid": "fde9875e-eff5-4d76-ad28-e27757f2e501",
     "showTitle": false,
     "title": ""
    }
   },
   "outputs": [],
   "source": [
    "from pyspark.ml import Pipeline\n",
    "from pyspark.ml.evaluation import MulticlassClassificationEvaluator\n",
    "from pyspark.ml.classification import LinearSVC"
   ]
  },
  {
   "cell_type": "code",
   "execution_count": null,
   "metadata": {
    "application/vnd.databricks.v1+cell": {
     "cellMetadata": {
      "byteLimit": 2048000,
      "rowLimit": 10000
     },
     "inputWidgets": {},
     "nuid": "ee66e4e6-945f-498a-9bfe-b692af86195b",
     "showTitle": false,
     "title": ""
    }
   },
   "outputs": [],
   "source": [
    "# Initialize SVM Classifier\n",
    "svm = LinearSVC(labelCol=\"target\", featuresCol=\"features\", maxIter=100)"
   ]
  },
  {
   "cell_type": "code",
   "execution_count": null,
   "metadata": {
    "application/vnd.databricks.v1+cell": {
     "cellMetadata": {
      "byteLimit": 2048000,
      "rowLimit": 10000
     },
     "inputWidgets": {},
     "nuid": "45aeea22-91da-4066-afeb-31d544d5ae87",
     "showTitle": false,
     "title": ""
    }
   },
   "outputs": [
    {
     "data": {
      "application/vnd.jupyter.widget-view+json": {
       "model_id": "21d9c239d9f84178a8e7383a8c626383",
       "version_major": 2,
       "version_minor": 0
      },
      "text/plain": [
       "Downloading artifacts:   0%|          | 0/15 [00:00<?, ?it/s]"
      ]
     },
     "metadata": {},
     "output_type": "display_data"
    },
    {
     "data": {
      "application/vnd.jupyter.widget-view+json": {
       "model_id": "e39b049f5b0145c18a08174e0d5a5fbf",
       "version_major": 2,
       "version_minor": 0
      },
      "text/plain": [
       "Uploading artifacts:   0%|          | 0/4 [00:00<?, ?it/s]"
      ]
     },
     "metadata": {},
     "output_type": "display_data"
    }
   ],
   "source": [
    "# Train the model\n",
    "svm_model = svm.fit(train_tfidf_df)"
   ]
  },
  {
   "cell_type": "code",
   "execution_count": null,
   "metadata": {
    "application/vnd.databricks.v1+cell": {
     "cellMetadata": {
      "byteLimit": 2048000,
      "rowLimit": 10000
     },
     "inputWidgets": {},
     "nuid": "610e0bdd-b763-4bd3-b0e5-95f76ddb75ab",
     "showTitle": false,
     "title": ""
    }
   },
   "outputs": [],
   "source": [
    "# Make predictions\n",
    "predictions = svm_model.transform(test_tfidf_df)"
   ]
  },
  {
   "cell_type": "code",
   "execution_count": null,
   "metadata": {
    "application/vnd.databricks.v1+cell": {
     "cellMetadata": {
      "byteLimit": 2048000,
      "rowLimit": 10000
     },
     "inputWidgets": {},
     "nuid": "cee53783-ff02-41b5-aecf-639b84cf806e",
     "showTitle": false,
     "title": ""
    }
   },
   "outputs": [
    {
     "name": "stdout",
     "output_type": "stream",
     "text": [
      "Test Accuracy = 0.7636093952323335\n"
     ]
    }
   ],
   "source": [
    "# Evaluate the model\n",
    "evaluator = MulticlassClassificationEvaluator(labelCol=\"target\", predictionCol=\"prediction\", metricName=\"accuracy\")\n",
    "accuracy = evaluator.evaluate(predictions)\n",
    "print(f\"Test Accuracy = {accuracy}\")"
   ]
  },
  {
   "cell_type": "code",
   "execution_count": null,
   "metadata": {
    "application/vnd.databricks.v1+cell": {
     "cellMetadata": {},
     "inputWidgets": {},
     "nuid": "04b3e1db-5d96-4f8c-ae6c-752cb54fb419",
     "showTitle": false,
     "title": ""
    }
   },
   "outputs": [],
   "source": []
  },
  {
   "cell_type": "code",
   "execution_count": null,
   "metadata": {
    "application/vnd.databricks.v1+cell": {
     "cellMetadata": {},
     "inputWidgets": {},
     "nuid": "f0de3808-f0b1-40ef-b1bd-ec3e98de7c1f",
     "showTitle": false,
     "title": ""
    }
   },
   "outputs": [],
   "source": []
  }
 ],
 "metadata": {
  "application/vnd.databricks.v1+notebook": {
   "dashboards": [],
   "environmentMetadata": null,
   "language": "python",
   "notebookMetadata": {
    "mostRecentlyExecutedCommandWithImplicitDF": {
     "commandId": 2048454873811362,
     "dataframes": [
      "_sqldf"
     ]
    },
    "pythonIndentUnit": 4
   },
   "notebookName": "Ashay_lemma_TFIDF_without_Normalization-1108 (3)",
   "widgets": {}
  },
  "kernelspec": {
   "display_name": "Python 3 (ipykernel)",
   "language": "python",
   "name": "python3"
  },
  "language_info": {
   "codemirror_mode": {
    "name": "ipython",
    "version": 3
   },
   "file_extension": ".py",
   "mimetype": "text/x-python",
   "name": "python",
   "nbconvert_exporter": "python",
   "pygments_lexer": "ipython3",
   "version": "3.11.9"
  },
  "widgets": {
   "application/vnd.jupyter.widget-state+json": {
    "state": {},
    "version_major": 2,
    "version_minor": 0
   }
  }
 },
 "nbformat": 4,
 "nbformat_minor": 0
}
